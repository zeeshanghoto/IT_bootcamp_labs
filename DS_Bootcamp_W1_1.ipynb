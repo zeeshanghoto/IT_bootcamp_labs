{
  "nbformat": 4,
  "nbformat_minor": 0,
  "metadata": {
    "colab": {
      "provenance": []
    },
    "kernelspec": {
      "name": "python3",
      "display_name": "Python 3"
    },
    "language_info": {
      "name": "python"
    }
  },
  "cells": [
    {
      "cell_type": "markdown",
      "source": [
        "# **DAY 1**"
      ],
      "metadata": {
        "id": "xA54X2sVlmd7"
      }
    },
    {
      "cell_type": "markdown",
      "source": [
        "# **First Program**"
      ],
      "metadata": {
        "id": "s9nEKarIV2Cy"
      }
    },
    {
      "cell_type": "code",
      "execution_count": null,
      "metadata": {
        "id": "Z372Xz1RS69j"
      },
      "outputs": [],
      "source": [
        "print(\"Hello World\")"
      ]
    },
    {
      "cell_type": "markdown",
      "source": [
        "# **Data Types**"
      ],
      "metadata": {
        "id": "8NvDcxVXV7NA"
      }
    },
    {
      "cell_type": "code",
      "source": [
        "hello = 5 #integer\n",
        "\n",
        "float_val = 5.2 #float\n",
        "\n",
        "bool_val = True #boolean\n",
        "\n",
        "string_val = \"5\" #string\n"
      ],
      "metadata": {
        "id": "A6ZZ42Z-V-PQ"
      },
      "execution_count": null,
      "outputs": []
    },
    {
      "cell_type": "markdown",
      "source": [
        "# **How To See Types?**"
      ],
      "metadata": {
        "id": "7xLhFb5uXOyY"
      }
    },
    {
      "cell_type": "code",
      "source": [
        "type(hello)"
      ],
      "metadata": {
        "id": "vvCKCrgoXS_w",
        "colab": {
          "base_uri": "https://localhost:8080/"
        },
        "outputId": "424f2a9b-4e36-41cd-ed2c-f038917c8bff"
      },
      "execution_count": null,
      "outputs": [
        {
          "output_type": "execute_result",
          "data": {
            "text/plain": [
              "int"
            ]
          },
          "metadata": {},
          "execution_count": 3
        }
      ]
    },
    {
      "cell_type": "code",
      "source": [
        "type(float_val)"
      ],
      "metadata": {
        "id": "GXLtlHNXXYav"
      },
      "execution_count": null,
      "outputs": []
    },
    {
      "cell_type": "code",
      "source": [
        "type(bool_val)"
      ],
      "metadata": {
        "id": "Hv5ON7EEXZPH"
      },
      "execution_count": null,
      "outputs": []
    },
    {
      "cell_type": "code",
      "source": [
        "type(string_val)"
      ],
      "metadata": {
        "id": "XbaQYPyrXZgv"
      },
      "execution_count": null,
      "outputs": []
    },
    {
      "cell_type": "markdown",
      "source": [
        "# **BMI Calculation** (BMI = Weight/Height^2)"
      ],
      "metadata": {
        "id": "fwISsXhTXm_4"
      }
    },
    {
      "cell_type": "code",
      "source": [
        "#One meter is approximately equal to 3.281 feet.\n",
        "weight = 70 #kg\n",
        "height = 5.75 #ft"
      ],
      "metadata": {
        "id": "-aCXwB_gXpun"
      },
      "execution_count": null,
      "outputs": []
    },
    {
      "cell_type": "code",
      "source": [
        "print(height)"
      ],
      "metadata": {
        "colab": {
          "base_uri": "https://localhost:8080/"
        },
        "id": "culP65zQLmnM",
        "outputId": "c41a9b46-2e68-4fa9-cec2-916c5d80bf12"
      },
      "execution_count": null,
      "outputs": [
        {
          "output_type": "stream",
          "name": "stdout",
          "text": [
            "5.75\n"
          ]
        }
      ]
    },
    {
      "cell_type": "code",
      "source": [
        "#Conversion of height to meters\n",
        "\n",
        "height = height/3.281\n",
        "\n",
        "# print(height)\n",
        "\n",
        "# bmi = weight/height**2\n",
        "bmi = weight/(height*height)\n",
        "\n",
        "print(\"BMI =\", bmi,'weight = ',weight)"
      ],
      "metadata": {
        "id": "dOEYrlfqYA8u",
        "colab": {
          "base_uri": "https://localhost:8080/"
        },
        "outputId": "1ff816e9-6ec1-4b61-a715-435a79e48a84"
      },
      "execution_count": null,
      "outputs": [
        {
          "output_type": "stream",
          "name": "stdout",
          "text": [
            "BMI = 2641.1905391968457 weight =  70\n"
          ]
        }
      ]
    },
    {
      "cell_type": "code",
      "source": [
        "i = 50*7*2\n",
        "i=i/100\n",
        "i"
      ],
      "metadata": {
        "id": "qC56GszENbjM"
      },
      "execution_count": null,
      "outputs": []
    },
    {
      "cell_type": "markdown",
      "source": [
        "# **User Input**"
      ],
      "metadata": {
        "id": "mZAgf44bYloG"
      }
    },
    {
      "cell_type": "code",
      "source": [
        "value = input(\"Enter Value: \")\n",
        "print(\"Value is\",value)"
      ],
      "metadata": {
        "id": "PkWLtbPvZbwX",
        "colab": {
          "base_uri": "https://localhost:8080/"
        },
        "outputId": "bf499110-df24-4aef-beaa-704b39db09ff"
      },
      "execution_count": null,
      "outputs": [
        {
          "output_type": "stream",
          "name": "stdout",
          "text": [
            "Enter Value: 9\n",
            "Value is 9\n"
          ]
        }
      ]
    },
    {
      "cell_type": "code",
      "source": [
        "#Bill Calculation\n",
        "\n",
        "water_bill = input(\"Enter Water Bill Amount: \")\n",
        "gas_bill = input(\"Enter Gas Bill Amount: \")\n",
        "electricity_bill = input(\"Enter Electricity Bill Amount: \")\n",
        "total_bill = water_bill + gas_bill + electricity_bill\n",
        "\n",
        "#This will give wrong answer, WHY???\n",
        "print(\"Your Total Bill Is:\",total_bill)"
      ],
      "metadata": {
        "id": "cfnLvTEQYoNH",
        "colab": {
          "base_uri": "https://localhost:8080/"
        },
        "outputId": "0881404b-466f-44ca-a3ce-17b25791673a"
      },
      "execution_count": null,
      "outputs": [
        {
          "output_type": "stream",
          "name": "stdout",
          "text": [
            "Enter Water Bill Amount: 1\n",
            "Enter Gas Bill Amount: 2\n",
            "Enter Electricity Bill Amount: 3\n",
            "Your Total Bill Is: 123\n"
          ]
        }
      ]
    },
    {
      "cell_type": "code",
      "source": [
        "message = \"1\" + \"2\" + '3'\n",
        "#Concatenation\n",
        "message"
      ],
      "metadata": {
        "id": "lJIcXaiNahTF",
        "colab": {
          "base_uri": "https://localhost:8080/",
          "height": 35
        },
        "outputId": "7082a0ed-17ac-449b-a1a0-287a6b701018"
      },
      "execution_count": null,
      "outputs": [
        {
          "output_type": "execute_result",
          "data": {
            "text/plain": [
              "'123'"
            ],
            "application/vnd.google.colaboratory.intrinsic+json": {
              "type": "string"
            }
          },
          "metadata": {},
          "execution_count": 12
        }
      ]
    },
    {
      "cell_type": "code",
      "source": [
        "#Bill Calculation Corrected\n",
        "\n",
        "water_bill = int(input(\"Enter Water Bill Amount: \"))\n",
        "gas_bill = int(input(\"Enter Gas Bill Amount: \"))\n",
        "electricity_bill = int(input(\"Enter Electricity Bill Amount: \"))\n",
        "total_bill = water_bill + gas_bill + electricity_bill\n",
        "\n",
        "print(\"Your Total Bill Is:\",float(total_bill))"
      ],
      "metadata": {
        "id": "cgwwmWaWaNTG"
      },
      "execution_count": null,
      "outputs": []
    },
    {
      "cell_type": "markdown",
      "source": [
        "# **String Operations**"
      ],
      "metadata": {
        "id": "V6uw_Grrcdsu"
      }
    },
    {
      "cell_type": "code",
      "source": [
        "str1 = \"Hello\"\n",
        "str2 = \"World\"\n",
        "result = str1 + \"!!!!.. \" + str2\n",
        "print(result)"
      ],
      "metadata": {
        "id": "GDgF6B-0cfg-",
        "colab": {
          "base_uri": "https://localhost:8080/"
        },
        "outputId": "a881b007-6e7b-4234-ba06-850d9d1846da"
      },
      "execution_count": null,
      "outputs": [
        {
          "output_type": "stream",
          "name": "stdout",
          "text": [
            "Hello!!!!.. World\n"
          ]
        }
      ]
    },
    {
      "cell_type": "code",
      "source": [
        "text = \"Python Language\"\n",
        "length = len(text)\n",
        "print(length)"
      ],
      "metadata": {
        "id": "s6lwJnlwclKt",
        "colab": {
          "base_uri": "https://localhost:8080/"
        },
        "outputId": "07e43763-7e7e-4bd9-c39d-cef1a7cb126c"
      },
      "execution_count": null,
      "outputs": [
        {
          "output_type": "stream",
          "name": "stdout",
          "text": [
            "15\n"
          ]
        }
      ]
    },
    {
      "cell_type": "code",
      "source": [
        "text = \"Python\"\n",
        "first_character = text[0]\n",
        "print(first_character)"
      ],
      "metadata": {
        "id": "JiefbHdbcrgu",
        "colab": {
          "base_uri": "https://localhost:8080/"
        },
        "outputId": "0842ee61-f75f-43c2-ef43-33676e474ec4"
      },
      "execution_count": null,
      "outputs": [
        {
          "output_type": "stream",
          "name": "stdout",
          "text": [
            "P\n"
          ]
        }
      ]
    },
    {
      "cell_type": "code",
      "source": [
        "text = \"Python\"\n",
        "sliced_text = text[:4]\n",
        "print(sliced_text)"
      ],
      "metadata": {
        "id": "5VuvWptqcu60",
        "colab": {
          "base_uri": "https://localhost:8080/"
        },
        "outputId": "d1358710-553f-4be2-c5b9-40313b441b72"
      },
      "execution_count": null,
      "outputs": [
        {
          "output_type": "stream",
          "name": "stdout",
          "text": [
            "Pyth\n"
          ]
        }
      ]
    },
    {
      "cell_type": "code",
      "source": [
        "text = \"Python\"\n",
        "uppercase = text.upper()\n",
        "lowercase = text.lower()\n",
        "print(uppercase)\n",
        "print(lowercase)"
      ],
      "metadata": {
        "id": "xJMjY09Hczjd",
        "colab": {
          "base_uri": "https://localhost:8080/"
        },
        "outputId": "3e3dde87-bce8-4bf6-d0d2-ec270e731a29"
      },
      "execution_count": null,
      "outputs": [
        {
          "output_type": "stream",
          "name": "stdout",
          "text": [
            "PYTHON\n",
            "python\n"
          ]
        }
      ]
    },
    {
      "cell_type": "code",
      "source": [
        "sentence = \"Python is awesome\"\n",
        "words = sentence.split()\n",
        "print(words[2])"
      ],
      "metadata": {
        "id": "ex-c2jU-c33t",
        "colab": {
          "base_uri": "https://localhost:8080/"
        },
        "outputId": "e5feb28b-5184-4356-aef8-d21d60c4b1a3"
      },
      "execution_count": null,
      "outputs": [
        {
          "output_type": "stream",
          "name": "stdout",
          "text": [
            "awesome\n"
          ]
        }
      ]
    },
    {
      "cell_type": "code",
      "source": [
        "words = ['Python', 'is', 'awesome']\n",
        "sentence = '.'.join(words)\n",
        "print(sentence)"
      ],
      "metadata": {
        "id": "KFHqWaijdET_",
        "colab": {
          "base_uri": "https://localhost:8080/"
        },
        "outputId": "0ba36c7a-61ff-4dbb-f857-cb7546f36db6"
      },
      "execution_count": null,
      "outputs": [
        {
          "output_type": "stream",
          "name": "stdout",
          "text": [
            "Python.is.awesome\n"
          ]
        }
      ]
    },
    {
      "cell_type": "code",
      "source": [
        "name = \"Nawshrvan\"\n",
        "age = 22\n",
        "formatted_string = \"My name is {} and I am {} years old.\".format(name, age)\n",
        "print(formatted_string)"
      ],
      "metadata": {
        "id": "UKt08ALPdKLV",
        "colab": {
          "base_uri": "https://localhost:8080/"
        },
        "outputId": "97e1a993-af12-4c01-b8c8-c510d6ad540a"
      },
      "execution_count": null,
      "outputs": [
        {
          "output_type": "stream",
          "name": "stdout",
          "text": [
            "My name is Nawshrvan and I am 22 years old.\n"
          ]
        }
      ]
    },
    {
      "cell_type": "code",
      "source": [
        "text = \"Python is awesome\"\n",
        "if \"is\" in text:\n",
        "    print(\"Substring found\")\n",
        "else:\n",
        "  print(\"okay\")"
      ],
      "metadata": {
        "id": "FR4zJREJdVRV",
        "colab": {
          "base_uri": "https://localhost:8080/"
        },
        "outputId": "b843d1e6-2897-4495-ae81-01eb0e4a2113"
      },
      "execution_count": null,
      "outputs": [
        {
          "output_type": "stream",
          "name": "stdout",
          "text": [
            "Substring found\n"
          ]
        }
      ]
    },
    {
      "cell_type": "code",
      "source": [
        "text = \"   Python    \"\n",
        "stripped_text = text.strip()\n",
        "print(stripped_text)"
      ],
      "metadata": {
        "id": "RictNKHpdYot",
        "colab": {
          "base_uri": "https://localhost:8080/"
        },
        "outputId": "e4d33414-4993-434c-efa4-9184d5e22a96"
      },
      "execution_count": null,
      "outputs": [
        {
          "output_type": "stream",
          "name": "stdout",
          "text": [
            "Python\n"
          ]
        }
      ]
    },
    {
      "cell_type": "code",
      "source": [
        "text = \"Hello, World!\"\n",
        "new_text = text.replace(\"Hello\", \"Hi\")\n",
        "print(new_text)"
      ],
      "metadata": {
        "id": "jHkintJhdbzs",
        "colab": {
          "base_uri": "https://localhost:8080/"
        },
        "outputId": "f8b5951b-6447-4015-b6a2-e17ca1b7308c"
      },
      "execution_count": null,
      "outputs": [
        {
          "output_type": "stream",
          "name": "stdout",
          "text": [
            "Hi, World!\n"
          ]
        }
      ]
    },
    {
      "cell_type": "code",
      "source": [
        "text = \"Python is awesome\"\n",
        "if text.startswith(\"Python\"):\n",
        "    print(\"Starts with Python\")\n",
        "if text.endswith(\"awesome\"):\n",
        "    print(\"Ends with awesome\")"
      ],
      "metadata": {
        "id": "wHYPGKDrdfFO"
      },
      "execution_count": null,
      "outputs": []
    },
    {
      "cell_type": "code",
      "source": [
        "text = \"Python is powerful and Python is easy to learn\"\n",
        "text = text.lower()\n",
        "print(text)\n",
        "count = text.count(\"python\") #Case Sensitive\n",
        "print(count)"
      ],
      "metadata": {
        "id": "ymJqEIR5dkm0",
        "colab": {
          "base_uri": "https://localhost:8080/"
        },
        "outputId": "c9a67f50-a7b2-4961-cc4a-30295f0e4be4"
      },
      "execution_count": null,
      "outputs": [
        {
          "output_type": "stream",
          "name": "stdout",
          "text": [
            "python is powerful and python is easy to learn\n",
            "2\n"
          ]
        }
      ]
    },
    {
      "cell_type": "code",
      "source": [
        "text1 = \"Python123\"\n",
        "text2 = \"Python!\"\n",
        "is_alnum1 = text1.isalnum()\n",
        "is_alnum2 = text2.isalnum()\n",
        "print(is_alnum1)\n",
        "print(is_alnum2)"
      ],
      "metadata": {
        "id": "0rzo1pi9dnPQ",
        "colab": {
          "base_uri": "https://localhost:8080/"
        },
        "outputId": "c54c6183-0247-4739-bd40-7a0e61a7c12f"
      },
      "execution_count": null,
      "outputs": [
        {
          "output_type": "stream",
          "name": "stdout",
          "text": [
            "True\n",
            "False\n"
          ]
        }
      ]
    },
    {
      "cell_type": "code",
      "source": [
        "num = 3.14759\n",
        "formatted_num = \"{:.3f}\".format(num)\n",
        "print(formatted_num)"
      ],
      "metadata": {
        "id": "Age27C1Ndu8y",
        "colab": {
          "base_uri": "https://localhost:8080/"
        },
        "outputId": "a241ace9-5cd0-472d-bf17-f243150d1ea8"
      },
      "execution_count": null,
      "outputs": [
        {
          "output_type": "stream",
          "name": "stdout",
          "text": [
            "3.148\n"
          ]
        }
      ]
    },
    {
      "cell_type": "markdown",
      "source": [
        "# **Data Structures**"
      ],
      "metadata": {
        "id": "ILiAkTfqd3C5"
      }
    },
    {
      "cell_type": "markdown",
      "source": [
        "**Lists**"
      ],
      "metadata": {
        "id": "QAkXi00be9S0"
      }
    },
    {
      "cell_type": "code",
      "source": [
        "numbers = [0, 1, 2, 3, 4]\n",
        "print(type(numbers))"
      ],
      "metadata": {
        "id": "Hdva2dxCd60O",
        "colab": {
          "base_uri": "https://localhost:8080/"
        },
        "outputId": "133d8989-f57f-4737-898e-416e989107ed"
      },
      "execution_count": null,
      "outputs": [
        {
          "output_type": "stream",
          "name": "stdout",
          "text": [
            "<class 'list'>\n"
          ]
        }
      ]
    },
    {
      "cell_type": "code",
      "source": [
        "print(numbers)\n",
        "print(numbers[0])\n",
        "print(numbers[4])\n",
        "print(numbers[0:3])\n",
        "print(numbers[-1])\n",
        "print(numbers[-2])"
      ],
      "metadata": {
        "id": "8N0thQtDeJk9",
        "colab": {
          "base_uri": "https://localhost:8080/"
        },
        "outputId": "3cc9e015-f6dd-4d66-839d-439288369b20"
      },
      "execution_count": null,
      "outputs": [
        {
          "output_type": "stream",
          "name": "stdout",
          "text": [
            "[0, 1, 2, 3, 4]\n",
            "0\n",
            "4\n",
            "[0, 1, 2]\n",
            "4\n",
            "3\n"
          ]
        }
      ]
    },
    {
      "cell_type": "code",
      "source": [
        "numbers[0] = 50\n",
        "print(numbers)"
      ],
      "metadata": {
        "id": "tanSOsiVeXFk",
        "colab": {
          "base_uri": "https://localhost:8080/"
        },
        "outputId": "59a197ef-d7cf-4138-9adb-8643ab61fd38"
      },
      "execution_count": null,
      "outputs": [
        {
          "output_type": "stream",
          "name": "stdout",
          "text": [
            "[50, 1, 2, 3, 4]\n"
          ]
        }
      ]
    },
    {
      "cell_type": "code",
      "source": [
        "numbers.append(5)\n",
        "print(numbers)"
      ],
      "metadata": {
        "id": "bDBZZwreeetN",
        "colab": {
          "base_uri": "https://localhost:8080/"
        },
        "outputId": "0941c98a-b39b-4eb7-b7ba-8699a46b4128"
      },
      "execution_count": null,
      "outputs": [
        {
          "output_type": "stream",
          "name": "stdout",
          "text": [
            "[50, 1, 2, 3, 4, 5]\n"
          ]
        }
      ]
    },
    {
      "cell_type": "code",
      "source": [
        "numbers.append(5)\n",
        "print(numbers)"
      ],
      "metadata": {
        "id": "l1ul20Lxeu5E",
        "colab": {
          "base_uri": "https://localhost:8080/"
        },
        "outputId": "c10bf39e-fbaf-4b26-9380-b49e9dc211c6"
      },
      "execution_count": null,
      "outputs": [
        {
          "output_type": "stream",
          "name": "stdout",
          "text": [
            "[50, 1, 2, 3, 4, 5, 5]\n"
          ]
        }
      ]
    },
    {
      "cell_type": "code",
      "source": [
        "popped_value = numbers.pop()\n",
        "print(popped_value)"
      ],
      "metadata": {
        "id": "2TFymhdfe1DQ",
        "colab": {
          "base_uri": "https://localhost:8080/"
        },
        "outputId": "455e0e86-8683-4945-9fc1-11e098337824"
      },
      "execution_count": null,
      "outputs": [
        {
          "output_type": "stream",
          "name": "stdout",
          "text": [
            "5\n"
          ]
        }
      ]
    },
    {
      "cell_type": "code",
      "source": [
        "numbers"
      ],
      "metadata": {
        "colab": {
          "base_uri": "https://localhost:8080/"
        },
        "id": "POgxXewlV-Eu",
        "outputId": "192aa53b-916f-4dbc-c98a-750112c8f1f0"
      },
      "execution_count": null,
      "outputs": [
        {
          "output_type": "execute_result",
          "data": {
            "text/plain": [
              "[50, 1, 2, 3, 4, 5]"
            ]
          },
          "metadata": {},
          "execution_count": 40
        }
      ]
    },
    {
      "cell_type": "code",
      "source": [
        "numbers.sort(reverse=False)\n",
        "print(numbers)"
      ],
      "metadata": {
        "id": "kZSSc8HyfCO3",
        "colab": {
          "base_uri": "https://localhost:8080/"
        },
        "outputId": "d1e374fd-34a4-463c-d4c4-fa25216b1d6f"
      },
      "execution_count": null,
      "outputs": [
        {
          "output_type": "stream",
          "name": "stdout",
          "text": [
            "[1, 2, 3, 4, 5, 50]\n"
          ]
        }
      ]
    },
    {
      "cell_type": "code",
      "source": [
        "# for number in numbers:\n",
        "#   print(number,end=\" \")\n",
        "\n",
        "for number in numbers:\n",
        "  print(number)"
      ],
      "metadata": {
        "id": "igCNCfpMfM2m",
        "colab": {
          "base_uri": "https://localhost:8080/"
        },
        "outputId": "5504b5bd-0973-4183-e2e2-8e968a3361f6"
      },
      "execution_count": null,
      "outputs": [
        {
          "output_type": "stream",
          "name": "stdout",
          "text": [
            "1\n",
            "2\n",
            "3\n",
            "4\n",
            "5\n",
            "50\n"
          ]
        }
      ]
    },
    {
      "cell_type": "markdown",
      "source": [
        "**Tuples**"
      ],
      "metadata": {
        "id": "I6qVb4HPfd5m"
      }
    },
    {
      "cell_type": "code",
      "source": [
        "t = (\"John\", 25, \"New York\")\n",
        "print(t)"
      ],
      "metadata": {
        "colab": {
          "base_uri": "https://localhost:8080/"
        },
        "id": "Ncx4-0rGfkks",
        "outputId": "2cee73e1-7ad2-49cf-b15f-b4d37cfb8fe4"
      },
      "execution_count": null,
      "outputs": [
        {
          "output_type": "stream",
          "name": "stdout",
          "text": [
            "('John', 25, 'New York')\n"
          ]
        }
      ]
    },
    {
      "cell_type": "code",
      "source": [
        "#dont work, why\n",
        "t.pop()"
      ],
      "metadata": {
        "id": "i7cntDSVgWcl"
      },
      "execution_count": null,
      "outputs": []
    },
    {
      "cell_type": "code",
      "source": [
        "t2 = t + (\"new\",\"values\")\n",
        "print(t2)\n",
        "del t2\n",
        "print(t2)"
      ],
      "metadata": {
        "id": "btDKWpS2gl31",
        "colab": {
          "base_uri": "https://localhost:8080/",
          "height": 218
        },
        "outputId": "63d40e15-a6d2-43bc-cfa4-d82161fd12b8"
      },
      "execution_count": null,
      "outputs": [
        {
          "output_type": "stream",
          "name": "stdout",
          "text": [
            "('John', 25, 'New York', 'new', 'values')\n"
          ]
        },
        {
          "output_type": "error",
          "ename": "NameError",
          "evalue": "ignored",
          "traceback": [
            "\u001b[0;31m---------------------------------------------------------------------------\u001b[0m",
            "\u001b[0;31mNameError\u001b[0m                                 Traceback (most recent call last)",
            "\u001b[0;32m<ipython-input-45-edc0c6b6d079>\u001b[0m in \u001b[0;36m<cell line: 4>\u001b[0;34m()\u001b[0m\n\u001b[1;32m      2\u001b[0m \u001b[0mprint\u001b[0m\u001b[0;34m(\u001b[0m\u001b[0mt2\u001b[0m\u001b[0;34m)\u001b[0m\u001b[0;34m\u001b[0m\u001b[0;34m\u001b[0m\u001b[0m\n\u001b[1;32m      3\u001b[0m \u001b[0;32mdel\u001b[0m \u001b[0mt2\u001b[0m\u001b[0;34m\u001b[0m\u001b[0;34m\u001b[0m\u001b[0m\n\u001b[0;32m----> 4\u001b[0;31m \u001b[0mprint\u001b[0m\u001b[0;34m(\u001b[0m\u001b[0mt2\u001b[0m\u001b[0;34m)\u001b[0m\u001b[0;34m\u001b[0m\u001b[0;34m\u001b[0m\u001b[0m\n\u001b[0m",
            "\u001b[0;31mNameError\u001b[0m: name 't2' is not defined"
          ]
        }
      ]
    },
    {
      "cell_type": "markdown",
      "source": [
        "Lists:\n",
        "\n",
        "Mutable: Lists are mutable, meaning you can modify, add, or remove elements after creation.\n",
        "Ordered: Lists preserve the order of elements. The order in which elements are added is maintained.\n",
        "Allows duplicates: Lists can contain duplicate elements.\n",
        "Dynamic size: Lists can grow or shrink dynamically as elements are added or removed.\n",
        "Useful when: You need a collection of elements that can be modified or reordered. Lists are commonly used for storing sequences of data, such as a list of numbers, names, or objects.\n",
        "\n",
        "Tuples:\n",
        "\n",
        "Immutable: Tuples are immutable, meaning you cannot modify elements once created. However, you can create new tuples with modified elements.\n",
        "Ordered: Tuples preserve the order of elements, just like lists.\n",
        "Allows duplicates: Tuples can contain duplicate elements.\n",
        "Fixed size: Tuples have a fixed size after creation and cannot be modified.\n",
        "Useful when: You have a collection of elements that should not be modified, such as coordinates (x, y) or a date (year, month, day). Tuples are also useful when you want to ensure data integrity and prevent accidental modification of values.\n",
        "In summary, lists are typically used when you need a mutable collection of elements that can be modified, reordered, or resized. Tuples, on the other hand, are used when you need an immutable collection of elements that should not be modified and have a fixed size."
      ],
      "metadata": {
        "id": "4aTn996ghNQT"
      }
    },
    {
      "cell_type": "markdown",
      "source": [
        "**Sets**"
      ],
      "metadata": {
        "id": "b2PR3DKHhoFF"
      }
    },
    {
      "cell_type": "code",
      "source": [
        "fruits = {5,9,1,0,2}\n",
        "print(fruits)\n",
        "type(fruits)"
      ],
      "metadata": {
        "id": "PxO7sxEMhPaW",
        "colab": {
          "base_uri": "https://localhost:8080/"
        },
        "outputId": "6c47fcfc-abd1-4c6a-fe19-f86c7d1874e9"
      },
      "execution_count": null,
      "outputs": [
        {
          "output_type": "stream",
          "name": "stdout",
          "text": [
            "{0, 1, 2, 5, 9}\n"
          ]
        },
        {
          "output_type": "execute_result",
          "data": {
            "text/plain": [
              "set"
            ]
          },
          "metadata": {},
          "execution_count": 48
        }
      ]
    },
    {
      "cell_type": "code",
      "source": [
        "fruits.add(\"mango\") #output?\n",
        "print(fruits)"
      ],
      "metadata": {
        "id": "Y9smGqe-htGl"
      },
      "execution_count": null,
      "outputs": []
    },
    {
      "cell_type": "code",
      "source": [
        "fruits.remove(\"banana\")\n",
        "print(fruits)"
      ],
      "metadata": {
        "id": "MNeS_Ay1htk8"
      },
      "execution_count": null,
      "outputs": []
    },
    {
      "cell_type": "code",
      "source": [
        "set1 = {1, 2, 3}\n",
        "set2 = {3, 4, 5}\n",
        "union_set = set1 | set2\n",
        "print(union_set)"
      ],
      "metadata": {
        "id": "XrxCi5MpiCjU",
        "colab": {
          "base_uri": "https://localhost:8080/"
        },
        "outputId": "34a461e2-83b3-4a4c-9320-9c49ca3076e3"
      },
      "execution_count": null,
      "outputs": [
        {
          "output_type": "stream",
          "name": "stdout",
          "text": [
            "{1, 2, 3, 4, 5}\n"
          ]
        }
      ]
    },
    {
      "cell_type": "code",
      "source": [
        "set1 = {1, 2, 3}\n",
        "set2 = {3, 4, 5}\n",
        "intersection_set = set1 & set2\n",
        "print(intersection_set)"
      ],
      "metadata": {
        "id": "8MlJgkDXiLt8",
        "colab": {
          "base_uri": "https://localhost:8080/"
        },
        "outputId": "d42fc827-7bcc-47ed-dbe0-8a03b881cdd0"
      },
      "execution_count": null,
      "outputs": [
        {
          "output_type": "stream",
          "name": "stdout",
          "text": [
            "{3}\n"
          ]
        }
      ]
    },
    {
      "cell_type": "code",
      "source": [
        "set1 = {1, 2, 3}\n",
        "set2 = {3, 4, 5}\n",
        "difference_set = set1 - set2\n",
        "print(difference_set)"
      ],
      "metadata": {
        "id": "OSCPfBOoiPJ1",
        "colab": {
          "base_uri": "https://localhost:8080/"
        },
        "outputId": "5b5f6bcf-3dbc-4a2d-d344-92f1373acb37"
      },
      "execution_count": null,
      "outputs": [
        {
          "output_type": "stream",
          "name": "stdout",
          "text": [
            "{1, 2}\n"
          ]
        }
      ]
    },
    {
      "cell_type": "markdown",
      "source": [
        "**Dictionaries**"
      ],
      "metadata": {
        "id": "rPAdRpgMiZID"
      }
    },
    {
      "cell_type": "code",
      "source": [
        "student = {\n",
        "    \"name\": \"Alice\",\n",
        "    \"age\": 20,\n",
        "    \"major\": \"Computer Science\"\n",
        "}\n",
        "print(student)"
      ],
      "metadata": {
        "id": "N9PE1J1jig4b",
        "colab": {
          "base_uri": "https://localhost:8080/"
        },
        "outputId": "564f7fd5-b645-4915-d960-15303a7cf8d9"
      },
      "execution_count": null,
      "outputs": [
        {
          "output_type": "stream",
          "name": "stdout",
          "text": [
            "{'name': 'Alice', 'age': 20, 'major': 'Computer Science'}\n"
          ]
        }
      ]
    },
    {
      "cell_type": "code",
      "source": [
        "print(student[\"name\"])\n",
        "print(student.get(\"age\"))\n",
        "print(student[\"major\"])"
      ],
      "metadata": {
        "id": "S5biMsrwipZz",
        "colab": {
          "base_uri": "https://localhost:8080/"
        },
        "outputId": "bec0d74c-456a-495b-efee-f29e56ab75c5"
      },
      "execution_count": null,
      "outputs": [
        {
          "output_type": "stream",
          "name": "stdout",
          "text": [
            "Alice\n",
            "20\n",
            "Computer Science\n"
          ]
        }
      ]
    },
    {
      "cell_type": "code",
      "source": [
        "student[\"age\"] = 21\n",
        "print(student)"
      ],
      "metadata": {
        "id": "g3YZ6WXlisJL",
        "colab": {
          "base_uri": "https://localhost:8080/"
        },
        "outputId": "c2a1dcb5-d899-4c01-d899-68e163b4ad8b"
      },
      "execution_count": null,
      "outputs": [
        {
          "output_type": "stream",
          "name": "stdout",
          "text": [
            "{'name': 'Alice', 'age': 21, 'major': 'Computer Science'}\n"
          ]
        }
      ]
    },
    {
      "cell_type": "code",
      "source": [
        "student[\"hello\"] = \"hello\"\n",
        "print(student)"
      ],
      "metadata": {
        "id": "1VDEU-0Eix_7",
        "colab": {
          "base_uri": "https://localhost:8080/"
        },
        "outputId": "f4e7ae56-046e-4809-800b-a318ec8230b3"
      },
      "execution_count": null,
      "outputs": [
        {
          "output_type": "stream",
          "name": "stdout",
          "text": [
            "{'name': 'Alice', 'age': 21, 'major': 'Computer Science', 'university': 'FAST University', 'hello': 'hello'}\n"
          ]
        }
      ]
    },
    {
      "cell_type": "code",
      "source": [
        "student.keys()"
      ],
      "metadata": {
        "id": "crvtcIirjAnU",
        "colab": {
          "base_uri": "https://localhost:8080/"
        },
        "outputId": "c7376850-379e-4c6f-d5d4-f70b4e478e68"
      },
      "execution_count": null,
      "outputs": [
        {
          "output_type": "execute_result",
          "data": {
            "text/plain": [
              "dict_keys(['name', 'age', 'major', 'university', 'hello'])"
            ]
          },
          "metadata": {},
          "execution_count": 58
        }
      ]
    },
    {
      "cell_type": "code",
      "source": [
        "student.values()"
      ],
      "metadata": {
        "id": "CYFl5-abjJqk",
        "colab": {
          "base_uri": "https://localhost:8080/"
        },
        "outputId": "a4c3d464-087f-40c2-d052-d2a9caa06e6b"
      },
      "execution_count": null,
      "outputs": [
        {
          "output_type": "execute_result",
          "data": {
            "text/plain": [
              "dict_values(['Alice', 21, 'Computer Science', 'FAST University', 'hello'])"
            ]
          },
          "metadata": {},
          "execution_count": 59
        }
      ]
    },
    {
      "cell_type": "code",
      "source": [
        "del student[\"major\"]\n",
        "print(student,end=\"\\n\\n\\n\")\n",
        "student.pop(\"name\")\n",
        "print(student)"
      ],
      "metadata": {
        "id": "NRsh_hz4jPR9",
        "colab": {
          "base_uri": "https://localhost:8080/"
        },
        "outputId": "d93e0661-2d59-49da-e491-81839761d2a8"
      },
      "execution_count": null,
      "outputs": [
        {
          "output_type": "stream",
          "name": "stdout",
          "text": [
            "{'name': 'Alice', 'university': 'FAST University', 'hello': 'hello'}\n",
            "\n",
            "\n",
            "{'university': 'FAST University', 'hello': 'hello'}\n"
          ]
        }
      ]
    },
    {
      "cell_type": "code",
      "source": [
        "if \"university\" in student:\n",
        "    print(\"Key exists in the dictionary\")\n",
        "else:\n",
        "    print(\"Key does not exist in the dictionary\")"
      ],
      "metadata": {
        "id": "cf0bUOELjaHk",
        "colab": {
          "base_uri": "https://localhost:8080/"
        },
        "outputId": "c1ae4842-7078-485a-d6a9-eccf1a45c1a7"
      },
      "execution_count": null,
      "outputs": [
        {
          "output_type": "stream",
          "name": "stdout",
          "text": [
            "Key exists in the dictionary\n"
          ]
        }
      ]
    },
    {
      "cell_type": "code",
      "source": [
        "student.items()"
      ],
      "metadata": {
        "colab": {
          "base_uri": "https://localhost:8080/"
        },
        "id": "I5CqZuU2aeuL",
        "outputId": "cd5fde21-1250-48ac-a8c1-9119608abf04"
      },
      "execution_count": null,
      "outputs": [
        {
          "output_type": "execute_result",
          "data": {
            "text/plain": [
              "dict_items([('university', 'FAST University'), ('hello', 'hello')])"
            ]
          },
          "metadata": {},
          "execution_count": 71
        }
      ]
    },
    {
      "cell_type": "code",
      "source": [
        "for key, value in student.items():\n",
        "    print(key, value)"
      ],
      "metadata": {
        "id": "LKJs8YUzjesp",
        "colab": {
          "base_uri": "https://localhost:8080/"
        },
        "outputId": "c86e9e27-a687-4c9f-8f28-6e322a0931bb"
      },
      "execution_count": null,
      "outputs": [
        {
          "output_type": "stream",
          "name": "stdout",
          "text": [
            "university FAST University\n",
            "hello hello\n"
          ]
        }
      ]
    },
    {
      "cell_type": "code",
      "source": [
        "student.clear()\n",
        "print(student)"
      ],
      "metadata": {
        "id": "OmZPmRuijxrM",
        "colab": {
          "base_uri": "https://localhost:8080/"
        },
        "outputId": "0994386a-4b12-4f20-fcc7-aba8b4a965ef"
      },
      "execution_count": null,
      "outputs": [
        {
          "output_type": "stream",
          "name": "stdout",
          "text": [
            "{}\n"
          ]
        }
      ]
    },
    {
      "cell_type": "markdown",
      "source": [
        "# **Activity**"
      ],
      "metadata": {
        "id": "nq1mrnhso7eM"
      }
    },
    {
      "cell_type": "markdown",
      "source": [
        "# A. Create a list of 10 numbers 1 through 10.\n",
        "# B. Create a Tuple with 2 Values (\"Hello\",\"World\")\n",
        "# C. Create a Dictionary with 2 keys (\"name\",\"age\") and their values according to your details.\n",
        "# D. Display all three of the above."
      ],
      "metadata": {
        "id": "oePs6mF5pdEe"
      }
    },
    {
      "cell_type": "code",
      "source": [
        "dict = {\"name\": [\"sharhrukh\",\"fahaf\",\"Salman\"]}\n",
        "dict"
      ],
      "metadata": {
        "id": "EAU51PcpciU7"
      },
      "execution_count": null,
      "outputs": []
    },
    {
      "cell_type": "markdown",
      "source": [
        "# **Conditions And Branching**"
      ],
      "metadata": {
        "id": "LFQBUoM3j-qk"
      }
    },
    {
      "cell_type": "markdown",
      "source": [
        "**Basic If-Else**"
      ],
      "metadata": {
        "id": "BIBYGKxBkanc"
      }
    },
    {
      "cell_type": "code",
      "source": [
        "age = 20\n",
        "\n",
        "if age >= 18:\n",
        "    print(\"You are an adult.\")\n",
        "else:\n",
        "    print(\"You are not an adult.\")"
      ],
      "metadata": {
        "id": "nY-KSgItkCuL",
        "colab": {
          "base_uri": "https://localhost:8080/"
        },
        "outputId": "61be2a13-3e26-42b7-8ffd-b57b975c0803"
      },
      "execution_count": null,
      "outputs": [
        {
          "output_type": "stream",
          "name": "stdout",
          "text": [
            "You are an adult.\n"
          ]
        }
      ]
    },
    {
      "cell_type": "code",
      "source": [
        "score = 95\n",
        "if score >=95:\n",
        "    print(\"A+ grade\")\n",
        "elif score >= 90:\n",
        "    print('A grade')\n",
        "elif score >= 80:\n",
        "    print(\"B grade\")\n",
        "elif score >= 70:\n",
        "    print(\"C grade\")\n",
        "else:\n",
        "    print(\"Fail\")"
      ],
      "metadata": {
        "id": "OxzWkXZNkO0E",
        "colab": {
          "base_uri": "https://localhost:8080/"
        },
        "outputId": "ba9c57e3-baec-49f6-9786-334e7ed81418"
      },
      "execution_count": null,
      "outputs": [
        {
          "output_type": "stream",
          "name": "stdout",
          "text": [
            "A+ grade\n"
          ]
        }
      ]
    },
    {
      "cell_type": "markdown",
      "source": [
        "**Nested If-Else**"
      ],
      "metadata": {
        "id": "vajgOEZskcpd"
      }
    },
    {
      "cell_type": "code",
      "source": [
        "temperature = 45\n",
        "\n",
        "if temperature > 30:\n",
        "    if temperature > 40:\n",
        "        print(\"It's very hot!\")\n",
        "    else:\n",
        "        print(\"It's hot.\")\n",
        "else:\n",
        "    print(\"It's moderate.\")"
      ],
      "metadata": {
        "id": "CWP1I_sJkY8V",
        "colab": {
          "base_uri": "https://localhost:8080/"
        },
        "outputId": "5ae76ec8-5f21-42b7-a280-aa65393f025e"
      },
      "execution_count": null,
      "outputs": [
        {
          "output_type": "stream",
          "name": "stdout",
          "text": [
            "It's very hot!\n"
          ]
        }
      ]
    },
    {
      "cell_type": "markdown",
      "source": [
        "**Ternary** **Operator**"
      ],
      "metadata": {
        "id": "8DrGJHI_k77N"
      }
    },
    {
      "cell_type": "code",
      "source": [
        "age = 17\n",
        "status = \"Adult\" if age >= 18 else \"Teenager\"\n",
        "print(status)"
      ],
      "metadata": {
        "id": "B9euW3R1k-LG",
        "colab": {
          "base_uri": "https://localhost:8080/"
        },
        "outputId": "24365ca9-b116-4194-d196-563d84263285"
      },
      "execution_count": null,
      "outputs": [
        {
          "output_type": "stream",
          "name": "stdout",
          "text": [
            "Teenager\n"
          ]
        }
      ]
    },
    {
      "cell_type": "markdown",
      "source": [
        "**Logical Operators**"
      ],
      "metadata": {
        "id": "NfdFOIDOlHR0"
      }
    },
    {
      "cell_type": "code",
      "source": [
        "x = 5\n",
        "y = 10\n",
        "z = -5\n",
        "\n",
        "if x > 0 and y > 0:\n",
        "    print(\"Both x and y are positive.\")\n",
        "\n",
        "if x > 0 or z > 0:\n",
        "    print(\"At least one of x or z is positive.\")\n",
        "\n",
        "if not y < 0:\n",
        "    print(\"y is not negative.\")\n"
      ],
      "metadata": {
        "id": "ubM5fm6slD8D",
        "colab": {
          "base_uri": "https://localhost:8080/"
        },
        "outputId": "a52f58b8-3fcb-411e-f8be-83d14bd903d9"
      },
      "execution_count": null,
      "outputs": [
        {
          "output_type": "stream",
          "name": "stdout",
          "text": [
            "Both x and y are positive.\n",
            "At least one of x or z is positive.\n",
            "y is not negative.\n"
          ]
        }
      ]
    },
    {
      "cell_type": "markdown",
      "source": [
        "**Loops**"
      ],
      "metadata": {
        "id": "YD6qlLfKofG-"
      }
    },
    {
      "cell_type": "code",
      "source": [
        "fruits = [\"apple\", \"banana\", \"cherry\"]\n",
        "for fruit in fruits:\n",
        "    print(fruit)\n",
        "\n",
        "for i in range(0,len(fruits)):\n",
        "  print(fruits[i])\n"
      ],
      "metadata": {
        "id": "CNT6NX2_oNWN",
        "colab": {
          "base_uri": "https://localhost:8080/"
        },
        "outputId": "d4e2b42b-69a4-4778-eb9a-5ae0b7d864d0"
      },
      "execution_count": null,
      "outputs": [
        {
          "output_type": "stream",
          "name": "stdout",
          "text": [
            "apple\n",
            "banana\n",
            "cherry\n",
            "apple\n",
            "banana\n",
            "cherry\n"
          ]
        }
      ]
    },
    {
      "cell_type": "code",
      "source": [
        "for i in range(1, 5):\n",
        "    print(i)"
      ],
      "metadata": {
        "id": "wmUK-uWeoic7",
        "colab": {
          "base_uri": "https://localhost:8080/"
        },
        "outputId": "3c3aa072-ae50-42ae-854b-161b3d588154"
      },
      "execution_count": null,
      "outputs": [
        {
          "output_type": "stream",
          "name": "stdout",
          "text": [
            "1\n",
            "2\n",
            "3\n",
            "4\n"
          ]
        }
      ]
    },
    {
      "cell_type": "code",
      "source": [
        "count = 1\n",
        "while count < 5:\n",
        "    print(count)\n",
        "    count -= 1"
      ],
      "metadata": {
        "id": "kXddFHfXoqKU",
        "colab": {
          "base_uri": "https://localhost:8080/",
          "height": 1000
        },
        "outputId": "bbef2c5a-128e-4651-c188-ba5bfe1cc482"
      },
      "execution_count": null,
      "outputs": [
        {
          "output_type": "stream",
          "name": "stdout",
          "text": [
            "\u001b[1;30;43mStreaming output truncated to the last 5000 lines.\u001b[0m\n",
            "-13514\n",
            "-13515\n",
            "-13516\n",
            "-13517\n",
            "-13518\n",
            "-13519\n",
            "-13520\n",
            "-13521\n",
            "-13522\n",
            "-13523\n",
            "-13524\n",
            "-13525\n",
            "-13526\n",
            "-13527\n",
            "-13528\n",
            "-13529\n",
            "-13530\n",
            "-13531\n",
            "-13532\n",
            "-13533\n",
            "-13534\n",
            "-13535\n",
            "-13536\n",
            "-13537\n",
            "-13538\n",
            "-13539\n",
            "-13540\n",
            "-13541\n",
            "-13542\n",
            "-13543\n",
            "-13544\n",
            "-13545\n",
            "-13546\n",
            "-13547\n",
            "-13548\n",
            "-13549\n",
            "-13550\n",
            "-13551\n",
            "-13552\n",
            "-13553\n",
            "-13554\n",
            "-13555\n",
            "-13556\n",
            "-13557\n",
            "-13558\n",
            "-13559\n",
            "-13560\n",
            "-13561\n",
            "-13562\n",
            "-13563\n",
            "-13564\n",
            "-13565\n",
            "-13566\n",
            "-13567\n",
            "-13568\n",
            "-13569\n",
            "-13570\n",
            "-13571\n",
            "-13572\n",
            "-13573\n",
            "-13574\n",
            "-13575\n",
            "-13576\n",
            "-13577\n",
            "-13578\n",
            "-13579\n",
            "-13580\n",
            "-13581\n",
            "-13582\n",
            "-13583\n",
            "-13584\n",
            "-13585\n",
            "-13586\n",
            "-13587\n",
            "-13588\n",
            "-13589\n",
            "-13590\n",
            "-13591\n",
            "-13592\n",
            "-13593\n",
            "-13594\n",
            "-13595\n",
            "-13596\n",
            "-13597\n",
            "-13598\n",
            "-13599\n",
            "-13600\n",
            "-13601\n",
            "-13602\n",
            "-13603\n",
            "-13604\n",
            "-13605\n",
            "-13606\n",
            "-13607\n",
            "-13608\n",
            "-13609\n",
            "-13610\n",
            "-13611\n",
            "-13612\n",
            "-13613\n",
            "-13614\n",
            "-13615\n",
            "-13616\n",
            "-13617\n",
            "-13618\n",
            "-13619\n",
            "-13620\n",
            "-13621\n",
            "-13622\n",
            "-13623\n",
            "-13624\n",
            "-13625\n",
            "-13626\n",
            "-13627\n",
            "-13628\n",
            "-13629\n",
            "-13630\n",
            "-13631\n",
            "-13632\n",
            "-13633\n",
            "-13634\n",
            "-13635\n",
            "-13636\n",
            "-13637\n",
            "-13638\n",
            "-13639\n",
            "-13640\n",
            "-13641\n",
            "-13642\n",
            "-13643\n",
            "-13644\n",
            "-13645\n",
            "-13646\n",
            "-13647\n",
            "-13648\n",
            "-13649\n",
            "-13650\n",
            "-13651\n",
            "-13652\n",
            "-13653\n",
            "-13654\n",
            "-13655\n",
            "-13656\n",
            "-13657\n",
            "-13658\n",
            "-13659\n",
            "-13660\n",
            "-13661\n",
            "-13662\n",
            "-13663\n",
            "-13664\n",
            "-13665\n",
            "-13666\n",
            "-13667\n",
            "-13668\n",
            "-13669\n",
            "-13670\n",
            "-13671\n",
            "-13672\n",
            "-13673\n",
            "-13674\n",
            "-13675\n",
            "-13676\n",
            "-13677\n",
            "-13678\n",
            "-13679\n",
            "-13680\n",
            "-13681\n",
            "-13682\n",
            "-13683\n",
            "-13684\n",
            "-13685\n",
            "-13686\n",
            "-13687\n",
            "-13688\n",
            "-13689\n",
            "-13690\n",
            "-13691\n",
            "-13692\n",
            "-13693\n",
            "-13694\n",
            "-13695\n",
            "-13696\n",
            "-13697\n",
            "-13698\n",
            "-13699\n",
            "-13700\n",
            "-13701\n",
            "-13702\n",
            "-13703\n",
            "-13704\n",
            "-13705\n",
            "-13706\n",
            "-13707\n",
            "-13708\n",
            "-13709\n",
            "-13710\n",
            "-13711\n",
            "-13712\n",
            "-13713\n",
            "-13714\n",
            "-13715\n",
            "-13716\n",
            "-13717\n",
            "-13718\n",
            "-13719\n",
            "-13720\n",
            "-13721\n",
            "-13722\n",
            "-13723\n",
            "-13724\n",
            "-13725\n",
            "-13726\n",
            "-13727\n",
            "-13728\n",
            "-13729\n",
            "-13730\n",
            "-13731\n",
            "-13732\n",
            "-13733\n",
            "-13734\n",
            "-13735\n",
            "-13736\n",
            "-13737\n",
            "-13738\n",
            "-13739\n",
            "-13740\n",
            "-13741\n",
            "-13742\n",
            "-13743\n",
            "-13744\n",
            "-13745\n",
            "-13746\n",
            "-13747\n",
            "-13748\n",
            "-13749\n",
            "-13750\n",
            "-13751\n",
            "-13752\n",
            "-13753\n",
            "-13754\n",
            "-13755\n",
            "-13756\n",
            "-13757\n",
            "-13758\n",
            "-13759\n",
            "-13760\n",
            "-13761\n",
            "-13762\n",
            "-13763\n",
            "-13764\n",
            "-13765\n",
            "-13766\n",
            "-13767\n",
            "-13768\n",
            "-13769\n",
            "-13770\n",
            "-13771\n",
            "-13772\n",
            "-13773\n",
            "-13774\n",
            "-13775\n",
            "-13776\n",
            "-13777\n",
            "-13778\n",
            "-13779\n",
            "-13780\n",
            "-13781\n",
            "-13782\n",
            "-13783\n",
            "-13784\n",
            "-13785\n",
            "-13786\n",
            "-13787\n",
            "-13788\n",
            "-13789\n",
            "-13790\n",
            "-13791\n",
            "-13792\n",
            "-13793\n",
            "-13794\n",
            "-13795\n",
            "-13796\n",
            "-13797\n",
            "-13798\n",
            "-13799\n",
            "-13800\n",
            "-13801\n",
            "-13802\n",
            "-13803\n",
            "-13804\n",
            "-13805\n",
            "-13806\n",
            "-13807\n",
            "-13808\n",
            "-13809\n",
            "-13810\n",
            "-13811\n",
            "-13812\n",
            "-13813\n",
            "-13814\n",
            "-13815\n",
            "-13816\n",
            "-13817\n",
            "-13818\n",
            "-13819\n",
            "-13820\n",
            "-13821\n",
            "-13822\n",
            "-13823\n",
            "-13824\n",
            "-13825\n",
            "-13826\n",
            "-13827\n",
            "-13828\n",
            "-13829\n",
            "-13830\n",
            "-13831\n",
            "-13832\n",
            "-13833\n",
            "-13834\n",
            "-13835\n",
            "-13836\n",
            "-13837\n",
            "-13838\n",
            "-13839\n",
            "-13840\n",
            "-13841\n",
            "-13842\n",
            "-13843\n",
            "-13844\n",
            "-13845\n",
            "-13846\n",
            "-13847\n",
            "-13848\n",
            "-13849\n",
            "-13850\n",
            "-13851\n",
            "-13852\n",
            "-13853\n",
            "-13854\n",
            "-13855\n",
            "-13856\n",
            "-13857\n",
            "-13858\n",
            "-13859\n",
            "-13860\n",
            "-13861\n",
            "-13862\n",
            "-13863\n",
            "-13864\n",
            "-13865\n",
            "-13866\n",
            "-13867\n",
            "-13868\n",
            "-13869\n",
            "-13870\n",
            "-13871\n",
            "-13872\n",
            "-13873\n",
            "-13874\n",
            "-13875\n",
            "-13876\n",
            "-13877\n",
            "-13878\n",
            "-13879\n",
            "-13880\n",
            "-13881\n",
            "-13882\n",
            "-13883\n",
            "-13884\n",
            "-13885\n",
            "-13886\n",
            "-13887\n",
            "-13888\n",
            "-13889\n",
            "-13890\n",
            "-13891\n",
            "-13892\n",
            "-13893\n",
            "-13894\n",
            "-13895\n",
            "-13896\n",
            "-13897\n",
            "-13898\n",
            "-13899\n",
            "-13900\n",
            "-13901\n",
            "-13902\n",
            "-13903\n",
            "-13904\n",
            "-13905\n",
            "-13906\n",
            "-13907\n",
            "-13908\n",
            "-13909\n",
            "-13910\n",
            "-13911\n",
            "-13912\n",
            "-13913\n",
            "-13914\n",
            "-13915\n",
            "-13916\n",
            "-13917\n",
            "-13918\n",
            "-13919\n",
            "-13920\n",
            "-13921\n",
            "-13922\n",
            "-13923\n",
            "-13924\n",
            "-13925\n",
            "-13926\n",
            "-13927\n",
            "-13928\n",
            "-13929\n",
            "-13930\n",
            "-13931\n",
            "-13932\n",
            "-13933\n",
            "-13934\n",
            "-13935\n",
            "-13936\n",
            "-13937\n",
            "-13938\n",
            "-13939\n",
            "-13940\n",
            "-13941\n",
            "-13942\n",
            "-13943\n",
            "-13944\n",
            "-13945\n",
            "-13946\n",
            "-13947\n",
            "-13948\n",
            "-13949\n",
            "-13950\n",
            "-13951\n",
            "-13952\n",
            "-13953\n",
            "-13954\n",
            "-13955\n",
            "-13956\n",
            "-13957\n",
            "-13958\n",
            "-13959\n",
            "-13960\n",
            "-13961\n",
            "-13962\n",
            "-13963\n",
            "-13964\n",
            "-13965\n",
            "-13966\n",
            "-13967\n",
            "-13968\n",
            "-13969\n",
            "-13970\n",
            "-13971\n",
            "-13972\n",
            "-13973\n",
            "-13974\n",
            "-13975\n",
            "-13976\n",
            "-13977\n",
            "-13978\n",
            "-13979\n",
            "-13980\n",
            "-13981\n",
            "-13982\n",
            "-13983\n",
            "-13984\n",
            "-13985\n",
            "-13986\n",
            "-13987\n",
            "-13988\n",
            "-13989\n",
            "-13990\n",
            "-13991\n",
            "-13992\n",
            "-13993\n",
            "-13994\n",
            "-13995\n",
            "-13996\n",
            "-13997\n",
            "-13998\n",
            "-13999\n",
            "-14000\n",
            "-14001\n",
            "-14002\n",
            "-14003\n",
            "-14004\n",
            "-14005\n",
            "-14006\n",
            "-14007\n",
            "-14008\n",
            "-14009\n",
            "-14010\n",
            "-14011\n",
            "-14012\n",
            "-14013\n",
            "-14014\n",
            "-14015\n",
            "-14016\n",
            "-14017\n",
            "-14018\n",
            "-14019\n",
            "-14020\n",
            "-14021\n",
            "-14022\n",
            "-14023\n",
            "-14024\n",
            "-14025\n",
            "-14026\n",
            "-14027\n",
            "-14028\n",
            "-14029\n",
            "-14030\n",
            "-14031\n",
            "-14032\n",
            "-14033\n",
            "-14034\n",
            "-14035\n",
            "-14036\n",
            "-14037\n",
            "-14038\n",
            "-14039\n",
            "-14040\n",
            "-14041\n",
            "-14042\n",
            "-14043\n",
            "-14044\n",
            "-14045\n",
            "-14046\n",
            "-14047\n",
            "-14048\n",
            "-14049\n",
            "-14050\n",
            "-14051\n",
            "-14052\n",
            "-14053\n",
            "-14054\n",
            "-14055\n",
            "-14056\n",
            "-14057\n",
            "-14058\n",
            "-14059\n",
            "-14060\n",
            "-14061\n",
            "-14062\n",
            "-14063\n",
            "-14064\n",
            "-14065\n",
            "-14066\n",
            "-14067\n",
            "-14068\n",
            "-14069\n",
            "-14070\n",
            "-14071\n",
            "-14072\n",
            "-14073\n",
            "-14074\n",
            "-14075\n",
            "-14076\n",
            "-14077\n",
            "-14078\n",
            "-14079\n",
            "-14080\n",
            "-14081\n",
            "-14082\n",
            "-14083\n",
            "-14084\n",
            "-14085\n",
            "-14086\n",
            "-14087\n",
            "-14088\n",
            "-14089\n",
            "-14090\n",
            "-14091\n",
            "-14092\n",
            "-14093\n",
            "-14094\n",
            "-14095\n",
            "-14096\n",
            "-14097\n",
            "-14098\n",
            "-14099\n",
            "-14100\n",
            "-14101\n",
            "-14102\n",
            "-14103\n",
            "-14104\n",
            "-14105\n",
            "-14106\n",
            "-14107\n",
            "-14108\n",
            "-14109\n",
            "-14110\n",
            "-14111\n",
            "-14112\n",
            "-14113\n",
            "-14114\n",
            "-14115\n",
            "-14116\n",
            "-14117\n",
            "-14118\n",
            "-14119\n",
            "-14120\n",
            "-14121\n",
            "-14122\n",
            "-14123\n",
            "-14124\n",
            "-14125\n",
            "-14126\n",
            "-14127\n",
            "-14128\n",
            "-14129\n",
            "-14130\n",
            "-14131\n",
            "-14132\n",
            "-14133\n",
            "-14134\n",
            "-14135\n",
            "-14136\n",
            "-14137\n",
            "-14138\n",
            "-14139\n",
            "-14140\n",
            "-14141\n",
            "-14142\n",
            "-14143\n",
            "-14144\n",
            "-14145\n",
            "-14146\n",
            "-14147\n",
            "-14148\n",
            "-14149\n",
            "-14150\n",
            "-14151\n",
            "-14152\n",
            "-14153\n",
            "-14154\n",
            "-14155\n",
            "-14156\n",
            "-14157\n",
            "-14158\n",
            "-14159\n",
            "-14160\n",
            "-14161\n",
            "-14162\n",
            "-14163\n",
            "-14164\n",
            "-14165\n",
            "-14166\n",
            "-14167\n",
            "-14168\n",
            "-14169\n",
            "-14170\n",
            "-14171\n",
            "-14172\n",
            "-14173\n",
            "-14174\n",
            "-14175\n",
            "-14176\n",
            "-14177\n",
            "-14178\n",
            "-14179\n",
            "-14180\n",
            "-14181\n",
            "-14182\n",
            "-14183\n",
            "-14184\n",
            "-14185\n",
            "-14186\n",
            "-14187\n",
            "-14188\n",
            "-14189\n",
            "-14190\n",
            "-14191\n",
            "-14192\n",
            "-14193\n",
            "-14194\n",
            "-14195\n",
            "-14196\n",
            "-14197\n",
            "-14198\n",
            "-14199\n",
            "-14200\n",
            "-14201\n",
            "-14202\n",
            "-14203\n",
            "-14204\n",
            "-14205\n",
            "-14206\n",
            "-14207\n",
            "-14208\n",
            "-14209\n",
            "-14210\n",
            "-14211\n",
            "-14212\n",
            "-14213\n",
            "-14214\n",
            "-14215\n",
            "-14216\n",
            "-14217\n",
            "-14218\n",
            "-14219\n",
            "-14220\n",
            "-14221\n",
            "-14222\n",
            "-14223\n",
            "-14224\n",
            "-14225\n",
            "-14226\n",
            "-14227\n",
            "-14228\n",
            "-14229\n",
            "-14230\n",
            "-14231\n",
            "-14232\n",
            "-14233\n",
            "-14234\n",
            "-14235\n",
            "-14236\n",
            "-14237\n",
            "-14238\n",
            "-14239\n",
            "-14240\n",
            "-14241\n",
            "-14242\n",
            "-14243\n",
            "-14244\n",
            "-14245\n",
            "-14246\n",
            "-14247\n",
            "-14248\n",
            "-14249\n",
            "-14250\n",
            "-14251\n",
            "-14252\n",
            "-14253\n",
            "-14254\n",
            "-14255\n",
            "-14256\n",
            "-14257\n",
            "-14258\n",
            "-14259\n",
            "-14260\n",
            "-14261\n",
            "-14262\n",
            "-14263\n",
            "-14264\n",
            "-14265\n",
            "-14266\n",
            "-14267\n",
            "-14268\n",
            "-14269\n",
            "-14270\n",
            "-14271\n",
            "-14272\n",
            "-14273\n",
            "-14274\n",
            "-14275\n",
            "-14276\n",
            "-14277\n",
            "-14278\n",
            "-14279\n",
            "-14280\n",
            "-14281\n",
            "-14282\n",
            "-14283\n",
            "-14284\n",
            "-14285\n",
            "-14286\n",
            "-14287\n",
            "-14288\n",
            "-14289\n",
            "-14290\n",
            "-14291\n",
            "-14292\n",
            "-14293\n",
            "-14294\n",
            "-14295\n",
            "-14296\n",
            "-14297\n",
            "-14298\n",
            "-14299\n",
            "-14300\n",
            "-14301\n",
            "-14302\n",
            "-14303\n",
            "-14304\n",
            "-14305\n",
            "-14306\n",
            "-14307\n",
            "-14308\n",
            "-14309\n",
            "-14310\n",
            "-14311\n",
            "-14312\n",
            "-14313\n",
            "-14314\n",
            "-14315\n",
            "-14316\n",
            "-14317\n",
            "-14318\n",
            "-14319\n",
            "-14320\n",
            "-14321\n",
            "-14322\n",
            "-14323\n",
            "-14324\n",
            "-14325\n",
            "-14326\n",
            "-14327\n",
            "-14328\n",
            "-14329\n",
            "-14330\n",
            "-14331\n",
            "-14332\n",
            "-14333\n",
            "-14334\n",
            "-14335\n",
            "-14336\n",
            "-14337\n",
            "-14338\n",
            "-14339\n",
            "-14340\n",
            "-14341\n",
            "-14342\n",
            "-14343\n",
            "-14344\n",
            "-14345\n",
            "-14346\n",
            "-14347\n",
            "-14348\n",
            "-14349\n",
            "-14350\n",
            "-14351\n",
            "-14352\n",
            "-14353\n",
            "-14354\n",
            "-14355\n",
            "-14356\n",
            "-14357\n",
            "-14358\n",
            "-14359\n",
            "-14360\n",
            "-14361\n",
            "-14362\n",
            "-14363\n",
            "-14364\n",
            "-14365\n",
            "-14366\n",
            "-14367\n",
            "-14368\n",
            "-14369\n",
            "-14370\n",
            "-14371\n",
            "-14372\n",
            "-14373\n",
            "-14374\n",
            "-14375\n",
            "-14376\n",
            "-14377\n",
            "-14378\n",
            "-14379\n",
            "-14380\n",
            "-14381\n",
            "-14382\n",
            "-14383\n",
            "-14384\n",
            "-14385\n",
            "-14386\n",
            "-14387\n",
            "-14388\n",
            "-14389\n",
            "-14390\n",
            "-14391\n",
            "-14392\n",
            "-14393\n",
            "-14394\n",
            "-14395\n",
            "-14396\n",
            "-14397\n",
            "-14398\n",
            "-14399\n",
            "-14400\n",
            "-14401\n",
            "-14402\n",
            "-14403\n",
            "-14404\n",
            "-14405\n",
            "-14406\n",
            "-14407\n",
            "-14408\n",
            "-14409\n",
            "-14410\n",
            "-14411\n",
            "-14412\n",
            "-14413\n",
            "-14414\n",
            "-14415\n",
            "-14416\n",
            "-14417\n",
            "-14418\n",
            "-14419\n",
            "-14420\n",
            "-14421\n",
            "-14422\n",
            "-14423\n",
            "-14424\n",
            "-14425\n",
            "-14426\n",
            "-14427\n",
            "-14428\n",
            "-14429\n",
            "-14430\n",
            "-14431\n",
            "-14432\n",
            "-14433\n",
            "-14434\n",
            "-14435\n",
            "-14436\n",
            "-14437\n",
            "-14438\n",
            "-14439\n",
            "-14440\n",
            "-14441\n",
            "-14442\n",
            "-14443\n",
            "-14444\n",
            "-14445\n",
            "-14446\n",
            "-14447\n",
            "-14448\n",
            "-14449\n",
            "-14450\n",
            "-14451\n",
            "-14452\n",
            "-14453\n",
            "-14454\n",
            "-14455\n",
            "-14456\n",
            "-14457\n",
            "-14458\n",
            "-14459\n",
            "-14460\n",
            "-14461\n",
            "-14462\n",
            "-14463\n",
            "-14464\n",
            "-14465\n",
            "-14466\n",
            "-14467\n",
            "-14468\n",
            "-14469\n",
            "-14470\n",
            "-14471\n",
            "-14472\n",
            "-14473\n",
            "-14474\n",
            "-14475\n",
            "-14476\n",
            "-14477\n",
            "-14478\n",
            "-14479\n",
            "-14480\n",
            "-14481\n",
            "-14482\n",
            "-14483\n",
            "-14484\n",
            "-14485\n",
            "-14486\n",
            "-14487\n",
            "-14488\n",
            "-14489\n",
            "-14490\n",
            "-14491\n",
            "-14492\n",
            "-14493\n",
            "-14494\n",
            "-14495\n",
            "-14496\n",
            "-14497\n",
            "-14498\n",
            "-14499\n",
            "-14500\n",
            "-14501\n",
            "-14502\n",
            "-14503\n",
            "-14504\n",
            "-14505\n",
            "-14506\n",
            "-14507\n",
            "-14508\n",
            "-14509\n",
            "-14510\n",
            "-14511\n",
            "-14512\n",
            "-14513\n",
            "-14514\n",
            "-14515\n",
            "-14516\n",
            "-14517\n",
            "-14518\n",
            "-14519\n",
            "-14520\n",
            "-14521\n",
            "-14522\n",
            "-14523\n",
            "-14524\n",
            "-14525\n",
            "-14526\n",
            "-14527\n",
            "-14528\n",
            "-14529\n",
            "-14530\n",
            "-14531\n",
            "-14532\n",
            "-14533\n",
            "-14534\n",
            "-14535\n",
            "-14536\n",
            "-14537\n",
            "-14538\n",
            "-14539\n",
            "-14540\n",
            "-14541\n",
            "-14542\n",
            "-14543\n",
            "-14544\n",
            "-14545\n",
            "-14546\n",
            "-14547\n",
            "-14548\n",
            "-14549\n",
            "-14550\n",
            "-14551\n",
            "-14552\n",
            "-14553\n",
            "-14554\n",
            "-14555\n",
            "-14556\n",
            "-14557\n",
            "-14558\n",
            "-14559\n",
            "-14560\n",
            "-14561\n",
            "-14562\n",
            "-14563\n",
            "-14564\n",
            "-14565\n",
            "-14566\n",
            "-14567\n",
            "-14568\n",
            "-14569\n",
            "-14570\n",
            "-14571\n",
            "-14572\n",
            "-14573\n",
            "-14574\n",
            "-14575\n",
            "-14576\n",
            "-14577\n",
            "-14578\n",
            "-14579\n",
            "-14580\n",
            "-14581\n",
            "-14582\n",
            "-14583\n",
            "-14584\n",
            "-14585\n",
            "-14586\n",
            "-14587\n",
            "-14588\n",
            "-14589\n",
            "-14590\n",
            "-14591\n",
            "-14592\n",
            "-14593\n",
            "-14594\n",
            "-14595\n",
            "-14596\n",
            "-14597\n",
            "-14598\n",
            "-14599\n",
            "-14600\n",
            "-14601\n",
            "-14602\n",
            "-14603\n",
            "-14604\n",
            "-14605\n",
            "-14606\n",
            "-14607\n",
            "-14608\n",
            "-14609\n",
            "-14610\n",
            "-14611\n",
            "-14612\n",
            "-14613\n",
            "-14614\n",
            "-14615\n",
            "-14616\n",
            "-14617\n",
            "-14618\n",
            "-14619\n",
            "-14620\n",
            "-14621\n",
            "-14622\n",
            "-14623\n",
            "-14624\n",
            "-14625\n",
            "-14626\n",
            "-14627\n",
            "-14628\n",
            "-14629\n",
            "-14630\n",
            "-14631\n",
            "-14632\n",
            "-14633\n",
            "-14634\n",
            "-14635\n",
            "-14636\n",
            "-14637\n",
            "-14638\n",
            "-14639\n",
            "-14640\n",
            "-14641\n",
            "-14642\n",
            "-14643\n",
            "-14644\n",
            "-14645\n",
            "-14646\n",
            "-14647\n",
            "-14648\n",
            "-14649\n",
            "-14650\n",
            "-14651\n",
            "-14652\n",
            "-14653\n",
            "-14654\n",
            "-14655\n",
            "-14656\n",
            "-14657\n",
            "-14658\n",
            "-14659\n",
            "-14660\n",
            "-14661\n",
            "-14662\n",
            "-14663\n",
            "-14664\n",
            "-14665\n",
            "-14666\n",
            "-14667\n",
            "-14668\n",
            "-14669\n",
            "-14670\n",
            "-14671\n",
            "-14672\n",
            "-14673\n",
            "-14674\n",
            "-14675\n",
            "-14676\n",
            "-14677\n",
            "-14678\n",
            "-14679\n",
            "-14680\n",
            "-14681\n",
            "-14682\n",
            "-14683\n",
            "-14684\n",
            "-14685\n",
            "-14686\n",
            "-14687\n",
            "-14688\n",
            "-14689\n",
            "-14690\n",
            "-14691\n",
            "-14692\n",
            "-14693\n",
            "-14694\n",
            "-14695\n",
            "-14696\n",
            "-14697\n",
            "-14698\n",
            "-14699\n",
            "-14700\n",
            "-14701\n",
            "-14702\n",
            "-14703\n",
            "-14704\n",
            "-14705\n",
            "-14706\n",
            "-14707\n",
            "-14708\n",
            "-14709\n",
            "-14710\n",
            "-14711\n",
            "-14712\n",
            "-14713\n",
            "-14714\n",
            "-14715\n",
            "-14716\n",
            "-14717\n",
            "-14718\n",
            "-14719\n",
            "-14720\n",
            "-14721\n",
            "-14722\n",
            "-14723\n",
            "-14724\n",
            "-14725\n",
            "-14726\n",
            "-14727\n",
            "-14728\n",
            "-14729\n",
            "-14730\n",
            "-14731\n",
            "-14732\n",
            "-14733\n",
            "-14734\n",
            "-14735\n",
            "-14736\n",
            "-14737\n",
            "-14738\n",
            "-14739\n",
            "-14740\n",
            "-14741\n",
            "-14742\n",
            "-14743\n",
            "-14744\n",
            "-14745\n",
            "-14746\n",
            "-14747\n",
            "-14748\n",
            "-14749\n",
            "-14750\n",
            "-14751\n",
            "-14752\n",
            "-14753\n",
            "-14754\n",
            "-14755\n",
            "-14756\n",
            "-14757\n",
            "-14758\n",
            "-14759\n",
            "-14760\n",
            "-14761\n",
            "-14762\n",
            "-14763\n",
            "-14764\n",
            "-14765\n",
            "-14766\n",
            "-14767\n",
            "-14768\n",
            "-14769\n",
            "-14770\n",
            "-14771\n",
            "-14772\n",
            "-14773\n",
            "-14774\n",
            "-14775\n",
            "-14776\n",
            "-14777\n",
            "-14778\n",
            "-14779\n",
            "-14780\n",
            "-14781\n",
            "-14782\n",
            "-14783\n",
            "-14784\n",
            "-14785\n",
            "-14786\n",
            "-14787\n",
            "-14788\n",
            "-14789\n",
            "-14790\n",
            "-14791\n",
            "-14792\n",
            "-14793\n",
            "-14794\n",
            "-14795\n",
            "-14796\n",
            "-14797\n",
            "-14798\n",
            "-14799\n",
            "-14800\n",
            "-14801\n",
            "-14802\n",
            "-14803\n",
            "-14804\n",
            "-14805\n",
            "-14806\n",
            "-14807\n",
            "-14808\n",
            "-14809\n",
            "-14810\n",
            "-14811\n",
            "-14812\n",
            "-14813\n",
            "-14814\n",
            "-14815\n",
            "-14816\n",
            "-14817\n",
            "-14818\n",
            "-14819\n",
            "-14820\n",
            "-14821\n",
            "-14822\n",
            "-14823\n",
            "-14824\n",
            "-14825\n",
            "-14826\n",
            "-14827\n",
            "-14828\n",
            "-14829\n",
            "-14830\n",
            "-14831\n",
            "-14832\n",
            "-14833\n",
            "-14834\n",
            "-14835\n",
            "-14836\n",
            "-14837\n",
            "-14838\n",
            "-14839\n",
            "-14840\n",
            "-14841\n",
            "-14842\n",
            "-14843\n",
            "-14844\n",
            "-14845\n",
            "-14846\n",
            "-14847\n",
            "-14848\n",
            "-14849\n",
            "-14850\n",
            "-14851\n",
            "-14852\n",
            "-14853\n",
            "-14854\n",
            "-14855\n",
            "-14856\n",
            "-14857\n",
            "-14858\n",
            "-14859\n",
            "-14860\n",
            "-14861\n",
            "-14862\n",
            "-14863\n",
            "-14864\n",
            "-14865\n",
            "-14866\n",
            "-14867\n",
            "-14868\n",
            "-14869\n",
            "-14870\n",
            "-14871\n",
            "-14872\n",
            "-14873\n",
            "-14874\n",
            "-14875\n",
            "-14876\n",
            "-14877\n",
            "-14878\n",
            "-14879\n",
            "-14880\n",
            "-14881\n",
            "-14882\n",
            "-14883\n",
            "-14884\n",
            "-14885\n",
            "-14886\n",
            "-14887\n",
            "-14888\n",
            "-14889\n",
            "-14890\n",
            "-14891\n",
            "-14892\n",
            "-14893\n",
            "-14894\n",
            "-14895\n",
            "-14896\n",
            "-14897\n",
            "-14898\n",
            "-14899\n",
            "-14900\n",
            "-14901\n",
            "-14902\n",
            "-14903\n",
            "-14904\n",
            "-14905\n",
            "-14906\n",
            "-14907\n",
            "-14908\n",
            "-14909\n",
            "-14910\n",
            "-14911\n",
            "-14912\n",
            "-14913\n",
            "-14914\n",
            "-14915\n",
            "-14916\n",
            "-14917\n",
            "-14918\n",
            "-14919\n",
            "-14920\n",
            "-14921\n",
            "-14922\n",
            "-14923\n",
            "-14924\n",
            "-14925\n",
            "-14926\n",
            "-14927\n",
            "-14928\n",
            "-14929\n",
            "-14930\n",
            "-14931\n",
            "-14932\n",
            "-14933\n",
            "-14934\n",
            "-14935\n",
            "-14936\n",
            "-14937\n",
            "-14938\n",
            "-14939\n",
            "-14940\n",
            "-14941\n",
            "-14942\n",
            "-14943\n",
            "-14944\n",
            "-14945\n",
            "-14946\n",
            "-14947\n",
            "-14948\n",
            "-14949\n",
            "-14950\n",
            "-14951\n",
            "-14952\n",
            "-14953\n",
            "-14954\n",
            "-14955\n",
            "-14956\n",
            "-14957\n",
            "-14958\n",
            "-14959\n",
            "-14960\n",
            "-14961\n",
            "-14962\n",
            "-14963\n",
            "-14964\n",
            "-14965\n",
            "-14966\n",
            "-14967\n",
            "-14968\n",
            "-14969\n",
            "-14970\n",
            "-14971\n",
            "-14972\n",
            "-14973\n",
            "-14974\n",
            "-14975\n",
            "-14976\n",
            "-14977\n",
            "-14978\n",
            "-14979\n",
            "-14980\n",
            "-14981\n",
            "-14982\n",
            "-14983\n",
            "-14984\n",
            "-14985\n",
            "-14986\n",
            "-14987\n",
            "-14988\n",
            "-14989\n",
            "-14990\n",
            "-14991\n",
            "-14992\n",
            "-14993\n",
            "-14994\n",
            "-14995\n",
            "-14996\n",
            "-14997\n",
            "-14998\n",
            "-14999\n",
            "-15000\n",
            "-15001\n",
            "-15002\n",
            "-15003\n",
            "-15004\n",
            "-15005\n",
            "-15006\n",
            "-15007\n",
            "-15008\n",
            "-15009\n",
            "-15010\n",
            "-15011\n",
            "-15012\n",
            "-15013\n",
            "-15014\n",
            "-15015\n",
            "-15016\n",
            "-15017\n",
            "-15018\n",
            "-15019\n",
            "-15020\n",
            "-15021\n",
            "-15022\n",
            "-15023\n",
            "-15024\n",
            "-15025\n",
            "-15026\n",
            "-15027\n",
            "-15028\n",
            "-15029\n",
            "-15030\n",
            "-15031\n",
            "-15032\n",
            "-15033\n",
            "-15034\n",
            "-15035\n",
            "-15036\n",
            "-15037\n",
            "-15038\n",
            "-15039\n",
            "-15040\n",
            "-15041\n",
            "-15042\n",
            "-15043\n",
            "-15044\n",
            "-15045\n",
            "-15046\n",
            "-15047\n",
            "-15048\n",
            "-15049\n",
            "-15050\n",
            "-15051\n",
            "-15052\n",
            "-15053\n",
            "-15054\n",
            "-15055\n",
            "-15056\n",
            "-15057\n",
            "-15058\n",
            "-15059\n",
            "-15060\n",
            "-15061\n",
            "-15062\n",
            "-15063\n",
            "-15064\n",
            "-15065\n",
            "-15066\n",
            "-15067\n",
            "-15068\n",
            "-15069\n",
            "-15070\n",
            "-15071\n",
            "-15072\n",
            "-15073\n",
            "-15074\n",
            "-15075\n",
            "-15076\n",
            "-15077\n",
            "-15078\n",
            "-15079\n",
            "-15080\n",
            "-15081\n",
            "-15082\n",
            "-15083\n",
            "-15084\n",
            "-15085\n",
            "-15086\n",
            "-15087\n",
            "-15088\n",
            "-15089\n",
            "-15090\n",
            "-15091\n",
            "-15092\n",
            "-15093\n",
            "-15094\n",
            "-15095\n",
            "-15096\n",
            "-15097\n",
            "-15098\n",
            "-15099\n",
            "-15100\n",
            "-15101\n",
            "-15102\n",
            "-15103\n",
            "-15104\n",
            "-15105\n",
            "-15106\n",
            "-15107\n",
            "-15108\n",
            "-15109\n",
            "-15110\n",
            "-15111\n",
            "-15112\n",
            "-15113\n",
            "-15114\n",
            "-15115\n",
            "-15116\n",
            "-15117\n",
            "-15118\n",
            "-15119\n",
            "-15120\n",
            "-15121\n",
            "-15122\n",
            "-15123\n",
            "-15124\n",
            "-15125\n",
            "-15126\n",
            "-15127\n",
            "-15128\n",
            "-15129\n",
            "-15130\n",
            "-15131\n",
            "-15132\n",
            "-15133\n",
            "-15134\n",
            "-15135\n",
            "-15136\n",
            "-15137\n",
            "-15138\n",
            "-15139\n",
            "-15140\n",
            "-15141\n",
            "-15142\n",
            "-15143\n",
            "-15144\n",
            "-15145\n",
            "-15146\n",
            "-15147\n",
            "-15148\n",
            "-15149\n",
            "-15150\n",
            "-15151\n",
            "-15152\n",
            "-15153\n",
            "-15154\n",
            "-15155\n",
            "-15156\n",
            "-15157\n",
            "-15158\n",
            "-15159\n",
            "-15160\n",
            "-15161\n",
            "-15162\n",
            "-15163\n",
            "-15164\n",
            "-15165\n",
            "-15166\n",
            "-15167\n",
            "-15168\n",
            "-15169\n",
            "-15170\n",
            "-15171\n",
            "-15172\n",
            "-15173\n",
            "-15174\n",
            "-15175\n",
            "-15176\n",
            "-15177\n",
            "-15178\n",
            "-15179\n",
            "-15180\n",
            "-15181\n",
            "-15182\n",
            "-15183\n",
            "-15184\n",
            "-15185\n",
            "-15186\n",
            "-15187\n",
            "-15188\n",
            "-15189\n",
            "-15190\n",
            "-15191\n",
            "-15192\n",
            "-15193\n",
            "-15194\n",
            "-15195\n",
            "-15196\n",
            "-15197\n",
            "-15198\n",
            "-15199\n",
            "-15200\n",
            "-15201\n",
            "-15202\n",
            "-15203\n",
            "-15204\n",
            "-15205\n",
            "-15206\n",
            "-15207\n",
            "-15208\n",
            "-15209\n",
            "-15210\n",
            "-15211\n",
            "-15212\n",
            "-15213\n",
            "-15214\n",
            "-15215\n",
            "-15216\n",
            "-15217\n",
            "-15218\n",
            "-15219\n",
            "-15220\n",
            "-15221\n",
            "-15222\n",
            "-15223\n",
            "-15224\n",
            "-15225\n",
            "-15226\n",
            "-15227\n",
            "-15228\n",
            "-15229\n",
            "-15230\n",
            "-15231\n",
            "-15232\n",
            "-15233\n",
            "-15234\n",
            "-15235\n",
            "-15236\n",
            "-15237\n",
            "-15238\n",
            "-15239\n",
            "-15240\n",
            "-15241\n",
            "-15242\n",
            "-15243\n",
            "-15244\n",
            "-15245\n",
            "-15246\n",
            "-15247\n",
            "-15248\n",
            "-15249\n",
            "-15250\n",
            "-15251\n",
            "-15252\n",
            "-15253\n",
            "-15254\n",
            "-15255\n",
            "-15256\n",
            "-15257\n",
            "-15258\n",
            "-15259\n",
            "-15260\n",
            "-15261\n",
            "-15262\n",
            "-15263\n",
            "-15264\n",
            "-15265\n",
            "-15266\n",
            "-15267\n",
            "-15268\n",
            "-15269\n",
            "-15270\n",
            "-15271\n",
            "-15272\n",
            "-15273\n",
            "-15274\n",
            "-15275\n",
            "-15276\n",
            "-15277\n",
            "-15278\n",
            "-15279\n",
            "-15280\n",
            "-15281\n",
            "-15282\n",
            "-15283\n",
            "-15284\n",
            "-15285\n",
            "-15286\n",
            "-15287\n",
            "-15288\n",
            "-15289\n",
            "-15290\n",
            "-15291\n",
            "-15292\n",
            "-15293\n",
            "-15294\n",
            "-15295\n",
            "-15296\n",
            "-15297\n",
            "-15298\n",
            "-15299\n",
            "-15300\n",
            "-15301\n",
            "-15302\n",
            "-15303\n",
            "-15304\n",
            "-15305\n",
            "-15306\n",
            "-15307\n",
            "-15308\n",
            "-15309\n",
            "-15310\n",
            "-15311\n",
            "-15312\n",
            "-15313\n",
            "-15314\n",
            "-15315\n",
            "-15316\n",
            "-15317\n",
            "-15318\n",
            "-15319\n",
            "-15320\n",
            "-15321\n",
            "-15322\n",
            "-15323\n",
            "-15324\n",
            "-15325\n",
            "-15326\n",
            "-15327\n",
            "-15328\n",
            "-15329\n",
            "-15330\n",
            "-15331\n",
            "-15332\n",
            "-15333\n",
            "-15334\n",
            "-15335\n",
            "-15336\n",
            "-15337\n",
            "-15338\n",
            "-15339\n",
            "-15340\n",
            "-15341\n",
            "-15342\n",
            "-15343\n",
            "-15344\n",
            "-15345\n",
            "-15346\n",
            "-15347\n",
            "-15348\n",
            "-15349\n",
            "-15350\n",
            "-15351\n",
            "-15352\n",
            "-15353\n",
            "-15354\n",
            "-15355\n",
            "-15356\n",
            "-15357\n",
            "-15358\n",
            "-15359\n",
            "-15360\n",
            "-15361\n",
            "-15362\n",
            "-15363\n",
            "-15364\n",
            "-15365\n",
            "-15366\n",
            "-15367\n",
            "-15368\n",
            "-15369\n",
            "-15370\n",
            "-15371\n",
            "-15372\n",
            "-15373\n",
            "-15374\n",
            "-15375\n",
            "-15376\n",
            "-15377\n",
            "-15378\n",
            "-15379\n",
            "-15380\n",
            "-15381\n",
            "-15382\n",
            "-15383\n",
            "-15384\n",
            "-15385\n",
            "-15386\n",
            "-15387\n",
            "-15388\n",
            "-15389\n",
            "-15390\n",
            "-15391\n",
            "-15392\n",
            "-15393\n",
            "-15394\n",
            "-15395\n",
            "-15396\n",
            "-15397\n",
            "-15398\n",
            "-15399\n",
            "-15400\n",
            "-15401\n",
            "-15402\n",
            "-15403\n",
            "-15404\n",
            "-15405\n",
            "-15406\n",
            "-15407\n",
            "-15408\n",
            "-15409\n",
            "-15410\n",
            "-15411\n",
            "-15412\n",
            "-15413\n",
            "-15414\n",
            "-15415\n",
            "-15416\n",
            "-15417\n",
            "-15418\n",
            "-15419\n",
            "-15420\n",
            "-15421\n",
            "-15422\n",
            "-15423\n",
            "-15424\n",
            "-15425\n",
            "-15426\n",
            "-15427\n",
            "-15428\n",
            "-15429\n",
            "-15430\n",
            "-15431\n",
            "-15432\n",
            "-15433\n",
            "-15434\n",
            "-15435\n",
            "-15436\n",
            "-15437\n",
            "-15438\n",
            "-15439\n",
            "-15440\n",
            "-15441\n",
            "-15442\n",
            "-15443\n",
            "-15444\n",
            "-15445\n",
            "-15446\n",
            "-15447\n",
            "-15448\n",
            "-15449\n",
            "-15450\n",
            "-15451\n",
            "-15452\n",
            "-15453\n",
            "-15454\n",
            "-15455\n",
            "-15456\n",
            "-15457\n",
            "-15458\n",
            "-15459\n",
            "-15460\n",
            "-15461\n",
            "-15462\n",
            "-15463\n",
            "-15464\n",
            "-15465\n",
            "-15466\n",
            "-15467\n",
            "-15468\n",
            "-15469\n",
            "-15470\n",
            "-15471\n",
            "-15472\n",
            "-15473\n",
            "-15474\n",
            "-15475\n",
            "-15476\n",
            "-15477\n",
            "-15478\n",
            "-15479\n",
            "-15480\n",
            "-15481\n",
            "-15482\n",
            "-15483\n",
            "-15484\n",
            "-15485\n",
            "-15486\n",
            "-15487\n",
            "-15488\n",
            "-15489\n",
            "-15490\n",
            "-15491\n",
            "-15492\n",
            "-15493\n",
            "-15494\n",
            "-15495\n",
            "-15496\n",
            "-15497\n",
            "-15498\n",
            "-15499\n",
            "-15500\n",
            "-15501\n",
            "-15502\n",
            "-15503\n",
            "-15504\n",
            "-15505\n",
            "-15506\n",
            "-15507\n",
            "-15508\n",
            "-15509\n",
            "-15510\n",
            "-15511\n",
            "-15512\n",
            "-15513\n",
            "-15514\n",
            "-15515\n",
            "-15516\n",
            "-15517\n",
            "-15518\n",
            "-15519\n",
            "-15520\n",
            "-15521\n",
            "-15522\n",
            "-15523\n",
            "-15524\n",
            "-15525\n",
            "-15526\n",
            "-15527\n",
            "-15528\n",
            "-15529\n",
            "-15530\n",
            "-15531\n",
            "-15532\n",
            "-15533\n",
            "-15534\n",
            "-15535\n",
            "-15536\n",
            "-15537\n",
            "-15538\n",
            "-15539\n",
            "-15540\n",
            "-15541\n",
            "-15542\n",
            "-15543\n",
            "-15544\n",
            "-15545\n",
            "-15546\n",
            "-15547\n",
            "-15548\n",
            "-15549\n",
            "-15550\n",
            "-15551\n",
            "-15552\n",
            "-15553\n",
            "-15554\n",
            "-15555\n",
            "-15556\n",
            "-15557\n",
            "-15558\n",
            "-15559\n",
            "-15560\n",
            "-15561\n",
            "-15562\n",
            "-15563\n",
            "-15564\n",
            "-15565\n",
            "-15566\n",
            "-15567\n",
            "-15568\n",
            "-15569\n",
            "-15570\n",
            "-15571\n",
            "-15572\n",
            "-15573\n",
            "-15574\n",
            "-15575\n",
            "-15576\n",
            "-15577\n",
            "-15578\n",
            "-15579\n",
            "-15580\n",
            "-15581\n",
            "-15582\n",
            "-15583\n",
            "-15584\n",
            "-15585\n",
            "-15586\n",
            "-15587\n",
            "-15588\n",
            "-15589\n",
            "-15590\n",
            "-15591\n",
            "-15592\n",
            "-15593\n",
            "-15594\n",
            "-15595\n",
            "-15596\n",
            "-15597\n",
            "-15598\n",
            "-15599\n",
            "-15600\n",
            "-15601\n",
            "-15602\n",
            "-15603\n",
            "-15604\n",
            "-15605\n",
            "-15606\n",
            "-15607\n",
            "-15608\n",
            "-15609\n",
            "-15610\n",
            "-15611\n",
            "-15612\n",
            "-15613\n",
            "-15614\n",
            "-15615\n",
            "-15616\n",
            "-15617\n",
            "-15618\n",
            "-15619\n",
            "-15620\n",
            "-15621\n",
            "-15622\n",
            "-15623\n",
            "-15624\n",
            "-15625\n",
            "-15626\n",
            "-15627\n",
            "-15628\n",
            "-15629\n",
            "-15630\n",
            "-15631\n",
            "-15632\n",
            "-15633\n",
            "-15634\n",
            "-15635\n",
            "-15636\n",
            "-15637\n",
            "-15638\n",
            "-15639\n",
            "-15640\n",
            "-15641\n",
            "-15642\n",
            "-15643\n",
            "-15644\n",
            "-15645\n",
            "-15646\n",
            "-15647\n",
            "-15648\n",
            "-15649\n",
            "-15650\n",
            "-15651\n",
            "-15652\n",
            "-15653\n",
            "-15654\n",
            "-15655\n",
            "-15656\n",
            "-15657\n",
            "-15658\n",
            "-15659\n",
            "-15660\n",
            "-15661\n",
            "-15662\n",
            "-15663\n",
            "-15664\n",
            "-15665\n",
            "-15666\n",
            "-15667\n",
            "-15668\n",
            "-15669\n",
            "-15670\n",
            "-15671\n",
            "-15672\n",
            "-15673\n",
            "-15674\n",
            "-15675\n",
            "-15676\n",
            "-15677\n",
            "-15678\n",
            "-15679\n",
            "-15680\n",
            "-15681\n",
            "-15682\n",
            "-15683\n",
            "-15684\n",
            "-15685\n",
            "-15686\n",
            "-15687\n",
            "-15688\n",
            "-15689\n",
            "-15690\n",
            "-15691\n",
            "-15692\n",
            "-15693\n",
            "-15694\n",
            "-15695\n",
            "-15696\n",
            "-15697\n",
            "-15698\n",
            "-15699\n",
            "-15700\n",
            "-15701\n",
            "-15702\n",
            "-15703\n",
            "-15704\n",
            "-15705\n",
            "-15706\n",
            "-15707\n",
            "-15708\n",
            "-15709\n",
            "-15710\n",
            "-15711\n",
            "-15712\n",
            "-15713\n",
            "-15714\n",
            "-15715\n",
            "-15716\n",
            "-15717\n",
            "-15718\n",
            "-15719\n",
            "-15720\n",
            "-15721\n",
            "-15722\n",
            "-15723\n",
            "-15724\n",
            "-15725\n",
            "-15726\n",
            "-15727\n",
            "-15728\n",
            "-15729\n",
            "-15730\n",
            "-15731\n",
            "-15732\n",
            "-15733\n",
            "-15734\n",
            "-15735\n",
            "-15736\n",
            "-15737\n",
            "-15738\n",
            "-15739\n",
            "-15740\n",
            "-15741\n",
            "-15742\n",
            "-15743\n",
            "-15744\n",
            "-15745\n",
            "-15746\n",
            "-15747\n",
            "-15748\n",
            "-15749\n",
            "-15750\n",
            "-15751\n",
            "-15752\n",
            "-15753\n",
            "-15754\n",
            "-15755\n",
            "-15756\n",
            "-15757\n",
            "-15758\n",
            "-15759\n",
            "-15760\n",
            "-15761\n",
            "-15762\n",
            "-15763\n",
            "-15764\n",
            "-15765\n",
            "-15766\n",
            "-15767\n",
            "-15768\n",
            "-15769\n",
            "-15770\n",
            "-15771\n",
            "-15772\n",
            "-15773\n",
            "-15774\n",
            "-15775\n",
            "-15776\n",
            "-15777\n",
            "-15778\n",
            "-15779\n",
            "-15780\n",
            "-15781\n",
            "-15782\n",
            "-15783\n",
            "-15784\n",
            "-15785\n",
            "-15786\n",
            "-15787\n",
            "-15788\n",
            "-15789\n",
            "-15790\n",
            "-15791\n",
            "-15792\n",
            "-15793\n",
            "-15794\n",
            "-15795\n",
            "-15796\n",
            "-15797\n",
            "-15798\n",
            "-15799\n",
            "-15800\n",
            "-15801\n",
            "-15802\n",
            "-15803\n",
            "-15804\n",
            "-15805\n",
            "-15806\n",
            "-15807\n",
            "-15808\n",
            "-15809\n",
            "-15810\n",
            "-15811\n",
            "-15812\n",
            "-15813\n",
            "-15814\n",
            "-15815\n",
            "-15816\n",
            "-15817\n",
            "-15818\n",
            "-15819\n",
            "-15820\n",
            "-15821\n",
            "-15822\n",
            "-15823\n",
            "-15824\n",
            "-15825\n",
            "-15826\n",
            "-15827\n",
            "-15828\n",
            "-15829\n",
            "-15830\n",
            "-15831\n",
            "-15832\n",
            "-15833\n",
            "-15834\n",
            "-15835\n",
            "-15836\n",
            "-15837\n",
            "-15838\n",
            "-15839\n",
            "-15840\n",
            "-15841\n",
            "-15842\n",
            "-15843\n",
            "-15844\n",
            "-15845\n",
            "-15846\n",
            "-15847\n",
            "-15848\n",
            "-15849\n",
            "-15850\n",
            "-15851\n",
            "-15852\n",
            "-15853\n",
            "-15854\n",
            "-15855\n",
            "-15856\n",
            "-15857\n",
            "-15858\n",
            "-15859\n",
            "-15860\n",
            "-15861\n",
            "-15862\n",
            "-15863\n",
            "-15864\n",
            "-15865\n",
            "-15866\n",
            "-15867\n",
            "-15868\n",
            "-15869\n",
            "-15870\n",
            "-15871\n",
            "-15872\n",
            "-15873\n",
            "-15874\n",
            "-15875\n",
            "-15876\n",
            "-15877\n",
            "-15878\n",
            "-15879\n",
            "-15880\n",
            "-15881\n",
            "-15882\n",
            "-15883\n",
            "-15884\n",
            "-15885\n",
            "-15886\n",
            "-15887\n",
            "-15888\n",
            "-15889\n",
            "-15890\n",
            "-15891\n",
            "-15892\n",
            "-15893\n",
            "-15894\n",
            "-15895\n",
            "-15896\n",
            "-15897\n",
            "-15898\n",
            "-15899\n",
            "-15900\n",
            "-15901\n",
            "-15902\n",
            "-15903\n",
            "-15904\n",
            "-15905\n",
            "-15906\n",
            "-15907\n",
            "-15908\n",
            "-15909\n",
            "-15910\n",
            "-15911\n",
            "-15912\n",
            "-15913\n",
            "-15914\n",
            "-15915\n",
            "-15916\n",
            "-15917\n",
            "-15918\n",
            "-15919\n",
            "-15920\n",
            "-15921\n",
            "-15922\n",
            "-15923\n",
            "-15924\n",
            "-15925\n",
            "-15926\n",
            "-15927\n",
            "-15928\n",
            "-15929\n",
            "-15930\n",
            "-15931\n",
            "-15932\n",
            "-15933\n",
            "-15934\n",
            "-15935\n",
            "-15936\n",
            "-15937\n",
            "-15938\n",
            "-15939\n",
            "-15940\n",
            "-15941\n",
            "-15942\n",
            "-15943\n",
            "-15944\n",
            "-15945\n",
            "-15946\n",
            "-15947\n",
            "-15948\n",
            "-15949\n",
            "-15950\n",
            "-15951\n",
            "-15952\n",
            "-15953\n",
            "-15954\n",
            "-15955\n",
            "-15956\n",
            "-15957\n",
            "-15958\n",
            "-15959\n",
            "-15960\n",
            "-15961\n",
            "-15962\n",
            "-15963\n",
            "-15964\n",
            "-15965\n",
            "-15966\n",
            "-15967\n",
            "-15968\n",
            "-15969\n",
            "-15970\n",
            "-15971\n",
            "-15972\n",
            "-15973\n",
            "-15974\n",
            "-15975\n",
            "-15976\n",
            "-15977\n",
            "-15978\n",
            "-15979\n",
            "-15980\n",
            "-15981\n",
            "-15982\n",
            "-15983\n",
            "-15984\n",
            "-15985\n",
            "-15986\n",
            "-15987\n",
            "-15988\n",
            "-15989\n",
            "-15990\n",
            "-15991\n",
            "-15992\n",
            "-15993\n",
            "-15994\n",
            "-15995\n",
            "-15996\n",
            "-15997\n",
            "-15998\n",
            "-15999\n",
            "-16000\n",
            "-16001\n",
            "-16002\n",
            "-16003\n",
            "-16004\n",
            "-16005\n",
            "-16006\n",
            "-16007\n",
            "-16008\n",
            "-16009\n",
            "-16010\n",
            "-16011\n",
            "-16012\n",
            "-16013\n",
            "-16014\n",
            "-16015\n",
            "-16016\n",
            "-16017\n",
            "-16018\n",
            "-16019\n",
            "-16020\n",
            "-16021\n",
            "-16022\n",
            "-16023\n",
            "-16024\n",
            "-16025\n",
            "-16026\n",
            "-16027\n",
            "-16028\n",
            "-16029\n",
            "-16030\n",
            "-16031\n",
            "-16032\n",
            "-16033\n",
            "-16034\n",
            "-16035\n",
            "-16036\n",
            "-16037\n",
            "-16038\n",
            "-16039\n",
            "-16040\n",
            "-16041\n",
            "-16042\n",
            "-16043\n",
            "-16044\n",
            "-16045\n",
            "-16046\n",
            "-16047\n",
            "-16048\n",
            "-16049\n",
            "-16050\n",
            "-16051\n",
            "-16052\n",
            "-16053\n",
            "-16054\n",
            "-16055\n",
            "-16056\n",
            "-16057\n",
            "-16058\n",
            "-16059\n",
            "-16060\n",
            "-16061\n",
            "-16062\n",
            "-16063\n",
            "-16064\n",
            "-16065\n",
            "-16066\n",
            "-16067\n",
            "-16068\n",
            "-16069\n",
            "-16070\n",
            "-16071\n",
            "-16072\n",
            "-16073\n",
            "-16074\n",
            "-16075\n",
            "-16076\n",
            "-16077\n",
            "-16078\n",
            "-16079\n",
            "-16080\n",
            "-16081\n",
            "-16082\n",
            "-16083\n",
            "-16084\n",
            "-16085\n",
            "-16086\n",
            "-16087\n",
            "-16088\n",
            "-16089\n",
            "-16090\n",
            "-16091\n",
            "-16092\n",
            "-16093\n",
            "-16094\n",
            "-16095\n",
            "-16096\n",
            "-16097\n",
            "-16098\n",
            "-16099\n",
            "-16100\n",
            "-16101\n",
            "-16102\n",
            "-16103\n",
            "-16104\n",
            "-16105\n",
            "-16106\n",
            "-16107\n",
            "-16108\n",
            "-16109\n",
            "-16110\n",
            "-16111\n",
            "-16112\n",
            "-16113\n",
            "-16114\n",
            "-16115\n",
            "-16116\n",
            "-16117\n",
            "-16118\n",
            "-16119\n",
            "-16120\n",
            "-16121\n",
            "-16122\n",
            "-16123\n",
            "-16124\n",
            "-16125\n",
            "-16126\n",
            "-16127\n",
            "-16128\n",
            "-16129\n",
            "-16130\n",
            "-16131\n",
            "-16132\n",
            "-16133\n",
            "-16134\n",
            "-16135\n",
            "-16136\n",
            "-16137\n",
            "-16138\n",
            "-16139\n",
            "-16140\n",
            "-16141\n",
            "-16142\n",
            "-16143\n",
            "-16144\n",
            "-16145\n",
            "-16146\n",
            "-16147\n",
            "-16148\n",
            "-16149\n",
            "-16150\n",
            "-16151\n",
            "-16152\n",
            "-16153\n",
            "-16154\n",
            "-16155\n",
            "-16156\n",
            "-16157\n",
            "-16158\n",
            "-16159\n",
            "-16160\n",
            "-16161\n",
            "-16162\n",
            "-16163\n",
            "-16164\n",
            "-16165\n",
            "-16166\n",
            "-16167\n",
            "-16168\n",
            "-16169\n",
            "-16170\n",
            "-16171\n",
            "-16172\n",
            "-16173\n",
            "-16174\n",
            "-16175\n",
            "-16176\n",
            "-16177\n",
            "-16178\n",
            "-16179\n",
            "-16180\n",
            "-16181\n",
            "-16182\n",
            "-16183\n",
            "-16184\n",
            "-16185\n",
            "-16186\n",
            "-16187\n",
            "-16188\n",
            "-16189\n",
            "-16190\n",
            "-16191\n",
            "-16192\n",
            "-16193\n",
            "-16194\n",
            "-16195\n",
            "-16196\n",
            "-16197\n",
            "-16198\n",
            "-16199\n",
            "-16200\n",
            "-16201\n",
            "-16202\n",
            "-16203\n",
            "-16204\n",
            "-16205\n",
            "-16206\n",
            "-16207\n",
            "-16208\n",
            "-16209\n",
            "-16210\n",
            "-16211\n",
            "-16212\n",
            "-16213\n",
            "-16214\n",
            "-16215\n",
            "-16216\n",
            "-16217\n",
            "-16218\n",
            "-16219\n",
            "-16220\n",
            "-16221\n",
            "-16222\n",
            "-16223\n",
            "-16224\n",
            "-16225\n",
            "-16226\n",
            "-16227\n",
            "-16228\n",
            "-16229\n",
            "-16230\n",
            "-16231\n",
            "-16232\n",
            "-16233\n",
            "-16234\n",
            "-16235\n",
            "-16236\n",
            "-16237\n",
            "-16238\n",
            "-16239\n",
            "-16240\n",
            "-16241\n",
            "-16242\n",
            "-16243\n",
            "-16244\n",
            "-16245\n",
            "-16246\n",
            "-16247\n",
            "-16248\n",
            "-16249\n",
            "-16250\n",
            "-16251\n",
            "-16252\n",
            "-16253\n",
            "-16254\n",
            "-16255\n",
            "-16256\n",
            "-16257\n",
            "-16258\n",
            "-16259\n",
            "-16260\n",
            "-16261\n",
            "-16262\n",
            "-16263\n",
            "-16264\n",
            "-16265\n",
            "-16266\n",
            "-16267\n",
            "-16268\n",
            "-16269\n",
            "-16270\n",
            "-16271\n",
            "-16272\n",
            "-16273\n",
            "-16274\n",
            "-16275\n",
            "-16276\n",
            "-16277\n",
            "-16278\n",
            "-16279\n",
            "-16280\n",
            "-16281\n",
            "-16282\n",
            "-16283\n",
            "-16284\n",
            "-16285\n",
            "-16286\n",
            "-16287\n",
            "-16288\n",
            "-16289\n",
            "-16290\n",
            "-16291\n",
            "-16292\n",
            "-16293\n",
            "-16294\n",
            "-16295\n",
            "-16296\n",
            "-16297\n",
            "-16298\n",
            "-16299\n",
            "-16300\n",
            "-16301\n",
            "-16302\n",
            "-16303\n",
            "-16304\n",
            "-16305\n",
            "-16306\n",
            "-16307\n",
            "-16308\n",
            "-16309\n",
            "-16310\n",
            "-16311\n",
            "-16312\n",
            "-16313\n",
            "-16314\n",
            "-16315\n",
            "-16316\n",
            "-16317\n",
            "-16318\n",
            "-16319\n",
            "-16320\n",
            "-16321\n",
            "-16322\n",
            "-16323\n",
            "-16324\n",
            "-16325\n",
            "-16326\n",
            "-16327\n",
            "-16328\n",
            "-16329\n",
            "-16330\n",
            "-16331\n",
            "-16332\n",
            "-16333\n",
            "-16334\n",
            "-16335\n",
            "-16336\n",
            "-16337\n",
            "-16338\n",
            "-16339\n",
            "-16340\n",
            "-16341\n",
            "-16342\n",
            "-16343\n",
            "-16344\n",
            "-16345\n",
            "-16346\n",
            "-16347\n",
            "-16348\n",
            "-16349\n",
            "-16350\n",
            "-16351\n",
            "-16352\n",
            "-16353\n",
            "-16354\n",
            "-16355\n",
            "-16356\n",
            "-16357\n",
            "-16358\n",
            "-16359\n",
            "-16360\n",
            "-16361\n",
            "-16362\n",
            "-16363\n",
            "-16364\n",
            "-16365\n",
            "-16366\n",
            "-16367\n",
            "-16368\n",
            "-16369\n",
            "-16370\n",
            "-16371\n",
            "-16372\n",
            "-16373\n",
            "-16374\n",
            "-16375\n",
            "-16376\n",
            "-16377\n",
            "-16378\n",
            "-16379\n",
            "-16380\n",
            "-16381\n",
            "-16382\n",
            "-16383\n",
            "-16384\n",
            "-16385\n",
            "-16386\n",
            "-16387\n",
            "-16388\n",
            "-16389\n",
            "-16390\n",
            "-16391\n",
            "-16392\n",
            "-16393\n",
            "-16394\n",
            "-16395\n",
            "-16396\n",
            "-16397\n",
            "-16398\n",
            "-16399\n",
            "-16400\n",
            "-16401\n",
            "-16402\n",
            "-16403\n",
            "-16404\n",
            "-16405\n",
            "-16406\n",
            "-16407\n",
            "-16408\n",
            "-16409\n",
            "-16410\n",
            "-16411\n",
            "-16412\n",
            "-16413\n",
            "-16414\n",
            "-16415\n",
            "-16416\n",
            "-16417\n",
            "-16418\n",
            "-16419\n",
            "-16420\n",
            "-16421\n",
            "-16422\n",
            "-16423\n",
            "-16424\n",
            "-16425\n",
            "-16426\n",
            "-16427\n",
            "-16428\n",
            "-16429\n",
            "-16430\n",
            "-16431\n",
            "-16432\n",
            "-16433\n",
            "-16434\n",
            "-16435\n",
            "-16436\n",
            "-16437\n",
            "-16438\n",
            "-16439\n",
            "-16440\n",
            "-16441\n",
            "-16442\n",
            "-16443\n",
            "-16444\n",
            "-16445\n",
            "-16446\n",
            "-16447\n",
            "-16448\n",
            "-16449\n",
            "-16450\n",
            "-16451\n",
            "-16452\n",
            "-16453\n",
            "-16454\n",
            "-16455\n",
            "-16456\n",
            "-16457\n",
            "-16458\n",
            "-16459\n",
            "-16460\n",
            "-16461\n",
            "-16462\n",
            "-16463\n",
            "-16464\n",
            "-16465\n",
            "-16466\n",
            "-16467\n",
            "-16468\n",
            "-16469\n",
            "-16470\n",
            "-16471\n",
            "-16472\n",
            "-16473\n",
            "-16474\n",
            "-16475\n",
            "-16476\n",
            "-16477\n",
            "-16478\n",
            "-16479\n",
            "-16480\n",
            "-16481\n",
            "-16482\n",
            "-16483\n",
            "-16484\n",
            "-16485\n",
            "-16486\n",
            "-16487\n",
            "-16488\n",
            "-16489\n",
            "-16490\n",
            "-16491\n",
            "-16492\n",
            "-16493\n",
            "-16494\n",
            "-16495\n",
            "-16496\n",
            "-16497\n",
            "-16498\n",
            "-16499\n",
            "-16500\n",
            "-16501\n",
            "-16502\n",
            "-16503\n",
            "-16504\n",
            "-16505\n",
            "-16506\n",
            "-16507\n",
            "-16508\n",
            "-16509\n",
            "-16510\n",
            "-16511\n",
            "-16512\n",
            "-16513\n",
            "-16514\n",
            "-16515\n",
            "-16516\n",
            "-16517\n",
            "-16518\n",
            "-16519\n",
            "-16520\n",
            "-16521\n",
            "-16522\n",
            "-16523\n",
            "-16524\n",
            "-16525\n",
            "-16526\n",
            "-16527\n",
            "-16528\n",
            "-16529\n",
            "-16530\n",
            "-16531\n",
            "-16532\n",
            "-16533\n",
            "-16534\n",
            "-16535\n",
            "-16536\n",
            "-16537\n",
            "-16538\n",
            "-16539\n",
            "-16540\n",
            "-16541\n",
            "-16542\n",
            "-16543\n",
            "-16544\n",
            "-16545\n",
            "-16546\n",
            "-16547\n",
            "-16548\n",
            "-16549\n",
            "-16550\n",
            "-16551\n",
            "-16552\n",
            "-16553\n",
            "-16554\n",
            "-16555\n",
            "-16556\n",
            "-16557\n",
            "-16558\n",
            "-16559\n",
            "-16560\n",
            "-16561\n",
            "-16562\n",
            "-16563\n",
            "-16564\n",
            "-16565\n",
            "-16566\n",
            "-16567\n",
            "-16568\n",
            "-16569\n",
            "-16570\n",
            "-16571\n",
            "-16572\n",
            "-16573\n",
            "-16574\n",
            "-16575\n",
            "-16576\n",
            "-16577\n",
            "-16578\n",
            "-16579\n",
            "-16580\n",
            "-16581\n",
            "-16582\n",
            "-16583\n",
            "-16584\n",
            "-16585\n",
            "-16586\n",
            "-16587\n",
            "-16588\n",
            "-16589\n",
            "-16590\n",
            "-16591\n",
            "-16592\n",
            "-16593\n",
            "-16594\n",
            "-16595\n",
            "-16596\n",
            "-16597\n",
            "-16598\n",
            "-16599\n",
            "-16600\n",
            "-16601\n",
            "-16602\n",
            "-16603\n",
            "-16604\n",
            "-16605\n",
            "-16606\n",
            "-16607\n",
            "-16608\n",
            "-16609\n",
            "-16610\n",
            "-16611\n",
            "-16612\n",
            "-16613\n",
            "-16614\n",
            "-16615\n",
            "-16616\n",
            "-16617\n",
            "-16618\n",
            "-16619\n",
            "-16620\n",
            "-16621\n",
            "-16622\n",
            "-16623\n",
            "-16624\n",
            "-16625\n",
            "-16626\n",
            "-16627\n",
            "-16628\n",
            "-16629\n",
            "-16630\n",
            "-16631\n",
            "-16632\n",
            "-16633\n",
            "-16634\n",
            "-16635\n",
            "-16636\n",
            "-16637\n",
            "-16638\n",
            "-16639\n",
            "-16640\n",
            "-16641\n",
            "-16642\n",
            "-16643\n",
            "-16644\n",
            "-16645\n",
            "-16646\n",
            "-16647\n",
            "-16648\n",
            "-16649\n",
            "-16650\n",
            "-16651\n",
            "-16652\n",
            "-16653\n",
            "-16654\n",
            "-16655\n",
            "-16656\n",
            "-16657\n",
            "-16658\n",
            "-16659\n",
            "-16660\n",
            "-16661\n",
            "-16662\n",
            "-16663\n",
            "-16664\n",
            "-16665\n",
            "-16666\n",
            "-16667\n",
            "-16668\n",
            "-16669\n",
            "-16670\n",
            "-16671\n",
            "-16672\n",
            "-16673\n",
            "-16674\n",
            "-16675\n",
            "-16676\n",
            "-16677\n",
            "-16678\n",
            "-16679\n",
            "-16680\n",
            "-16681\n",
            "-16682\n",
            "-16683\n",
            "-16684\n",
            "-16685\n",
            "-16686\n",
            "-16687\n",
            "-16688\n",
            "-16689\n",
            "-16690\n",
            "-16691\n",
            "-16692\n",
            "-16693\n",
            "-16694\n",
            "-16695\n",
            "-16696\n",
            "-16697\n",
            "-16698\n",
            "-16699\n",
            "-16700\n",
            "-16701\n",
            "-16702\n",
            "-16703\n",
            "-16704\n",
            "-16705\n",
            "-16706\n",
            "-16707\n",
            "-16708\n",
            "-16709\n",
            "-16710\n",
            "-16711\n",
            "-16712\n",
            "-16713\n",
            "-16714\n",
            "-16715\n",
            "-16716\n",
            "-16717\n",
            "-16718\n",
            "-16719\n",
            "-16720\n",
            "-16721\n",
            "-16722\n",
            "-16723\n",
            "-16724\n",
            "-16725\n",
            "-16726\n",
            "-16727\n",
            "-16728\n",
            "-16729\n",
            "-16730\n",
            "-16731\n",
            "-16732\n",
            "-16733\n",
            "-16734\n",
            "-16735\n",
            "-16736\n",
            "-16737\n",
            "-16738\n",
            "-16739\n",
            "-16740\n",
            "-16741\n",
            "-16742\n",
            "-16743\n",
            "-16744\n",
            "-16745\n",
            "-16746\n",
            "-16747\n",
            "-16748\n",
            "-16749\n",
            "-16750\n",
            "-16751\n",
            "-16752\n",
            "-16753\n",
            "-16754\n",
            "-16755\n",
            "-16756\n",
            "-16757\n",
            "-16758\n",
            "-16759\n",
            "-16760\n",
            "-16761\n",
            "-16762\n",
            "-16763\n",
            "-16764\n",
            "-16765\n",
            "-16766\n",
            "-16767\n",
            "-16768\n",
            "-16769\n",
            "-16770\n",
            "-16771\n",
            "-16772\n",
            "-16773\n",
            "-16774\n",
            "-16775\n",
            "-16776\n",
            "-16777\n",
            "-16778\n",
            "-16779\n",
            "-16780\n",
            "-16781\n",
            "-16782\n",
            "-16783\n",
            "-16784\n",
            "-16785\n",
            "-16786\n",
            "-16787\n",
            "-16788\n",
            "-16789\n",
            "-16790\n",
            "-16791\n",
            "-16792\n",
            "-16793\n",
            "-16794\n",
            "-16795\n",
            "-16796\n",
            "-16797\n",
            "-16798\n",
            "-16799\n",
            "-16800\n",
            "-16801\n",
            "-16802\n",
            "-16803\n",
            "-16804\n",
            "-16805\n",
            "-16806\n",
            "-16807\n",
            "-16808\n",
            "-16809\n",
            "-16810\n",
            "-16811\n",
            "-16812\n",
            "-16813\n",
            "-16814\n",
            "-16815\n",
            "-16816\n",
            "-16817\n",
            "-16818\n",
            "-16819\n",
            "-16820\n",
            "-16821\n",
            "-16822\n",
            "-16823\n",
            "-16824\n",
            "-16825\n",
            "-16826\n",
            "-16827\n",
            "-16828\n",
            "-16829\n",
            "-16830\n",
            "-16831\n",
            "-16832\n",
            "-16833\n",
            "-16834\n",
            "-16835\n",
            "-16836\n",
            "-16837\n",
            "-16838\n",
            "-16839\n",
            "-16840\n",
            "-16841\n",
            "-16842\n",
            "-16843\n",
            "-16844\n",
            "-16845\n",
            "-16846\n",
            "-16847\n",
            "-16848\n",
            "-16849\n",
            "-16850\n",
            "-16851\n",
            "-16852\n",
            "-16853\n",
            "-16854\n",
            "-16855\n",
            "-16856\n",
            "-16857\n",
            "-16858\n",
            "-16859\n",
            "-16860\n",
            "-16861\n",
            "-16862\n",
            "-16863\n",
            "-16864\n",
            "-16865\n",
            "-16866\n",
            "-16867\n",
            "-16868\n",
            "-16869\n",
            "-16870\n",
            "-16871\n",
            "-16872\n",
            "-16873\n",
            "-16874\n",
            "-16875\n",
            "-16876\n",
            "-16877\n",
            "-16878\n",
            "-16879\n",
            "-16880\n",
            "-16881\n",
            "-16882\n",
            "-16883\n",
            "-16884\n",
            "-16885\n",
            "-16886\n",
            "-16887\n",
            "-16888\n",
            "-16889\n",
            "-16890\n",
            "-16891\n",
            "-16892\n",
            "-16893\n",
            "-16894\n",
            "-16895\n",
            "-16896\n",
            "-16897\n",
            "-16898\n",
            "-16899\n",
            "-16900\n",
            "-16901\n",
            "-16902\n",
            "-16903\n",
            "-16904\n",
            "-16905\n",
            "-16906\n",
            "-16907\n",
            "-16908\n",
            "-16909\n",
            "-16910\n",
            "-16911\n",
            "-16912\n",
            "-16913\n",
            "-16914\n",
            "-16915\n",
            "-16916\n",
            "-16917\n",
            "-16918\n",
            "-16919\n",
            "-16920\n",
            "-16921\n",
            "-16922\n",
            "-16923\n",
            "-16924\n",
            "-16925\n",
            "-16926\n",
            "-16927\n",
            "-16928\n",
            "-16929\n",
            "-16930\n",
            "-16931\n",
            "-16932\n",
            "-16933\n",
            "-16934\n",
            "-16935\n",
            "-16936\n",
            "-16937\n",
            "-16938\n",
            "-16939\n",
            "-16940\n",
            "-16941\n",
            "-16942\n",
            "-16943\n",
            "-16944\n",
            "-16945\n",
            "-16946\n",
            "-16947\n",
            "-16948\n",
            "-16949\n",
            "-16950\n",
            "-16951\n",
            "-16952\n",
            "-16953\n",
            "-16954\n",
            "-16955\n",
            "-16956\n",
            "-16957\n",
            "-16958\n",
            "-16959\n",
            "-16960\n",
            "-16961\n",
            "-16962\n",
            "-16963\n",
            "-16964\n",
            "-16965\n",
            "-16966\n",
            "-16967\n",
            "-16968\n",
            "-16969\n",
            "-16970\n",
            "-16971\n",
            "-16972\n",
            "-16973\n",
            "-16974\n",
            "-16975\n",
            "-16976\n",
            "-16977\n",
            "-16978\n",
            "-16979\n",
            "-16980\n",
            "-16981\n",
            "-16982\n",
            "-16983\n",
            "-16984\n",
            "-16985\n",
            "-16986\n",
            "-16987\n",
            "-16988\n",
            "-16989\n",
            "-16990\n",
            "-16991\n",
            "-16992\n",
            "-16993\n",
            "-16994\n",
            "-16995\n",
            "-16996\n",
            "-16997\n",
            "-16998\n",
            "-16999\n",
            "-17000\n",
            "-17001\n",
            "-17002\n",
            "-17003\n",
            "-17004\n",
            "-17005\n",
            "-17006\n",
            "-17007\n",
            "-17008\n",
            "-17009\n",
            "-17010\n",
            "-17011\n",
            "-17012\n",
            "-17013\n",
            "-17014\n",
            "-17015\n",
            "-17016\n",
            "-17017\n",
            "-17018\n",
            "-17019\n",
            "-17020\n",
            "-17021\n",
            "-17022\n",
            "-17023\n",
            "-17024\n",
            "-17025\n",
            "-17026\n",
            "-17027\n",
            "-17028\n",
            "-17029\n",
            "-17030\n",
            "-17031\n",
            "-17032\n",
            "-17033\n",
            "-17034\n",
            "-17035\n",
            "-17036\n",
            "-17037\n",
            "-17038\n",
            "-17039\n",
            "-17040\n",
            "-17041\n",
            "-17042\n",
            "-17043\n",
            "-17044\n",
            "-17045\n",
            "-17046\n",
            "-17047\n",
            "-17048\n",
            "-17049\n",
            "-17050\n",
            "-17051\n",
            "-17052\n",
            "-17053\n",
            "-17054\n",
            "-17055\n",
            "-17056\n",
            "-17057\n",
            "-17058\n",
            "-17059\n",
            "-17060\n",
            "-17061\n",
            "-17062\n",
            "-17063\n",
            "-17064\n",
            "-17065\n",
            "-17066\n",
            "-17067\n",
            "-17068\n",
            "-17069\n",
            "-17070\n",
            "-17071\n",
            "-17072\n",
            "-17073\n",
            "-17074\n",
            "-17075\n",
            "-17076\n",
            "-17077\n",
            "-17078\n",
            "-17079\n",
            "-17080\n",
            "-17081\n",
            "-17082\n",
            "-17083\n",
            "-17084\n",
            "-17085\n",
            "-17086\n",
            "-17087\n",
            "-17088\n",
            "-17089\n",
            "-17090\n",
            "-17091\n",
            "-17092\n",
            "-17093\n",
            "-17094\n",
            "-17095\n",
            "-17096\n",
            "-17097\n",
            "-17098\n",
            "-17099\n",
            "-17100\n",
            "-17101\n",
            "-17102\n",
            "-17103\n",
            "-17104\n",
            "-17105\n",
            "-17106\n",
            "-17107\n",
            "-17108\n",
            "-17109\n",
            "-17110\n",
            "-17111\n",
            "-17112\n",
            "-17113\n",
            "-17114\n",
            "-17115\n",
            "-17116\n",
            "-17117\n",
            "-17118\n",
            "-17119\n",
            "-17120\n",
            "-17121\n",
            "-17122\n",
            "-17123\n",
            "-17124\n",
            "-17125\n",
            "-17126\n",
            "-17127\n",
            "-17128\n",
            "-17129\n",
            "-17130\n",
            "-17131\n",
            "-17132\n",
            "-17133\n",
            "-17134\n",
            "-17135\n",
            "-17136\n",
            "-17137\n",
            "-17138\n",
            "-17139\n",
            "-17140\n",
            "-17141\n",
            "-17142\n",
            "-17143\n",
            "-17144\n",
            "-17145\n",
            "-17146\n",
            "-17147\n",
            "-17148\n",
            "-17149\n",
            "-17150\n",
            "-17151\n",
            "-17152\n",
            "-17153\n",
            "-17154\n",
            "-17155\n",
            "-17156\n",
            "-17157\n",
            "-17158\n",
            "-17159\n",
            "-17160\n",
            "-17161\n",
            "-17162\n",
            "-17163\n",
            "-17164\n",
            "-17165\n",
            "-17166\n",
            "-17167\n",
            "-17168\n",
            "-17169\n",
            "-17170\n",
            "-17171\n",
            "-17172\n",
            "-17173\n",
            "-17174\n",
            "-17175\n",
            "-17176\n",
            "-17177\n",
            "-17178\n",
            "-17179\n",
            "-17180\n",
            "-17181\n",
            "-17182\n",
            "-17183\n",
            "-17184\n",
            "-17185\n",
            "-17186\n",
            "-17187\n",
            "-17188\n",
            "-17189\n",
            "-17190\n",
            "-17191\n",
            "-17192\n",
            "-17193\n",
            "-17194\n",
            "-17195\n",
            "-17196\n",
            "-17197\n",
            "-17198\n",
            "-17199\n",
            "-17200\n",
            "-17201\n",
            "-17202\n",
            "-17203\n",
            "-17204\n",
            "-17205\n",
            "-17206\n",
            "-17207\n",
            "-17208\n",
            "-17209\n",
            "-17210\n",
            "-17211\n",
            "-17212\n",
            "-17213\n",
            "-17214\n",
            "-17215\n",
            "-17216\n",
            "-17217\n",
            "-17218\n",
            "-17219\n",
            "-17220\n",
            "-17221\n",
            "-17222\n",
            "-17223\n",
            "-17224\n",
            "-17225\n",
            "-17226\n",
            "-17227\n",
            "-17228\n",
            "-17229\n",
            "-17230\n",
            "-17231\n",
            "-17232\n",
            "-17233\n",
            "-17234\n",
            "-17235\n",
            "-17236\n",
            "-17237\n",
            "-17238\n",
            "-17239\n",
            "-17240\n",
            "-17241\n",
            "-17242\n",
            "-17243\n",
            "-17244\n",
            "-17245\n",
            "-17246\n",
            "-17247\n",
            "-17248\n",
            "-17249\n",
            "-17250\n",
            "-17251\n",
            "-17252\n",
            "-17253\n",
            "-17254\n",
            "-17255\n",
            "-17256\n",
            "-17257\n",
            "-17258\n",
            "-17259\n",
            "-17260\n",
            "-17261\n",
            "-17262\n",
            "-17263\n",
            "-17264\n",
            "-17265\n",
            "-17266\n",
            "-17267\n",
            "-17268\n",
            "-17269\n",
            "-17270\n",
            "-17271\n",
            "-17272\n",
            "-17273\n",
            "-17274\n",
            "-17275\n",
            "-17276\n",
            "-17277\n",
            "-17278\n",
            "-17279\n",
            "-17280\n",
            "-17281\n",
            "-17282\n",
            "-17283\n",
            "-17284\n",
            "-17285\n",
            "-17286\n",
            "-17287\n",
            "-17288\n",
            "-17289\n",
            "-17290\n",
            "-17291\n",
            "-17292\n",
            "-17293\n",
            "-17294\n",
            "-17295\n",
            "-17296\n",
            "-17297\n",
            "-17298\n",
            "-17299\n",
            "-17300\n",
            "-17301\n",
            "-17302\n",
            "-17303\n",
            "-17304\n",
            "-17305\n",
            "-17306\n",
            "-17307\n",
            "-17308\n",
            "-17309\n",
            "-17310\n",
            "-17311\n",
            "-17312\n",
            "-17313\n",
            "-17314\n",
            "-17315\n",
            "-17316\n",
            "-17317\n",
            "-17318\n",
            "-17319\n",
            "-17320\n",
            "-17321\n",
            "-17322\n",
            "-17323\n",
            "-17324\n",
            "-17325\n",
            "-17326\n",
            "-17327\n",
            "-17328\n",
            "-17329\n",
            "-17330\n",
            "-17331\n",
            "-17332\n",
            "-17333\n",
            "-17334\n",
            "-17335\n",
            "-17336\n",
            "-17337\n",
            "-17338\n",
            "-17339\n",
            "-17340\n",
            "-17341\n",
            "-17342\n",
            "-17343\n",
            "-17344\n",
            "-17345\n",
            "-17346\n",
            "-17347\n",
            "-17348\n",
            "-17349\n",
            "-17350\n",
            "-17351\n",
            "-17352\n",
            "-17353\n",
            "-17354\n",
            "-17355\n",
            "-17356\n",
            "-17357\n",
            "-17358\n",
            "-17359\n",
            "-17360\n",
            "-17361\n",
            "-17362\n",
            "-17363\n",
            "-17364\n",
            "-17365\n",
            "-17366\n",
            "-17367\n",
            "-17368\n",
            "-17369\n",
            "-17370\n",
            "-17371\n",
            "-17372\n",
            "-17373\n",
            "-17374\n",
            "-17375\n",
            "-17376\n",
            "-17377\n",
            "-17378\n",
            "-17379\n",
            "-17380\n",
            "-17381\n",
            "-17382\n",
            "-17383\n",
            "-17384\n",
            "-17385\n",
            "-17386\n",
            "-17387\n",
            "-17388\n",
            "-17389\n",
            "-17390\n",
            "-17391\n",
            "-17392\n",
            "-17393\n",
            "-17394\n",
            "-17395\n",
            "-17396\n",
            "-17397\n",
            "-17398\n",
            "-17399\n",
            "-17400\n",
            "-17401\n",
            "-17402\n",
            "-17403\n",
            "-17404\n",
            "-17405\n",
            "-17406\n",
            "-17407\n",
            "-17408\n",
            "-17409\n",
            "-17410\n",
            "-17411\n",
            "-17412\n",
            "-17413\n",
            "-17414\n",
            "-17415\n",
            "-17416\n",
            "-17417\n",
            "-17418\n",
            "-17419\n",
            "-17420\n",
            "-17421\n",
            "-17422\n",
            "-17423\n",
            "-17424\n",
            "-17425\n",
            "-17426\n",
            "-17427\n",
            "-17428\n",
            "-17429\n",
            "-17430\n",
            "-17431\n",
            "-17432\n",
            "-17433\n",
            "-17434\n",
            "-17435\n",
            "-17436\n",
            "-17437\n",
            "-17438\n",
            "-17439\n",
            "-17440\n",
            "-17441\n",
            "-17442\n",
            "-17443\n",
            "-17444\n",
            "-17445\n",
            "-17446\n",
            "-17447\n",
            "-17448\n",
            "-17449\n",
            "-17450\n",
            "-17451\n",
            "-17452\n",
            "-17453\n",
            "-17454\n",
            "-17455\n",
            "-17456\n",
            "-17457\n",
            "-17458\n",
            "-17459\n",
            "-17460\n",
            "-17461\n",
            "-17462\n",
            "-17463\n",
            "-17464\n",
            "-17465\n",
            "-17466\n",
            "-17467\n",
            "-17468\n",
            "-17469\n",
            "-17470\n",
            "-17471\n",
            "-17472\n",
            "-17473\n",
            "-17474\n",
            "-17475\n",
            "-17476\n",
            "-17477\n",
            "-17478\n",
            "-17479\n",
            "-17480\n",
            "-17481\n",
            "-17482\n",
            "-17483\n",
            "-17484\n",
            "-17485\n",
            "-17486\n",
            "-17487\n",
            "-17488\n",
            "-17489\n",
            "-17490\n",
            "-17491\n",
            "-17492\n",
            "-17493\n",
            "-17494\n",
            "-17495\n",
            "-17496\n",
            "-17497\n",
            "-17498\n",
            "-17499\n",
            "-17500\n",
            "-17501\n",
            "-17502\n",
            "-17503\n",
            "-17504\n",
            "-17505\n",
            "-17506\n",
            "-17507\n",
            "-17508\n",
            "-17509\n",
            "-17510\n",
            "-17511\n",
            "-17512\n",
            "-17513\n",
            "-17514\n",
            "-17515\n",
            "-17516\n",
            "-17517\n",
            "-17518\n",
            "-17519\n",
            "-17520\n",
            "-17521\n",
            "-17522\n",
            "-17523\n",
            "-17524\n",
            "-17525\n",
            "-17526\n",
            "-17527\n",
            "-17528\n",
            "-17529\n",
            "-17530\n",
            "-17531\n",
            "-17532\n",
            "-17533\n",
            "-17534\n",
            "-17535\n",
            "-17536\n",
            "-17537\n",
            "-17538\n",
            "-17539\n",
            "-17540\n",
            "-17541\n",
            "-17542\n",
            "-17543\n",
            "-17544\n",
            "-17545\n",
            "-17546\n",
            "-17547\n",
            "-17548\n",
            "-17549\n",
            "-17550\n",
            "-17551\n",
            "-17552\n",
            "-17553\n",
            "-17554\n",
            "-17555\n",
            "-17556\n",
            "-17557\n",
            "-17558\n",
            "-17559\n",
            "-17560\n",
            "-17561\n",
            "-17562\n",
            "-17563\n",
            "-17564\n",
            "-17565\n",
            "-17566\n",
            "-17567\n",
            "-17568\n",
            "-17569\n",
            "-17570\n",
            "-17571\n",
            "-17572\n",
            "-17573\n",
            "-17574\n",
            "-17575\n",
            "-17576\n",
            "-17577\n",
            "-17578\n",
            "-17579\n",
            "-17580\n",
            "-17581\n",
            "-17582\n",
            "-17583\n",
            "-17584\n",
            "-17585\n",
            "-17586\n",
            "-17587\n",
            "-17588\n",
            "-17589\n",
            "-17590\n",
            "-17591\n",
            "-17592\n",
            "-17593\n",
            "-17594\n",
            "-17595\n",
            "-17596\n",
            "-17597\n",
            "-17598\n",
            "-17599\n",
            "-17600\n",
            "-17601\n",
            "-17602\n",
            "-17603\n",
            "-17604\n",
            "-17605\n",
            "-17606\n",
            "-17607\n",
            "-17608\n",
            "-17609\n",
            "-17610\n",
            "-17611\n",
            "-17612\n",
            "-17613\n",
            "-17614\n",
            "-17615\n",
            "-17616\n",
            "-17617\n",
            "-17618\n",
            "-17619\n",
            "-17620\n",
            "-17621\n",
            "-17622\n",
            "-17623\n",
            "-17624\n",
            "-17625\n",
            "-17626\n",
            "-17627\n",
            "-17628\n",
            "-17629\n",
            "-17630\n",
            "-17631\n",
            "-17632\n",
            "-17633\n",
            "-17634\n",
            "-17635\n",
            "-17636\n",
            "-17637\n",
            "-17638\n",
            "-17639\n",
            "-17640\n",
            "-17641\n",
            "-17642\n",
            "-17643\n",
            "-17644\n",
            "-17645\n",
            "-17646\n",
            "-17647\n",
            "-17648\n",
            "-17649\n",
            "-17650\n",
            "-17651\n",
            "-17652\n",
            "-17653\n",
            "-17654\n",
            "-17655\n",
            "-17656\n",
            "-17657\n",
            "-17658\n",
            "-17659\n",
            "-17660\n",
            "-17661\n",
            "-17662\n",
            "-17663\n",
            "-17664\n",
            "-17665\n",
            "-17666\n",
            "-17667\n",
            "-17668\n",
            "-17669\n",
            "-17670\n",
            "-17671\n",
            "-17672\n",
            "-17673\n",
            "-17674\n",
            "-17675\n",
            "-17676\n",
            "-17677\n",
            "-17678\n",
            "-17679\n",
            "-17680\n",
            "-17681\n",
            "-17682\n",
            "-17683\n",
            "-17684\n",
            "-17685\n",
            "-17686\n",
            "-17687\n",
            "-17688\n",
            "-17689\n",
            "-17690\n",
            "-17691\n",
            "-17692\n",
            "-17693\n",
            "-17694\n",
            "-17695\n",
            "-17696\n",
            "-17697\n",
            "-17698\n",
            "-17699\n",
            "-17700\n",
            "-17701\n",
            "-17702\n",
            "-17703\n",
            "-17704\n",
            "-17705\n",
            "-17706\n",
            "-17707\n",
            "-17708\n",
            "-17709\n",
            "-17710\n",
            "-17711\n",
            "-17712\n",
            "-17713\n",
            "-17714\n",
            "-17715\n",
            "-17716\n",
            "-17717\n",
            "-17718\n",
            "-17719\n",
            "-17720\n",
            "-17721\n",
            "-17722\n",
            "-17723\n",
            "-17724\n",
            "-17725\n",
            "-17726\n",
            "-17727\n",
            "-17728\n",
            "-17729\n",
            "-17730\n",
            "-17731\n",
            "-17732\n",
            "-17733\n",
            "-17734\n",
            "-17735\n",
            "-17736\n",
            "-17737\n",
            "-17738\n",
            "-17739\n",
            "-17740\n",
            "-17741\n",
            "-17742\n",
            "-17743\n",
            "-17744\n",
            "-17745\n",
            "-17746\n",
            "-17747\n",
            "-17748\n",
            "-17749\n",
            "-17750\n",
            "-17751\n",
            "-17752\n",
            "-17753\n",
            "-17754\n",
            "-17755\n",
            "-17756\n",
            "-17757\n",
            "-17758\n",
            "-17759\n",
            "-17760\n",
            "-17761\n",
            "-17762\n",
            "-17763\n",
            "-17764\n",
            "-17765\n",
            "-17766\n",
            "-17767\n",
            "-17768\n",
            "-17769\n",
            "-17770\n",
            "-17771\n",
            "-17772\n",
            "-17773\n",
            "-17774\n",
            "-17775\n",
            "-17776\n",
            "-17777\n",
            "-17778\n",
            "-17779\n",
            "-17780\n",
            "-17781\n",
            "-17782\n",
            "-17783\n",
            "-17784\n",
            "-17785\n",
            "-17786\n",
            "-17787\n",
            "-17788\n",
            "-17789\n",
            "-17790\n",
            "-17791\n",
            "-17792\n",
            "-17793\n",
            "-17794\n",
            "-17795\n",
            "-17796\n",
            "-17797\n",
            "-17798\n",
            "-17799\n",
            "-17800\n",
            "-17801\n",
            "-17802\n",
            "-17803\n",
            "-17804\n",
            "-17805\n",
            "-17806\n",
            "-17807\n",
            "-17808\n",
            "-17809\n",
            "-17810\n",
            "-17811\n",
            "-17812\n",
            "-17813\n",
            "-17814\n",
            "-17815\n",
            "-17816\n",
            "-17817\n",
            "-17818\n",
            "-17819\n",
            "-17820\n",
            "-17821\n",
            "-17822\n",
            "-17823\n",
            "-17824\n",
            "-17825\n",
            "-17826\n",
            "-17827\n",
            "-17828\n",
            "-17829\n",
            "-17830\n",
            "-17831\n",
            "-17832\n",
            "-17833\n",
            "-17834\n",
            "-17835\n",
            "-17836\n",
            "-17837\n",
            "-17838\n",
            "-17839\n",
            "-17840\n",
            "-17841\n",
            "-17842\n",
            "-17843\n",
            "-17844\n",
            "-17845\n",
            "-17846\n",
            "-17847\n",
            "-17848\n",
            "-17849\n",
            "-17850\n",
            "-17851\n",
            "-17852\n",
            "-17853\n",
            "-17854\n",
            "-17855\n",
            "-17856\n",
            "-17857\n",
            "-17858\n",
            "-17859\n",
            "-17860\n",
            "-17861\n",
            "-17862\n",
            "-17863\n",
            "-17864\n",
            "-17865\n",
            "-17866\n",
            "-17867\n",
            "-17868\n",
            "-17869\n",
            "-17870\n",
            "-17871\n",
            "-17872\n",
            "-17873\n",
            "-17874\n",
            "-17875\n",
            "-17876\n",
            "-17877\n",
            "-17878\n",
            "-17879\n",
            "-17880\n",
            "-17881\n",
            "-17882\n",
            "-17883\n",
            "-17884\n",
            "-17885\n",
            "-17886\n",
            "-17887\n",
            "-17888\n",
            "-17889\n",
            "-17890\n",
            "-17891\n",
            "-17892\n",
            "-17893\n",
            "-17894\n",
            "-17895\n",
            "-17896\n",
            "-17897\n",
            "-17898\n",
            "-17899\n",
            "-17900\n",
            "-17901\n",
            "-17902\n",
            "-17903\n",
            "-17904\n",
            "-17905\n",
            "-17906\n",
            "-17907\n",
            "-17908\n",
            "-17909\n",
            "-17910\n",
            "-17911\n",
            "-17912\n",
            "-17913\n",
            "-17914\n",
            "-17915\n",
            "-17916\n",
            "-17917\n",
            "-17918\n",
            "-17919\n",
            "-17920\n",
            "-17921\n",
            "-17922\n",
            "-17923\n",
            "-17924\n",
            "-17925\n",
            "-17926\n",
            "-17927\n",
            "-17928\n",
            "-17929\n",
            "-17930\n",
            "-17931\n",
            "-17932\n",
            "-17933\n",
            "-17934\n",
            "-17935\n",
            "-17936\n",
            "-17937\n",
            "-17938\n",
            "-17939\n",
            "-17940\n",
            "-17941\n",
            "-17942\n",
            "-17943\n",
            "-17944\n",
            "-17945\n",
            "-17946\n",
            "-17947\n",
            "-17948\n",
            "-17949\n",
            "-17950\n",
            "-17951\n",
            "-17952\n",
            "-17953\n",
            "-17954\n",
            "-17955\n",
            "-17956\n",
            "-17957\n",
            "-17958\n",
            "-17959\n",
            "-17960\n",
            "-17961\n",
            "-17962\n",
            "-17963\n",
            "-17964\n",
            "-17965\n",
            "-17966\n",
            "-17967\n",
            "-17968\n",
            "-17969\n",
            "-17970\n",
            "-17971\n",
            "-17972\n",
            "-17973\n",
            "-17974\n",
            "-17975\n",
            "-17976\n",
            "-17977\n",
            "-17978\n",
            "-17979\n",
            "-17980\n",
            "-17981\n",
            "-17982\n",
            "-17983\n",
            "-17984\n",
            "-17985\n",
            "-17986\n",
            "-17987\n",
            "-17988\n",
            "-17989\n",
            "-17990\n",
            "-17991\n",
            "-17992\n",
            "-17993\n",
            "-17994\n",
            "-17995\n",
            "-17996\n",
            "-17997\n",
            "-17998\n",
            "-17999\n",
            "-18000\n",
            "-18001\n",
            "-18002\n",
            "-18003\n",
            "-18004\n",
            "-18005\n",
            "-18006\n",
            "-18007\n",
            "-18008\n",
            "-18009\n",
            "-18010\n",
            "-18011\n",
            "-18012\n",
            "-18013\n",
            "-18014\n",
            "-18015\n",
            "-18016\n",
            "-18017\n",
            "-18018\n",
            "-18019\n",
            "-18020\n",
            "-18021\n",
            "-18022\n",
            "-18023\n",
            "-18024\n",
            "-18025\n",
            "-18026\n",
            "-18027\n",
            "-18028\n",
            "-18029\n",
            "-18030\n",
            "-18031\n",
            "-18032\n",
            "-18033\n",
            "-18034\n",
            "-18035\n",
            "-18036\n",
            "-18037\n",
            "-18038\n",
            "-18039\n",
            "-18040\n",
            "-18041\n",
            "-18042\n",
            "-18043\n",
            "-18044\n",
            "-18045\n",
            "-18046\n",
            "-18047\n",
            "-18048\n",
            "-18049\n",
            "-18050\n",
            "-18051\n",
            "-18052\n",
            "-18053\n",
            "-18054\n",
            "-18055\n",
            "-18056\n",
            "-18057\n",
            "-18058\n",
            "-18059\n",
            "-18060\n",
            "-18061\n",
            "-18062\n",
            "-18063\n",
            "-18064\n",
            "-18065\n",
            "-18066\n",
            "-18067\n",
            "-18068\n",
            "-18069\n",
            "-18070\n",
            "-18071\n",
            "-18072\n",
            "-18073\n",
            "-18074\n",
            "-18075\n",
            "-18076\n",
            "-18077\n",
            "-18078\n",
            "-18079\n",
            "-18080\n",
            "-18081\n",
            "-18082\n",
            "-18083\n",
            "-18084\n",
            "-18085\n",
            "-18086\n",
            "-18087\n",
            "-18088\n",
            "-18089\n",
            "-18090\n",
            "-18091\n",
            "-18092\n",
            "-18093\n",
            "-18094\n",
            "-18095\n",
            "-18096\n",
            "-18097\n",
            "-18098\n",
            "-18099\n",
            "-18100\n",
            "-18101\n",
            "-18102\n",
            "-18103\n",
            "-18104\n",
            "-18105\n",
            "-18106\n",
            "-18107\n",
            "-18108\n",
            "-18109\n",
            "-18110\n",
            "-18111\n",
            "-18112\n",
            "-18113\n",
            "-18114\n",
            "-18115\n",
            "-18116\n",
            "-18117\n",
            "-18118\n",
            "-18119\n",
            "-18120\n",
            "-18121\n",
            "-18122\n",
            "-18123\n",
            "-18124\n",
            "-18125\n",
            "-18126\n",
            "-18127\n",
            "-18128\n",
            "-18129\n",
            "-18130\n",
            "-18131\n",
            "-18132\n",
            "-18133\n",
            "-18134\n",
            "-18135\n",
            "-18136\n",
            "-18137\n",
            "-18138\n",
            "-18139\n",
            "-18140\n",
            "-18141\n",
            "-18142\n",
            "-18143\n",
            "-18144\n",
            "-18145\n",
            "-18146\n",
            "-18147\n",
            "-18148\n",
            "-18149\n",
            "-18150\n",
            "-18151\n",
            "-18152\n",
            "-18153\n",
            "-18154\n",
            "-18155\n",
            "-18156\n",
            "-18157\n",
            "-18158\n",
            "-18159\n",
            "-18160\n",
            "-18161\n",
            "-18162\n",
            "-18163\n",
            "-18164\n",
            "-18165\n",
            "-18166\n",
            "-18167\n",
            "-18168\n",
            "-18169\n",
            "-18170\n",
            "-18171\n",
            "-18172\n",
            "-18173\n",
            "-18174\n",
            "-18175\n",
            "-18176\n",
            "-18177\n",
            "-18178\n",
            "-18179\n",
            "-18180\n",
            "-18181\n",
            "-18182\n",
            "-18183\n",
            "-18184\n",
            "-18185\n",
            "-18186\n",
            "-18187\n",
            "-18188\n",
            "-18189\n",
            "-18190\n",
            "-18191\n",
            "-18192\n",
            "-18193\n",
            "-18194\n",
            "-18195\n",
            "-18196\n",
            "-18197\n",
            "-18198\n",
            "-18199\n",
            "-18200\n",
            "-18201\n",
            "-18202\n",
            "-18203\n",
            "-18204\n",
            "-18205\n",
            "-18206\n",
            "-18207\n",
            "-18208\n",
            "-18209\n",
            "-18210\n",
            "-18211\n",
            "-18212\n",
            "-18213\n",
            "-18214\n",
            "-18215\n",
            "-18216\n",
            "-18217\n",
            "-18218\n",
            "-18219\n",
            "-18220\n",
            "-18221\n",
            "-18222\n",
            "-18223\n",
            "-18224\n",
            "-18225\n",
            "-18226\n",
            "-18227\n",
            "-18228\n",
            "-18229\n",
            "-18230\n",
            "-18231\n",
            "-18232\n",
            "-18233\n",
            "-18234\n",
            "-18235\n",
            "-18236\n",
            "-18237\n",
            "-18238\n",
            "-18239\n",
            "-18240\n",
            "-18241\n",
            "-18242\n",
            "-18243\n",
            "-18244\n",
            "-18245\n",
            "-18246\n",
            "-18247\n",
            "-18248\n",
            "-18249\n",
            "-18250\n",
            "-18251\n",
            "-18252\n",
            "-18253\n",
            "-18254\n",
            "-18255\n",
            "-18256\n",
            "-18257\n",
            "-18258\n",
            "-18259\n",
            "-18260\n",
            "-18261\n",
            "-18262\n",
            "-18263\n",
            "-18264\n",
            "-18265\n",
            "-18266\n",
            "-18267\n",
            "-18268\n",
            "-18269\n",
            "-18270\n",
            "-18271\n",
            "-18272\n",
            "-18273\n",
            "-18274\n",
            "-18275\n",
            "-18276\n",
            "-18277\n",
            "-18278\n",
            "-18279\n",
            "-18280\n",
            "-18281\n",
            "-18282\n",
            "-18283\n",
            "-18284\n",
            "-18285\n",
            "-18286\n",
            "-18287\n",
            "-18288\n",
            "-18289\n",
            "-18290\n",
            "-18291\n",
            "-18292\n",
            "-18293\n",
            "-18294\n",
            "-18295\n",
            "-18296\n",
            "-18297\n",
            "-18298\n",
            "-18299\n",
            "-18300\n",
            "-18301\n",
            "-18302\n",
            "-18303\n",
            "-18304\n",
            "-18305\n",
            "-18306\n",
            "-18307\n",
            "-18308\n",
            "-18309\n",
            "-18310\n",
            "-18311\n",
            "-18312\n",
            "-18313\n",
            "-18314\n",
            "-18315\n",
            "-18316\n",
            "-18317\n",
            "-18318\n",
            "-18319\n",
            "-18320\n",
            "-18321\n",
            "-18322\n",
            "-18323\n",
            "-18324\n",
            "-18325\n",
            "-18326\n",
            "-18327\n",
            "-18328\n",
            "-18329\n",
            "-18330\n",
            "-18331\n",
            "-18332\n",
            "-18333\n",
            "-18334\n",
            "-18335\n",
            "-18336\n",
            "-18337\n",
            "-18338\n",
            "-18339\n",
            "-18340\n",
            "-18341\n",
            "-18342\n",
            "-18343\n",
            "-18344\n",
            "-18345\n",
            "-18346\n",
            "-18347\n",
            "-18348\n",
            "-18349\n",
            "-18350\n",
            "-18351\n",
            "-18352\n",
            "-18353\n",
            "-18354\n",
            "-18355\n",
            "-18356\n",
            "-18357\n",
            "-18358\n",
            "-18359\n",
            "-18360\n",
            "-18361\n",
            "-18362\n",
            "-18363\n",
            "-18364\n",
            "-18365\n",
            "-18366\n",
            "-18367\n",
            "-18368\n",
            "-18369\n",
            "-18370\n",
            "-18371\n",
            "-18372\n",
            "-18373\n",
            "-18374\n",
            "-18375\n",
            "-18376\n",
            "-18377\n",
            "-18378\n",
            "-18379\n",
            "-18380\n",
            "-18381\n",
            "-18382\n",
            "-18383\n",
            "-18384\n",
            "-18385\n",
            "-18386\n",
            "-18387\n",
            "-18388\n",
            "-18389\n",
            "-18390\n",
            "-18391\n",
            "-18392\n",
            "-18393\n",
            "-18394\n",
            "-18395\n",
            "-18396\n",
            "-18397\n",
            "-18398\n",
            "-18399\n",
            "-18400\n",
            "-18401\n",
            "-18402\n",
            "-18403\n",
            "-18404\n",
            "-18405\n",
            "-18406\n",
            "-18407\n",
            "-18408\n",
            "-18409\n",
            "-18410\n",
            "-18411\n",
            "-18412\n",
            "-18413\n",
            "-18414\n",
            "-18415\n",
            "-18416\n",
            "-18417\n",
            "-18418\n",
            "-18419\n",
            "-18420\n",
            "-18421\n",
            "-18422\n",
            "-18423\n",
            "-18424\n",
            "-18425\n",
            "-18426\n",
            "-18427\n",
            "-18428\n",
            "-18429\n",
            "-18430\n",
            "-18431\n",
            "-18432\n",
            "-18433\n",
            "-18434\n",
            "-18435\n",
            "-18436\n",
            "-18437\n",
            "-18438\n",
            "-18439\n",
            "-18440\n",
            "-18441\n",
            "-18442\n",
            "-18443\n",
            "-18444\n",
            "-18445\n",
            "-18446\n",
            "-18447\n",
            "-18448\n",
            "-18449\n",
            "-18450\n",
            "-18451\n",
            "-18452\n",
            "-18453\n",
            "-18454\n",
            "-18455\n",
            "-18456\n",
            "-18457\n",
            "-18458\n",
            "-18459\n",
            "-18460\n",
            "-18461\n",
            "-18462\n",
            "-18463\n",
            "-18464\n",
            "-18465\n",
            "-18466\n",
            "-18467\n",
            "-18468\n",
            "-18469\n",
            "-18470\n",
            "-18471\n",
            "-18472\n",
            "-18473\n",
            "-18474\n",
            "-18475\n",
            "-18476\n",
            "-18477\n",
            "-18478\n",
            "-18479\n",
            "-18480\n",
            "-18481\n",
            "-18482\n",
            "-18483\n",
            "-18484\n",
            "-18485\n",
            "-18486\n",
            "-18487\n",
            "-18488\n",
            "-18489\n",
            "-18490\n",
            "-18491\n",
            "-18492\n",
            "-18493\n",
            "-18494\n",
            "-18495\n",
            "-18496\n",
            "-18497\n",
            "-18498\n",
            "-18499\n",
            "-18500\n",
            "-18501\n",
            "-18502\n",
            "-18503\n",
            "-18504\n",
            "-18505\n",
            "-18506\n",
            "-18507\n",
            "-18508\n",
            "-18509\n",
            "-18510\n",
            "-18511\n",
            "-18512\n",
            "-18513\n"
          ]
        },
        {
          "output_type": "error",
          "ename": "KeyboardInterrupt",
          "evalue": "ignored",
          "traceback": [
            "\u001b[0;31m---------------------------------------------------------------------------\u001b[0m",
            "\u001b[0;31mKeyboardInterrupt\u001b[0m                         Traceback (most recent call last)",
            "\u001b[0;32m<ipython-input-82-b9f575a875bc>\u001b[0m in \u001b[0;36m<cell line: 2>\u001b[0;34m()\u001b[0m\n\u001b[1;32m      1\u001b[0m \u001b[0mcount\u001b[0m \u001b[0;34m=\u001b[0m \u001b[0;36m1\u001b[0m\u001b[0;34m\u001b[0m\u001b[0;34m\u001b[0m\u001b[0m\n\u001b[1;32m      2\u001b[0m \u001b[0;32mwhile\u001b[0m \u001b[0mcount\u001b[0m \u001b[0;34m<\u001b[0m \u001b[0;36m5\u001b[0m\u001b[0;34m:\u001b[0m\u001b[0;34m\u001b[0m\u001b[0;34m\u001b[0m\u001b[0m\n\u001b[0;32m----> 3\u001b[0;31m     \u001b[0mprint\u001b[0m\u001b[0;34m(\u001b[0m\u001b[0mcount\u001b[0m\u001b[0;34m)\u001b[0m\u001b[0;34m\u001b[0m\u001b[0;34m\u001b[0m\u001b[0m\n\u001b[0m\u001b[1;32m      4\u001b[0m     \u001b[0mcount\u001b[0m \u001b[0;34m-=\u001b[0m \u001b[0;36m1\u001b[0m\u001b[0;34m\u001b[0m\u001b[0;34m\u001b[0m\u001b[0m\n",
            "\u001b[0;32m/usr/local/lib/python3.10/dist-packages/ipykernel/iostream.py\u001b[0m in \u001b[0;36mwrite\u001b[0;34m(self, string)\u001b[0m\n\u001b[1;32m    400\u001b[0m             \u001b[0mis_child\u001b[0m \u001b[0;34m=\u001b[0m \u001b[0;34m(\u001b[0m\u001b[0;32mnot\u001b[0m \u001b[0mself\u001b[0m\u001b[0;34m.\u001b[0m\u001b[0m_is_master_process\u001b[0m\u001b[0;34m(\u001b[0m\u001b[0;34m)\u001b[0m\u001b[0;34m)\u001b[0m\u001b[0;34m\u001b[0m\u001b[0;34m\u001b[0m\u001b[0m\n\u001b[1;32m    401\u001b[0m             \u001b[0;31m# only touch the buffer in the IO thread to avoid races\u001b[0m\u001b[0;34m\u001b[0m\u001b[0;34m\u001b[0m\u001b[0m\n\u001b[0;32m--> 402\u001b[0;31m             \u001b[0mself\u001b[0m\u001b[0;34m.\u001b[0m\u001b[0mpub_thread\u001b[0m\u001b[0;34m.\u001b[0m\u001b[0mschedule\u001b[0m\u001b[0;34m(\u001b[0m\u001b[0;32mlambda\u001b[0m \u001b[0;34m:\u001b[0m \u001b[0mself\u001b[0m\u001b[0;34m.\u001b[0m\u001b[0m_buffer\u001b[0m\u001b[0;34m.\u001b[0m\u001b[0mwrite\u001b[0m\u001b[0;34m(\u001b[0m\u001b[0mstring\u001b[0m\u001b[0;34m)\u001b[0m\u001b[0;34m)\u001b[0m\u001b[0;34m\u001b[0m\u001b[0;34m\u001b[0m\u001b[0m\n\u001b[0m\u001b[1;32m    403\u001b[0m             \u001b[0;32mif\u001b[0m \u001b[0mis_child\u001b[0m\u001b[0;34m:\u001b[0m\u001b[0;34m\u001b[0m\u001b[0;34m\u001b[0m\u001b[0m\n\u001b[1;32m    404\u001b[0m                 \u001b[0;31m# mp.Pool cannot be trusted to flush promptly (or ever),\u001b[0m\u001b[0;34m\u001b[0m\u001b[0;34m\u001b[0m\u001b[0m\n",
            "\u001b[0;32m/usr/local/lib/python3.10/dist-packages/ipykernel/iostream.py\u001b[0m in \u001b[0;36mschedule\u001b[0;34m(self, f)\u001b[0m\n\u001b[1;32m    201\u001b[0m             \u001b[0mself\u001b[0m\u001b[0;34m.\u001b[0m\u001b[0m_events\u001b[0m\u001b[0;34m.\u001b[0m\u001b[0mappend\u001b[0m\u001b[0;34m(\u001b[0m\u001b[0mf\u001b[0m\u001b[0;34m)\u001b[0m\u001b[0;34m\u001b[0m\u001b[0;34m\u001b[0m\u001b[0m\n\u001b[1;32m    202\u001b[0m             \u001b[0;31m# wake event thread (message content is ignored)\u001b[0m\u001b[0;34m\u001b[0m\u001b[0;34m\u001b[0m\u001b[0m\n\u001b[0;32m--> 203\u001b[0;31m             \u001b[0mself\u001b[0m\u001b[0;34m.\u001b[0m\u001b[0m_event_pipe\u001b[0m\u001b[0;34m.\u001b[0m\u001b[0msend\u001b[0m\u001b[0;34m(\u001b[0m\u001b[0;34mb''\u001b[0m\u001b[0;34m)\u001b[0m\u001b[0;34m\u001b[0m\u001b[0;34m\u001b[0m\u001b[0m\n\u001b[0m\u001b[1;32m    204\u001b[0m         \u001b[0;32melse\u001b[0m\u001b[0;34m:\u001b[0m\u001b[0;34m\u001b[0m\u001b[0;34m\u001b[0m\u001b[0m\n\u001b[1;32m    205\u001b[0m             \u001b[0mf\u001b[0m\u001b[0;34m(\u001b[0m\u001b[0;34m)\u001b[0m\u001b[0;34m\u001b[0m\u001b[0;34m\u001b[0m\u001b[0m\n",
            "\u001b[0;32m/usr/local/lib/python3.10/dist-packages/zmq/sugar/socket.py\u001b[0m in \u001b[0;36msend\u001b[0;34m(self, data, flags, copy, track, routing_id, group)\u001b[0m\n\u001b[1;32m    616\u001b[0m                 )\n\u001b[1;32m    617\u001b[0m             \u001b[0mdata\u001b[0m\u001b[0;34m.\u001b[0m\u001b[0mgroup\u001b[0m \u001b[0;34m=\u001b[0m \u001b[0mgroup\u001b[0m\u001b[0;34m\u001b[0m\u001b[0;34m\u001b[0m\u001b[0m\n\u001b[0;32m--> 618\u001b[0;31m         \u001b[0;32mreturn\u001b[0m \u001b[0msuper\u001b[0m\u001b[0;34m(\u001b[0m\u001b[0;34m)\u001b[0m\u001b[0;34m.\u001b[0m\u001b[0msend\u001b[0m\u001b[0;34m(\u001b[0m\u001b[0mdata\u001b[0m\u001b[0;34m,\u001b[0m \u001b[0mflags\u001b[0m\u001b[0;34m=\u001b[0m\u001b[0mflags\u001b[0m\u001b[0;34m,\u001b[0m \u001b[0mcopy\u001b[0m\u001b[0;34m=\u001b[0m\u001b[0mcopy\u001b[0m\u001b[0;34m,\u001b[0m \u001b[0mtrack\u001b[0m\u001b[0;34m=\u001b[0m\u001b[0mtrack\u001b[0m\u001b[0;34m)\u001b[0m\u001b[0;34m\u001b[0m\u001b[0;34m\u001b[0m\u001b[0m\n\u001b[0m\u001b[1;32m    619\u001b[0m \u001b[0;34m\u001b[0m\u001b[0m\n\u001b[1;32m    620\u001b[0m     def send_multipart(\n",
            "\u001b[0;32mzmq/backend/cython/socket.pyx\u001b[0m in \u001b[0;36mzmq.backend.cython.socket.Socket.send\u001b[0;34m()\u001b[0m\n",
            "\u001b[0;32mzmq/backend/cython/socket.pyx\u001b[0m in \u001b[0;36mzmq.backend.cython.socket.Socket.send\u001b[0;34m()\u001b[0m\n",
            "\u001b[0;32mzmq/backend/cython/socket.pyx\u001b[0m in \u001b[0;36mzmq.backend.cython.socket._send_copy\u001b[0;34m()\u001b[0m\n",
            "\u001b[0;32m/usr/local/lib/python3.10/dist-packages/zmq/backend/cython/checkrc.pxd\u001b[0m in \u001b[0;36mzmq.backend.cython.checkrc._check_rc\u001b[0;34m()\u001b[0m\n",
            "\u001b[0;31mKeyboardInterrupt\u001b[0m: "
          ]
        }
      ]
    },
    {
      "cell_type": "code",
      "source": [
        "rows = 3\n",
        "columns = 4\n",
        "for i in range(rows):\n",
        "  print()\n",
        "  for j in range(columns):\n",
        "    print(f\"({i}, {j})\")\n"
      ],
      "metadata": {
        "id": "L1Bbc0Mso00r",
        "colab": {
          "base_uri": "https://localhost:8080/"
        },
        "outputId": "6652371f-e245-4ba9-fea6-58c945f6af81"
      },
      "execution_count": null,
      "outputs": [
        {
          "output_type": "stream",
          "name": "stdout",
          "text": [
            "\n",
            "(0, 0)\n",
            "(0, 1)\n",
            "(0, 2)\n",
            "(0, 3)\n",
            "\n",
            "(1, 0)\n",
            "(1, 1)\n",
            "(1, 2)\n",
            "(1, 3)\n",
            "\n",
            "(2, 0)\n",
            "(2, 1)\n",
            "(2, 2)\n",
            "(2, 3)\n"
          ]
        }
      ]
    },
    {
      "cell_type": "code",
      "source": [
        "print(\"hello my name is\",\"Nawshrvan\")\n",
        "while True:\n",
        " x = input(\"Please Enter Your Name: \")\n",
        " if x == \"quit\":\n",
        "  break\n",
        " else:\n",
        "  print(\"hello\",x,\"nice to meet you :)\",\"\\n\")\n",
        "print(\"Successfully Ended\")"
      ],
      "metadata": {
        "id": "D8TS6N-Eqd98",
        "colab": {
          "base_uri": "https://localhost:8080/"
        },
        "outputId": "b13f991e-59af-48d0-fdb2-2f4f64ea8099"
      },
      "execution_count": null,
      "outputs": [
        {
          "output_type": "stream",
          "name": "stdout",
          "text": [
            "hello my name is Nawshrvan\n",
            "Please Enter Your Name: fawad\n",
            "hello fawad nice to meet you :) \n",
            "\n",
            "Please Enter Your Name: quit\n",
            "Successfully Ended\n"
          ]
        }
      ]
    },
    {
      "cell_type": "code",
      "source": [
        "# for i in range(1, 6):\n",
        "#   print(i)\n",
        "\n",
        "for i in range(1, 6):\n",
        "    if i == 3:\n",
        "        continue\n",
        "    print(i)\n",
        "    if i == 4:\n",
        "        break"
      ],
      "metadata": {
        "id": "Nd-8zdKwqsBz",
        "colab": {
          "base_uri": "https://localhost:8080/"
        },
        "outputId": "26fa9875-9809-47c5-d36d-db7188de97fe"
      },
      "execution_count": null,
      "outputs": [
        {
          "output_type": "stream",
          "name": "stdout",
          "text": [
            "1\n",
            "2\n",
            "4\n"
          ]
        }
      ]
    },
    {
      "cell_type": "code",
      "source": [
        "text = input()\n",
        "print(text)\n",
        "print(text[::-1])\n",
        "if text == text[::-1]:\n",
        "  print('yes')\n",
        "else:\n",
        "  print('no')"
      ],
      "metadata": {
        "colab": {
          "base_uri": "https://localhost:8080/"
        },
        "id": "x1VlyvpSof92",
        "outputId": "b069bd7d-0f60-48c9-f47d-2ffe177c3fc1"
      },
      "execution_count": null,
      "outputs": [
        {
          "output_type": "stream",
          "name": "stdout",
          "text": [
            "hello\n",
            "hello\n",
            "olleh\n",
            "no\n"
          ]
        }
      ]
    },
    {
      "cell_type": "markdown",
      "source": [
        "# **DAY 2**"
      ],
      "metadata": {
        "id": "UluO7UZalc2U"
      }
    },
    {
      "cell_type": "markdown",
      "source": [
        "**Functions**"
      ],
      "metadata": {
        "id": "N1J9JaD9rSKx"
      }
    },
    {
      "cell_type": "code",
      "source": [
        "#Function without Parameters:\n",
        "def greet1():\n",
        "    print(\"Hello, world!\")\n",
        "\n",
        "greet1()\n",
        "greet1()\n",
        "greet1()\n",
        "greet1()"
      ],
      "metadata": {
        "id": "raY9XKGtrF6y",
        "colab": {
          "base_uri": "https://localhost:8080/"
        },
        "outputId": "65129f41-1d6f-425a-f986-baeffedb954e"
      },
      "execution_count": null,
      "outputs": [
        {
          "output_type": "stream",
          "name": "stdout",
          "text": [
            "Hello, world!\n",
            "Hello, world!\n",
            "Hello, world!\n",
            "Hello, world!\n"
          ]
        }
      ]
    },
    {
      "cell_type": "code",
      "source": [
        "#Function with Parameters:\n",
        "def greet2(a):\n",
        "    print(\"Hello!\",a)\n",
        "\n",
        "greet2(\"hamza\")\n",
        "greet2()"
      ],
      "metadata": {
        "id": "pLS3nw-5rVaQ",
        "colab": {
          "base_uri": "https://localhost:8080/",
          "height": 218
        },
        "outputId": "e20999e6-feaf-42ad-988e-d0091e57e439"
      },
      "execution_count": null,
      "outputs": [
        {
          "output_type": "stream",
          "name": "stdout",
          "text": [
            "Hello! hamza\n"
          ]
        },
        {
          "output_type": "error",
          "ename": "TypeError",
          "evalue": "ignored",
          "traceback": [
            "\u001b[0;31m---------------------------------------------------------------------------\u001b[0m",
            "\u001b[0;31mTypeError\u001b[0m                                 Traceback (most recent call last)",
            "\u001b[0;32m<ipython-input-93-f59dad20c81d>\u001b[0m in \u001b[0;36m<cell line: 6>\u001b[0;34m()\u001b[0m\n\u001b[1;32m      4\u001b[0m \u001b[0;34m\u001b[0m\u001b[0m\n\u001b[1;32m      5\u001b[0m \u001b[0mgreet2\u001b[0m\u001b[0;34m(\u001b[0m\u001b[0;34m\"hamza\"\u001b[0m\u001b[0;34m)\u001b[0m\u001b[0;34m\u001b[0m\u001b[0;34m\u001b[0m\u001b[0m\n\u001b[0;32m----> 6\u001b[0;31m \u001b[0mgreet2\u001b[0m\u001b[0;34m(\u001b[0m\u001b[0;34m)\u001b[0m\u001b[0;34m\u001b[0m\u001b[0;34m\u001b[0m\u001b[0m\n\u001b[0m",
            "\u001b[0;31mTypeError\u001b[0m: greet2() missing 1 required positional argument: 'a'"
          ]
        }
      ]
    },
    {
      "cell_type": "code",
      "source": [
        "#Function with Default Parameter:\n",
        "def greet3(name=\"John\"):\n",
        "    print(f\"Hello, {name}!\")\n",
        "\n",
        "greet3()\n",
        "greet3(\"Ali\")\n"
      ],
      "metadata": {
        "id": "g4gwKzuirbwT",
        "colab": {
          "base_uri": "https://localhost:8080/"
        },
        "outputId": "e402660c-408e-43f2-a32d-5b925d699ce9"
      },
      "execution_count": null,
      "outputs": [
        {
          "output_type": "stream",
          "name": "stdout",
          "text": [
            "Hello, John!\n",
            "Hello, Ali!\n"
          ]
        }
      ]
    },
    {
      "cell_type": "code",
      "source": [
        "#Function with Return Value:\n",
        "def add_numbers(a, b):\n",
        "    c = a + b\n",
        "    return c\n",
        "\n",
        "print( add_numbers(3,5))"
      ],
      "metadata": {
        "id": "rfXx1p2vrqnk",
        "colab": {
          "base_uri": "https://localhost:8080/"
        },
        "outputId": "93a2021f-ddfc-4f5e-ba79-b2034fdd582e"
      },
      "execution_count": null,
      "outputs": [
        {
          "output_type": "stream",
          "name": "stdout",
          "text": [
            "8\n"
          ]
        }
      ]
    },
    {
      "cell_type": "code",
      "source": [
        "def bmii():\n",
        "  sum = 0\n",
        "  while True:\n",
        "    val = int(input(\"Enter Number, press -1 to exit:\"))\n",
        "    if val == -1:\n",
        "      return sum\n",
        "    else:\n",
        "      sum = sum + val\n",
        "print(bmii())"
      ],
      "metadata": {
        "colab": {
          "base_uri": "https://localhost:8080/"
        },
        "id": "6wmpFBRvZUqQ",
        "outputId": "ade74ad7-8776-43c1-d22e-c88a742fa25f"
      },
      "execution_count": null,
      "outputs": [
        {
          "output_type": "stream",
          "name": "stdout",
          "text": [
            "Enter Number, press -1 to exit:-1\n",
            "0\n"
          ]
        }
      ]
    },
    {
      "cell_type": "code",
      "source": [
        "#Function with Variable Number of Arguments:\n",
        "def calculate_average(arr):\n",
        "    count = len(arr)\n",
        "    total = sum(arr)\n",
        "    return total / count\n",
        "\n",
        "result = calculate_average([4, 6, 8, 10])\n",
        "print(result)"
      ],
      "metadata": {
        "id": "Sv_i0maHtBVz",
        "colab": {
          "base_uri": "https://localhost:8080/"
        },
        "outputId": "e41095c5-2cdf-47e1-a1db-baf69c457323"
      },
      "execution_count": null,
      "outputs": [
        {
          "output_type": "stream",
          "name": "stdout",
          "text": [
            "7.0\n"
          ]
        }
      ]
    },
    {
      "cell_type": "markdown",
      "source": [
        "# **Special Case of Function (Recursion)**"
      ],
      "metadata": {
        "id": "WUdsB0kfrxMA"
      }
    },
    {
      "cell_type": "code",
      "source": [
        "def factorial(n):\n",
        "    if n == 0:\n",
        "        return 1\n",
        "    else:\n",
        "        return n * factorial(n-1)\n",
        "\n",
        "result = factorial(5)\n",
        "print(result)"
      ],
      "metadata": {
        "id": "SdNCecimrvEU",
        "colab": {
          "base_uri": "https://localhost:8080/"
        },
        "outputId": "5b0b8e4b-d3b5-441d-9ae2-ac3c3a31145f"
      },
      "execution_count": null,
      "outputs": [
        {
          "output_type": "stream",
          "name": "stdout",
          "text": [
            "120\n"
          ]
        }
      ]
    },
    {
      "cell_type": "code",
      "source": [
        "#Lambda (One time) Function:\n",
        "# double = lambda x: x * 2\n",
        "# result = double(15)\n",
        "# print(result)\n",
        "\n",
        "\n",
        "double = lambda x,y: x * y * 2\n",
        "result = double(5,2)\n",
        "print(result)\n"
      ],
      "metadata": {
        "id": "jlrst-ihsOE1",
        "colab": {
          "base_uri": "https://localhost:8080/"
        },
        "outputId": "c4b396ed-00d3-48d8-c209-df2f2a6f273f"
      },
      "execution_count": null,
      "outputs": [
        {
          "output_type": "stream",
          "name": "stdout",
          "text": [
            "20\n"
          ]
        }
      ]
    },
    {
      "cell_type": "markdown",
      "source": [
        "**Exception Handling**"
      ],
      "metadata": {
        "id": "RqwrVT4ctdpI"
      }
    },
    {
      "cell_type": "code",
      "source": [
        "# with open(\"myfile.txt\", \"r\") as file:\n",
        "#         content = file.read()\n",
        "try:\n",
        "    with open(\"myfile.txt\", \"r\") as file:\n",
        "        content = file.read()\n",
        "\n",
        "\n",
        "except FileNotFoundError:\n",
        "    print(\"File not found.\")\n",
        "\n",
        "# except Exception as e:\n",
        "#     print(f\"An error occurred: {str(e)}\")\n"
      ],
      "metadata": {
        "id": "r2tG_veHs9zM",
        "colab": {
          "base_uri": "https://localhost:8080/"
        },
        "outputId": "c9760689-e926-4c05-8daf-dc9ea2439b13"
      },
      "execution_count": null,
      "outputs": [
        {
          "output_type": "stream",
          "name": "stdout",
          "text": [
            "File not found.\n"
          ]
        }
      ]
    },
    {
      "cell_type": "code",
      "source": [
        "# result = 10 / 0\n",
        "try:\n",
        "    result = 10 / 0\n",
        "\n",
        "except ZeroDivisionError:\n",
        "    print(\"Error: Division by zero!\")\n",
        "# except Exception as e:\n",
        "#     print(f\"An error occurred: {str(e)}\")"
      ],
      "metadata": {
        "id": "9JJuSEOBt6CD",
        "colab": {
          "base_uri": "https://localhost:8080/"
        },
        "outputId": "615ae87b-7776-4d77-d6e9-dccfa944a615"
      },
      "execution_count": null,
      "outputs": [
        {
          "output_type": "stream",
          "name": "stdout",
          "text": [
            "Error: Division by zero!\n"
          ]
        }
      ]
    },
    {
      "cell_type": "code",
      "source": [
        "# age = int(input(\"Enter your age: \"))#string to int\n",
        "try:\n",
        "    age = int(input(\"Enter your age: \"))\n",
        "\n",
        "except ValueError:\n",
        "    print(\"Invalid input. Please enter a valid integer.\")\n"
      ],
      "metadata": {
        "id": "DKNYDKjiuck4",
        "colab": {
          "base_uri": "https://localhost:8080/"
        },
        "outputId": "c9e6a341-00cf-4ab1-ca5e-918a7c476107"
      },
      "execution_count": null,
      "outputs": [
        {
          "output_type": "stream",
          "name": "stdout",
          "text": [
            "Enter your age: hello\n",
            "Invalid input. Please enter a valid integer.\n"
          ]
        }
      ]
    },
    {
      "cell_type": "code",
      "source": [
        "# try:\n",
        "#     # Perform database operations\n",
        "# except ConnectionError:\n",
        "#     print(\"Error: Unable to connect to the database.\")\n",
        "# except SQLSyntaxError:\n",
        "#     print(\"Error: Invalid SQL syntax.\")\n",
        "# except Exception as e:\n",
        "#     print(f\"An error occurred: {str(e)}\")"
      ],
      "metadata": {
        "id": "HhbxQO-quru6"
      },
      "execution_count": null,
      "outputs": []
    },
    {
      "cell_type": "markdown",
      "source": [
        "# **Activity**"
      ],
      "metadata": {
        "id": "fnS8UK6jUAv1"
      }
    },
    {
      "cell_type": "markdown",
      "source": [
        "Create two lists inside a function.\n",
        "\n",
        "One of Even numbers from 0,2,4,6,8....50\n",
        "\n",
        "One of Odd numbers from 1,3,5,7,9....49\n",
        "\n",
        "return those lists and print them."
      ],
      "metadata": {
        "id": "liba3FusUDye"
      }
    },
    {
      "cell_type": "code",
      "source": [],
      "metadata": {
        "id": "hV1j4y2ZUto0"
      },
      "execution_count": null,
      "outputs": []
    },
    {
      "cell_type": "code",
      "source": [],
      "metadata": {
        "id": "0UieLEj_Utwv"
      },
      "execution_count": null,
      "outputs": []
    },
    {
      "cell_type": "code",
      "source": [],
      "metadata": {
        "id": "KHRrLWo7Ut5v"
      },
      "execution_count": null,
      "outputs": []
    },
    {
      "cell_type": "code",
      "source": [],
      "metadata": {
        "id": "RMAXrXytUuB3"
      },
      "execution_count": null,
      "outputs": []
    },
    {
      "cell_type": "code",
      "source": [],
      "metadata": {
        "id": "aI5jdZ35UuiJ"
      },
      "execution_count": null,
      "outputs": []
    },
    {
      "cell_type": "code",
      "source": [],
      "metadata": {
        "id": "NIE7WvuAUu2P"
      },
      "execution_count": null,
      "outputs": []
    },
    {
      "cell_type": "code",
      "source": [
        "def func():\n",
        "  even,odd = [],[]\n",
        "  for x in range(0,51):\n",
        "    if x % 2 == 0: #even\n",
        "      even.append(x)\n",
        "    else:\n",
        "      odd.append(x)\n",
        "  return even,odd\n",
        "x,y = func()\n",
        "print(x)\n",
        "print(y)"
      ],
      "metadata": {
        "id": "DvXgichXUU4x",
        "colab": {
          "base_uri": "https://localhost:8080/"
        },
        "outputId": "49c534a0-b42b-4f88-a123-e36a96a4cff4"
      },
      "execution_count": null,
      "outputs": [
        {
          "output_type": "stream",
          "name": "stdout",
          "text": [
            "[0, 2, 4, 6, 8, 10, 12, 14, 16, 18, 20, 22, 24, 26, 28, 30, 32, 34, 36, 38, 40, 42, 44, 46, 48, 50]\n",
            "[1, 3, 5, 7, 9, 11, 13, 15, 17, 19, 21, 23, 25, 27, 29, 31, 33, 35, 37, 39, 41, 43, 45, 47, 49]\n"
          ]
        }
      ]
    },
    {
      "cell_type": "markdown",
      "source": [
        "# **OOP**"
      ],
      "metadata": {
        "id": "T8CBAL8aFySR"
      }
    },
    {
      "cell_type": "code",
      "source": [
        "#class\n",
        "class Person:\n",
        "    pass\n",
        "\n",
        "if __name__ == \"__main__\":\n",
        "  #object is an instance of a class\n",
        "  person1 = Person()\n",
        "  print(type(person1))"
      ],
      "metadata": {
        "id": "jw4q4rZUFzxp"
      },
      "execution_count": null,
      "outputs": []
    },
    {
      "cell_type": "code",
      "source": [
        "class Circle: #class\n",
        "    # color = \"\" #attribute\n",
        "    def __init__(self, radius):#self =  access the current object at runtime\n",
        "        self.radius = radius\n",
        "        # print(\"Object Created\")\n",
        "\n",
        "    def area(self): #function\n",
        "        return 3.14 * self.radius * self.radius\n",
        "\n",
        "    # def set_color(self,color):\n",
        "    #     self.color = color\n",
        "\n",
        "circle = Circle(5)\n",
        "print(circle.area())\n",
        "# circle.set_color(\"red\")\n",
        "# print(circle.color)"
      ],
      "metadata": {
        "id": "GrhkB4-OGmnJ"
      },
      "execution_count": null,
      "outputs": []
    },
    {
      "cell_type": "code",
      "source": [
        "#why is 0 0 being output???\n",
        "class Rectangle:\n",
        "    length, width = 0, 0\n",
        "    def __init__(self, l, w):\n",
        "        length = l\n",
        "        width = w\n",
        "        # self.length = l\n",
        "        # self.width = w\n",
        "\n",
        "r1 = Rectangle(1,2)\n",
        "r2 = Rectangle(4,5)\n",
        "\n",
        "print(r1.length,r1.width)\n",
        "print(r2.length,r2.width)"
      ],
      "metadata": {
        "id": "BFfr3UqNHVEb"
      },
      "execution_count": null,
      "outputs": []
    },
    {
      "cell_type": "markdown",
      "source": [
        "# **Encapsulation (bundling of data together within a class)**"
      ],
      "metadata": {
        "id": "--wBqLwAJ6gR"
      }
    },
    {
      "cell_type": "code",
      "source": [
        "class BankAccount:\n",
        "    def __init__(self):\n",
        "        self._balance = 0\n",
        "\n",
        "    def deposit(self, amount):\n",
        "        self._balance += amount\n",
        "\n",
        "    def withdraw(self, amount):\n",
        "        if amount <= self._balance:\n",
        "            self._balance -= amount\n",
        "        else:\n",
        "            print(\"Insufficient balance.\")\n",
        "\n",
        "    def get_balance(self):\n",
        "        return self._balance\n",
        "\n",
        "account = BankAccount()\n",
        "account.deposit(100)\n",
        "account.withdraw(50)\n",
        "print(account.get_balance())"
      ],
      "metadata": {
        "id": "cUc6nIlSJuAS"
      },
      "execution_count": null,
      "outputs": []
    },
    {
      "cell_type": "markdown",
      "source": [
        "# **Inheritance**"
      ],
      "metadata": {
        "id": "eH2g5SshKL55"
      }
    },
    {
      "cell_type": "code",
      "source": [
        "class Animal:\n",
        "    # color = \"red\"\n",
        "    def sound(self):\n",
        "        print(\"Animal makes a sound.\")\n",
        "\n",
        "class Dog(Animal):\n",
        "    def __init__(self):\n",
        "      pass\n",
        "    def sound(self): #function overriding, python does not support overloading\n",
        "        print(\"Dog barks.\")\n",
        "\n",
        "dog = Dog()\n",
        "dog.sound()\n",
        "# print(dog.color)\n"
      ],
      "metadata": {
        "id": "_jHPZsOBKQ9P"
      },
      "execution_count": null,
      "outputs": []
    },
    {
      "cell_type": "markdown",
      "source": [
        "# **Polymorphism**\n",
        "# **It allows different classes to define methods with the same name but different implementations.**"
      ],
      "metadata": {
        "id": "M5UVczFxL6-o"
      }
    },
    {
      "cell_type": "code",
      "source": [
        "class Shape:\n",
        "    def area(self):\n",
        "        pass\n",
        "\n",
        "class Circle(Shape):\n",
        "    def __init__(self, radius):\n",
        "        self.radius = radius\n",
        "\n",
        "    def area(self):\n",
        "        return 3.14 * self.radius**2\n",
        "\n",
        "class Rectangle(Shape):\n",
        "    def __init__(self, length, width):\n",
        "        self.length = length\n",
        "        self.width = width\n",
        "\n",
        "    def area(self):\n",
        "        return self.length * self.width\n",
        "\n",
        "shapes = [Circle(5), Rectangle(4, 6)] #list of objects\n",
        "for shape in shapes:\n",
        "    print(shape.area())\n"
      ],
      "metadata": {
        "id": "j8tcJaakL8mY"
      },
      "execution_count": null,
      "outputs": []
    },
    {
      "cell_type": "markdown",
      "source": [
        "# **Abstraction (hiding unnecessary details)**"
      ],
      "metadata": {
        "id": "22Q8pve8MpVQ"
      }
    },
    {
      "cell_type": "code",
      "source": [
        "from abc import ABC, abstractmethod\n",
        "\n",
        "class Shape(ABC):\n",
        "    @abstractmethod #abstract method is a method that is declared in the base class but does not provide any implementation\n",
        "    def area(self):\n",
        "      pass\n",
        "\n",
        "class Circle(Shape):\n",
        "    def __init__(self, radius):\n",
        "        self.radius = radius\n",
        "\n",
        "    def area(self):\n",
        "        return 3.14 * self.radius**2\n",
        "\n",
        "circle = Circle(5)\n",
        "print(circle.area())"
      ],
      "metadata": {
        "id": "0Q6cZIMLMuIH"
      },
      "execution_count": null,
      "outputs": []
    },
    {
      "cell_type": "markdown",
      "source": [
        "# **Constructor & Destructor**"
      ],
      "metadata": {
        "id": "2SyBHJVJOz-q"
      }
    },
    {
      "cell_type": "code",
      "source": [
        "class MyClass:\n",
        "    def __init__(self, name):\n",
        "        self.name = name\n",
        "\n",
        "    def __del__(self):# the __del__ method is called automatically before the object is deleted\n",
        "        print(f\"Deleting {self.name}\")\n",
        "\n",
        "obj = MyClass(\"MyObject\")"
      ],
      "metadata": {
        "id": "IH3nLleJNSD5"
      },
      "execution_count": null,
      "outputs": []
    },
    {
      "cell_type": "markdown",
      "source": [
        "# **Example**"
      ],
      "metadata": {
        "id": "J-I3a9AGP2to"
      }
    },
    {
      "cell_type": "code",
      "source": [
        "class Student:\n",
        "    def __init__(self, name, age, grade,marks):#constructor\n",
        "        self.name = name\n",
        "        self.age = age\n",
        "        self.grade = grade\n",
        "        self.marks = marks\n",
        "\n",
        "    def get_avg_marks(self):\n",
        "        sum = self.marks[0] + self.marks[1] + self.marks[2]\n",
        "        return sum/len(self.marks)\n",
        "\n",
        "    def get_details(self):\n",
        "        return f\"Name: {self.name}, Age: {self.age}, Grade: {self.grade}, Average Marks: {Student.get_avg_marks(self)}\"\n",
        "\n",
        "class StudentManagementSystem:\n",
        "    def __init__(self):\n",
        "        self.students = []\n",
        "\n",
        "    def add_student(self, student):\n",
        "        self.students.append(student)\n",
        "\n",
        "    def remove_student(self, student):\n",
        "        self.students.remove(student)\n",
        "\n",
        "    def display_students(self):\n",
        "        for student in self.students:\n",
        "            print(student.get_details())\n",
        "\n",
        "\n",
        "student1 = Student(\"Alice\", 18, \"12th Grade\",[50,60,70])\n",
        "student2 = Student(\"Bob\", 17, \"11th Grade\",[45,55,65])\n",
        "\n",
        "system = StudentManagementSystem()\n",
        "\n",
        "system.add_student(student1)\n",
        "system.add_student(student2)\n",
        "\n",
        "system.display_students()\n",
        "\n",
        "# system.remove_student(student1)\n",
        "\n",
        "# system.display_students()\n"
      ],
      "metadata": {
        "id": "ytaAH1DpPpY1"
      },
      "execution_count": null,
      "outputs": []
    },
    {
      "cell_type": "markdown",
      "source": [
        "# **DAY 3**"
      ],
      "metadata": {
        "id": "t65mczXNFwVx"
      }
    },
    {
      "cell_type": "markdown",
      "source": [
        "# **Iterables**"
      ],
      "metadata": {
        "id": "M7yYusSXMuIa"
      }
    },
    {
      "cell_type": "code",
      "source": [
        "my_list = [1, 2, 3, 4, 5]\n",
        "for item in my_list:\n",
        "    print(item)"
      ],
      "metadata": {
        "id": "3JLG-UVsMtmR"
      },
      "execution_count": null,
      "outputs": []
    },
    {
      "cell_type": "code",
      "source": [
        "my_tuple = (1, 2, 3, 4, 5)\n",
        "for item in my_tuple:\n",
        "    print(item)"
      ],
      "metadata": {
        "id": "c1yJwQYAM1f_"
      },
      "execution_count": null,
      "outputs": []
    },
    {
      "cell_type": "code",
      "source": [
        "my_dictionary = {\"Name\":\"Nawshrvan\",\n",
        "                 \"Age\": 22,\n",
        "                 \"Gender\": \"Male\"\n",
        "}\n",
        "\n",
        "for key in my_dictionary.keys():\n",
        "  print(key)"
      ],
      "metadata": {
        "id": "-plrgXygM7Ql"
      },
      "execution_count": null,
      "outputs": []
    },
    {
      "cell_type": "code",
      "source": [
        "my_dictionary = {\"Name\":\"Nawshrvan\",\n",
        "                 \"Age\": 22,\n",
        "                 \"Gender\": \"Male\"\n",
        "}\n",
        "\n",
        "for value in my_dictionary.values():\n",
        "  print(value)"
      ],
      "metadata": {
        "id": "7EEO-Xo7NM0J"
      },
      "execution_count": null,
      "outputs": []
    },
    {
      "cell_type": "code",
      "source": [
        "my_dictionary = {\"Name\":\"Nawshrvan\",\n",
        "                 \"Age\": 22,\n",
        "                 \"Gender\": \"Male\"\n",
        "}\n",
        "\n",
        "for item in my_dictionary.items():\n",
        "  print(item)\n",
        "  # print(f\"|{item[0]}|{item[1]}|\")"
      ],
      "metadata": {
        "id": "WaVOfR1jNQDK"
      },
      "execution_count": null,
      "outputs": []
    },
    {
      "cell_type": "markdown",
      "source": [
        "# **Iterators**"
      ],
      "metadata": {
        "id": "FxCeMfB0Nye6"
      }
    },
    {
      "cell_type": "markdown",
      "source": [
        "Memory Efficiency: When you use an iterator, it generates and provides each item one at a time, as needed. It doesn't load the entire collection into memory all at once. This is particularly useful when dealing with large data sets or when the collection itself is being generated dynamically. In contrast, if you use a list directly, the entire list needs to be stored in memory, which may consume a significant amount of memory.\n",
        "\n",
        "Code Efficiency: Iterators promote code efficiency by separating the logic of iterating over a collection from the details of how the collection is implemented. This separation allows for more flexibility in choosing the underlying data structure or generating the elements dynamically. It also encourages modular and reusable code, as the same iterator interface can be used with different data sources."
      ],
      "metadata": {
        "id": "A3pqPB6AOePY"
      }
    },
    {
      "cell_type": "code",
      "source": [
        "class MyIterator:\n",
        "    def __init__(self, data):\n",
        "        self.data = data\n",
        "        self.index = 0\n",
        "\n",
        "    def __iter__(self):\n",
        "        return self\n",
        "\n",
        "    def __next__(self):\n",
        "        if self.index >= len(self.data):\n",
        "            raise StopIteration\n",
        "        value = self.data[self.index]\n",
        "        self.index += 1\n",
        "        return value\n",
        "\n",
        "my_iterator = MyIterator([1, 2, 3, 4, 5]) #list\n",
        "# my_iterator2 = MyIterator((1,2,3,4,5)) #tuple\n",
        "\n",
        "# my_iterator3 = MyIterator({\"name\":\"me\",\n",
        "#                            \"age\":\"22\"\n",
        "# }) #dictionary error why?\n",
        "#Because dictionary[0] is not valid, it should be dictionary[\"name\"]\n",
        "for item in my_iterator:\n",
        "    print(item)"
      ],
      "metadata": {
        "id": "g9NfrvdeNzwx"
      },
      "execution_count": null,
      "outputs": []
    },
    {
      "cell_type": "markdown",
      "source": [
        "# **Generators**"
      ],
      "metadata": {
        "id": "QITqYXJVPcwM"
      }
    },
    {
      "cell_type": "markdown",
      "source": [
        "Generators are a type of iterables that can be defined using a special syntax. They are functions that use the yield keyword to return a sequence of values one at a time, instead of returning a single value like regular functions. Generators are memory-efficient as they generate values on-the-fly and do not store the entire sequence in memory."
      ],
      "metadata": {
        "id": "S-QhyzDGPjIk"
      }
    },
    {
      "cell_type": "code",
      "source": [
        "def my_generator():\n",
        "    yield 1 #keyword, any function with this becomes a generator\n",
        "    yield 2\n",
        "    yield 3\n",
        "    yield 4\n",
        "    yield 5\n",
        "    yield \"hello\"\n",
        "    yield [1,2,3,4,5]\n",
        "\n",
        "\n",
        "for item in my_generator():\n",
        "    print(item)\n",
        "\n",
        "# print(my_generator()) #Generators return a Generator object.\n",
        "#Generator objects are used either by calling the next method on the generator object or using the generator object in a “for in” loop\n",
        "\n",
        "# x = my_generator()\n",
        "# print(next(x)) #next method\n",
        "# print(next(x))\n",
        "# print(next(x))\n",
        "\n"
      ],
      "metadata": {
        "id": "emHOLTOMPcEE"
      },
      "execution_count": null,
      "outputs": []
    },
    {
      "cell_type": "markdown",
      "source": [
        "# **Randomness**"
      ],
      "metadata": {
        "id": "u7a9xKj7RPMB"
      }
    },
    {
      "cell_type": "code",
      "source": [
        "import random\n",
        "\n",
        "random_number = random.randint(1, 10) #inclusive and for int\n",
        "print(random_number)"
      ],
      "metadata": {
        "id": "mtVi8vBRRANt"
      },
      "execution_count": null,
      "outputs": []
    },
    {
      "cell_type": "code",
      "source": [
        "random_float = random.uniform(0,1) #for float\n",
        "print(random_float)"
      ],
      "metadata": {
        "id": "l_kxK7_9R7kX"
      },
      "execution_count": null,
      "outputs": []
    },
    {
      "cell_type": "code",
      "source": [
        "my_list = ['apple', 'banana', 'orange', 'grape']\n",
        "random_choice = random.choice(my_list) #random choice from data structure provided\n",
        "print(random_choice)"
      ],
      "metadata": {
        "id": "EVlR9CPuSKJ3"
      },
      "execution_count": null,
      "outputs": []
    },
    {
      "cell_type": "code",
      "source": [
        "my_tuple = ('apple', 'banana', 'orange', 'grape')\n",
        "random_choice = random.choice(my_tuple)\n",
        "print(random_choice)"
      ],
      "metadata": {
        "id": "cnWbdaszSSA4"
      },
      "execution_count": null,
      "outputs": []
    },
    {
      "cell_type": "code",
      "source": [
        "my_list = ['apple', 'banana', 'orange', 'grape']\n",
        "random.shuffle(my_list) #to shuffle list\n",
        "print(my_list)"
      ],
      "metadata": {
        "id": "EnhA7gdpSbAL"
      },
      "execution_count": null,
      "outputs": []
    },
    {
      "cell_type": "code",
      "source": [
        "import random\n",
        "\n",
        "#returns the same value each time\n",
        "random.seed(42)  # For Reproducability, if 2 guys are working on the same dataset. to check accuracy\n",
        "random_number = random.randint(1, 10)\n",
        "print(random_number)"
      ],
      "metadata": {
        "id": "FpYzSrhdSkCS"
      },
      "execution_count": null,
      "outputs": []
    },
    {
      "cell_type": "markdown",
      "source": [
        "# **List Comprehension**\n",
        "Concise and powerful way to create lists in Python.\n",
        "\n",
        "new_list = [expression for item in iterable if condition]\n"
      ],
      "metadata": {
        "id": "exD5h3dWTF3f"
      }
    },
    {
      "cell_type": "code",
      "source": [
        "numbers = [x for x in range(0,5)]\n",
        "print(numbers)"
      ],
      "metadata": {
        "id": "z-sZWVJCTahh"
      },
      "execution_count": null,
      "outputs": []
    },
    {
      "cell_type": "code",
      "source": [
        "numbers = [1, 2, 3, 4, 5]\n",
        "squared_numbers = [x ** 2 for x in numbers]\n",
        "print(squared_numbers)"
      ],
      "metadata": {
        "id": "3vLNLWczTIAX"
      },
      "execution_count": null,
      "outputs": []
    },
    {
      "cell_type": "code",
      "source": [
        "numbers = [x for x in range(0,51)]\n",
        "even_numbers = [x for x in numbers if x % 2 == 0]\n",
        "odd_numbers = [x for x in numbers if x % 2 != 0]\n",
        "print(even_numbers)\n",
        "print(odd_numbers)"
      ],
      "metadata": {
        "id": "TN9ArmIcTsZ1"
      },
      "execution_count": null,
      "outputs": []
    },
    {
      "cell_type": "code",
      "source": [
        "string = 'Hello World'\n",
        "uppercase_letters = [char.upper() for char in string if char.isalpha()] #space exclusion\n",
        "print(uppercase_letters)"
      ],
      "metadata": {
        "id": "OGxhbnWGVBnI"
      },
      "execution_count": null,
      "outputs": []
    },
    {
      "cell_type": "code",
      "source": [
        "list1 = [1, 2, 3]\n",
        "list2 = ['a', 'b', 'c']\n",
        "pairs = [(x, y) for x in list1 for y in list2] #nested so 9 values\n",
        "print(pairs)"
      ],
      "metadata": {
        "id": "xQeq_YImVUrm"
      },
      "execution_count": null,
      "outputs": []
    },
    {
      "cell_type": "markdown",
      "source": [
        "# **Reading & Writing to Files**"
      ],
      "metadata": {
        "id": "lMMf7T8-V2fW"
      }
    },
    {
      "cell_type": "code",
      "source": [
        "with open('file.txt', 'r') as file: #error\n",
        "    contents = file.read()\n",
        "    print(contents)"
      ],
      "metadata": {
        "id": "V9v7hsCQV5-Z"
      },
      "execution_count": null,
      "outputs": []
    },
    {
      "cell_type": "code",
      "source": [
        "try:\n",
        "  with open('file.txt', 'r') as file:\n",
        "    contents = file.read()\n",
        "    print(contents)\n",
        "except FileNotFoundError:\n",
        "  print(\"file not found\")"
      ],
      "metadata": {
        "id": "rCFtRSQGXRAt"
      },
      "execution_count": null,
      "outputs": []
    },
    {
      "cell_type": "code",
      "source": [
        "with open('file.txt', 'w') as file: #write from beginning after creating a file if it doesnt exist\n",
        "    file.write('Hello, world!\\n')"
      ],
      "metadata": {
        "id": "LRlyGlMNXWW1"
      },
      "execution_count": null,
      "outputs": []
    },
    {
      "cell_type": "code",
      "source": [
        "with open('file.txt', 'a') as file: #write from end of file after creating a file if it doesnt exist\n",
        "    file.write('I am in class')"
      ],
      "metadata": {
        "id": "V07Au_frXahQ"
      },
      "execution_count": null,
      "outputs": []
    },
    {
      "cell_type": "markdown",
      "source": [
        "**Data Structure to File**"
      ],
      "metadata": {
        "id": "PQrmFx-2Yc8K"
      }
    },
    {
      "cell_type": "code",
      "source": [
        "numbers = [x for x in range(0,20)]\n",
        "\n",
        "with open('numbers.txt', 'w') as file:\n",
        "    file.write(str(numbers))"
      ],
      "metadata": {
        "id": "w1p3pPzbYS0B"
      },
      "execution_count": null,
      "outputs": []
    },
    {
      "cell_type": "code",
      "source": [
        "try:\n",
        "  with open('numbers.txt', 'r') as file:\n",
        "    contents = file.read()\n",
        "    print(contents)\n",
        "except FileNotFoundError:\n",
        "  print(\"file not found\")"
      ],
      "metadata": {
        "id": "yXQMard7Yhwz"
      },
      "execution_count": null,
      "outputs": []
    },
    {
      "cell_type": "markdown",
      "source": [
        "**Binary File**"
      ],
      "metadata": {
        "id": "FgTqJwWSYq40"
      }
    },
    {
      "cell_type": "code",
      "source": [
        "numbers = [x for x in range(0,20)]\n",
        "\n",
        "with open('numbers_binary.bin', 'wb') as file:\n",
        "    file.write(bytes(numbers)) #convert list to bytes\n",
        "    file.close()"
      ],
      "metadata": {
        "id": "8DbhiC90Ytvd"
      },
      "execution_count": null,
      "outputs": []
    },
    {
      "cell_type": "code",
      "source": [
        "try:\n",
        "  with open('numbers_binary.bin', 'rb') as file:\n",
        "    contents = file.read()\n",
        "    print(list(contents)) #convert bytes to list\n",
        "    file.close()\n",
        "except FileNotFoundError:\n",
        "  print(\"file not found\") #also show bin file contents"
      ],
      "metadata": {
        "id": "JXbW97yyYwS8"
      },
      "execution_count": null,
      "outputs": []
    },
    {
      "cell_type": "markdown",
      "source": [
        "# **Activity**"
      ],
      "metadata": {
        "id": "Ze1b3OGjZ83H"
      }
    },
    {
      "cell_type": "markdown",
      "source": [
        "# Create a list of cubed numbers (1,8,27,81...729) using list comprehension.\n",
        "\n",
        "# Write them to a binary file.\n",
        "\n",
        "# Read the file and then print the numbers that are divisible by 3.\n",
        "\n",
        "\n"
      ],
      "metadata": {
        "id": "yoXho7dMZ_sp"
      }
    },
    {
      "cell_type": "code",
      "source": [],
      "metadata": {
        "id": "KA0u69eXbRXg"
      },
      "execution_count": null,
      "outputs": []
    },
    {
      "cell_type": "code",
      "source": [],
      "metadata": {
        "id": "p4WfNHd_bRaU"
      },
      "execution_count": null,
      "outputs": []
    },
    {
      "cell_type": "code",
      "source": [],
      "metadata": {
        "id": "DK6ncjjnbRdN"
      },
      "execution_count": null,
      "outputs": []
    },
    {
      "cell_type": "code",
      "source": [],
      "metadata": {
        "id": "0oSmZgCXbRfr"
      },
      "execution_count": null,
      "outputs": []
    },
    {
      "cell_type": "code",
      "source": [],
      "metadata": {
        "id": "ObY23959bRio"
      },
      "execution_count": null,
      "outputs": []
    },
    {
      "cell_type": "code",
      "source": [],
      "metadata": {
        "id": "EDPo6ofPcrWE"
      },
      "execution_count": null,
      "outputs": []
    },
    {
      "cell_type": "markdown",
      "source": [
        "# **DAY 4**"
      ],
      "metadata": {
        "id": "GhWEer6sMrNv"
      }
    },
    {
      "cell_type": "markdown",
      "source": [
        "# **DATA ANALYSIS PROCEDURE**"
      ],
      "metadata": {
        "id": "hERndJW9kZkA"
      }
    },
    {
      "cell_type": "markdown",
      "source": [
        "Data Collection\n",
        "\n",
        "Data Cleaning and Preprocessing\n",
        "\n",
        "Exploratory Data Analysis (EDA)\n",
        "\n",
        "Reporting and Presentation"
      ],
      "metadata": {
        "id": "iSp0aEZglKfT"
      }
    },
    {
      "cell_type": "markdown",
      "source": [
        "# **Common Libraries**"
      ],
      "metadata": {
        "id": "UJIz5V9m-8qS"
      }
    },
    {
      "cell_type": "markdown",
      "source": [
        "NumPy: NumPy is a fundamental library for numerical computing in Python. It provides support for working with arrays and matrices, mathematical functions, random number generation, and linear algebra operations.\n",
        "\n",
        "Pandas: Pandas is a powerful library for data manipulation and analysis. It offers data structures like DataFrames that make it easy to handle and analyze structured data. Pandas provides functions for data cleaning, filtering, grouping, merging, reshaping, and more.\n",
        "\n",
        "Matplotlib: Matplotlib is a plotting library that enables you to create various types of visualizations, including line plots, bar charts, scatter plots, histograms, and more. It provides a flexible API for customizing plots and presenting data visually.\n",
        "\n",
        "Scikit-learn: Scikit-learn is a comprehensive library for machine learning in Python. It provides a wide range of algorithms and tools for tasks such as classification, regression, clustering, dimensionality reduction, model evaluation, and preprocessing. Scikit-learn is beginner-friendly and has a consistent API for easy implementation of machine learning models.\n",
        "\n",
        "TensorFlow: TensorFlow itself is the core library for numerical computation and building machine learning models. It offers a flexible and efficient framework for defining computational graphs and executing operations on multi-dimensional arrays called tensors. TensorFlow supports both CPU and GPU acceleration."
      ],
      "metadata": {
        "id": "-iUswfTs-6IT"
      }
    },
    {
      "cell_type": "markdown",
      "source": [
        "# **Numpy**"
      ],
      "metadata": {
        "id": "jLr0e1go_afw"
      }
    },
    {
      "cell_type": "code",
      "source": [
        "!pip install numpy"
      ],
      "metadata": {
        "id": "DqcLsDed_z8W"
      },
      "execution_count": null,
      "outputs": []
    },
    {
      "cell_type": "code",
      "source": [
        "import numpy as np\n",
        "\n",
        "arr1d = np.array([1, 2, 3, 4, 5])\n",
        "print(arr1d)"
      ],
      "metadata": {
        "id": "Co7_-yB7-4_Z"
      },
      "execution_count": null,
      "outputs": []
    },
    {
      "cell_type": "code",
      "source": [
        "arr2d = np.array([[1, 2, 3], [4, 5, 6]])\n",
        "print(arr2d)"
      ],
      "metadata": {
        "id": "33tBS3ByAIBQ"
      },
      "execution_count": null,
      "outputs": []
    },
    {
      "cell_type": "code",
      "source": [
        "print(arr2d.shape)"
      ],
      "metadata": {
        "id": "0jVRoYGwAdWS"
      },
      "execution_count": null,
      "outputs": []
    },
    {
      "cell_type": "code",
      "source": [
        "reshaped_arr = arr1d.reshape((5, 1)) #5 rows with 1 column each\n",
        "print(reshaped_arr)"
      ],
      "metadata": {
        "id": "Iu9qjyR8AIJi"
      },
      "execution_count": null,
      "outputs": []
    },
    {
      "cell_type": "code",
      "source": [
        "arr = np.array([1, 2, 3])\n",
        "result = arr + 5\n",
        "print(result)"
      ],
      "metadata": {
        "id": "fDNKZlX0Ak3q"
      },
      "execution_count": null,
      "outputs": []
    },
    {
      "cell_type": "code",
      "source": [
        "import numpy as np\n",
        "\n",
        "arr1 = np.array([1, 2, 3])\n",
        "arr2 = np.array([4, 5, 6])\n",
        "\n",
        "sum_arr = np.add(arr1, arr2)\n",
        "diff_arr = np.subtract(arr1, arr2)\n",
        "prod_arr = np.multiply(arr1, arr2)\n",
        "div_arr = np.divide(arr1, arr2)\n",
        "\n",
        "print(sum_arr)\n",
        "print(diff_arr)\n",
        "print(prod_arr)\n",
        "print(div_arr)\n"
      ],
      "metadata": {
        "id": "Qc1tEVZmAk7E"
      },
      "execution_count": null,
      "outputs": []
    },
    {
      "cell_type": "markdown",
      "source": [
        "# **Mean Median Standard Deviation**"
      ],
      "metadata": {
        "id": "DbGBH47ZH-e7"
      }
    },
    {
      "cell_type": "markdown",
      "source": [
        "The standard deviation is a measure of the amount of variation or dispersion in a set of values."
      ],
      "metadata": {
        "id": "540OMJrXIxez"
      }
    },
    {
      "cell_type": "code",
      "source": [
        "!pip install scipy"
      ],
      "metadata": {
        "id": "H-FLZTqaJMbQ"
      },
      "execution_count": null,
      "outputs": []
    },
    {
      "cell_type": "code",
      "source": [
        "from scipy import stats\n",
        "\n",
        "arr = np.array([1, 2, 3, 4, 5])\n",
        "mean = np.mean(arr) #sum/count\n",
        "median = np.median(arr) #sort array and then middle number\n",
        "mode = stats.mode(arr)\n",
        "std = np.std(arr) #sqrt(sum((x - mean)^2) / N)\n",
        "variance = std**2\n",
        "#or\n",
        "# variance = np.var(arr)\n",
        "\n",
        "print(mean)\n",
        "print(median)\n",
        "print(mode.mode) #returns value in an array, not index\n",
        "print(std)\n",
        "print(variance)"
      ],
      "metadata": {
        "id": "6E1X9f6VH-EZ"
      },
      "execution_count": null,
      "outputs": []
    },
    {
      "cell_type": "markdown",
      "source": [
        "# **Scikit-Learn (sklearn)**"
      ],
      "metadata": {
        "id": "_vfUgoMDNDdI"
      }
    },
    {
      "cell_type": "code",
      "source": [
        "!pip install sklearn"
      ],
      "metadata": {
        "id": "1v9S75zqNL8n"
      },
      "execution_count": null,
      "outputs": []
    },
    {
      "cell_type": "code",
      "source": [
        "import numpy as np\n",
        "from sklearn.linear_model import LinearRegression\n",
        "\n",
        "X = np.array([[1], [2], [3], [4], [5]])\n",
        "y = np.array([2, 4, 6, 8, 10])\n",
        "\n",
        "model = LinearRegression()\n",
        "\n",
        "model.fit(X, y)\n",
        "\n",
        "X_test = np.array([[6], [7], [8]])\n",
        "predictions = model.predict(X_test)\n",
        "\n",
        "print(predictions)"
      ],
      "metadata": {
        "id": "QmVJUbg2NGD5"
      },
      "execution_count": null,
      "outputs": []
    },
    {
      "cell_type": "markdown",
      "source": [
        "# **MATPLOTLIB**"
      ],
      "metadata": {
        "id": "UMt4rt4pM25o"
      }
    },
    {
      "cell_type": "code",
      "source": [
        "!pip install matplotlib"
      ],
      "metadata": {
        "id": "jquroqfhPWm_"
      },
      "execution_count": null,
      "outputs": []
    },
    {
      "cell_type": "markdown",
      "source": [
        "# **LinePlot**\n",
        "\n",
        "A line plot is used to visualize the relationship between two continuous variables. It is particularly useful when you want to display the trend or pattern of a variable over a continuous range."
      ],
      "metadata": {
        "id": "-2rYfZq6OJnY"
      }
    },
    {
      "cell_type": "code",
      "source": [
        "import numpy as np\n",
        "import matplotlib.pyplot as plt\n",
        "\n",
        "x = np.linspace(0, 10, 100) #create 100 values from 0-10 equally spaced\n",
        "# print(x) #if needed\n",
        "y = np.sin(x)\n",
        "\n",
        "plt.plot(x, y)\n",
        "plt.xlabel('X')\n",
        "plt.ylabel('Y')\n",
        "plt.title('Line Plot')\n",
        "plt.show()"
      ],
      "metadata": {
        "id": "68JEC22AM7h0"
      },
      "execution_count": null,
      "outputs": []
    },
    {
      "cell_type": "markdown",
      "source": [
        "# **Scatter Plot**\n",
        "\n",
        "Scatter plots are particularly useful for identifying patterns, clusters, or correlations between variables."
      ],
      "metadata": {
        "id": "ZpL34jL_Oann"
      }
    },
    {
      "cell_type": "code",
      "source": [
        "x = np.random.randn(100)\n",
        "y = np.random.randn(100)\n",
        "colors = np.random.rand(100)\n",
        "sizes = 100 * np.random.rand(100)\n",
        "\n",
        "plt.scatter(x, y, c=colors, s=sizes, alpha=0.5)\n",
        "plt.xlabel('X')\n",
        "plt.ylabel('Y')\n",
        "plt.title('Scatter Plot')\n",
        "plt.colorbar()\n",
        "plt.show()"
      ],
      "metadata": {
        "id": "mmk6XCs8OY84"
      },
      "execution_count": null,
      "outputs": []
    },
    {
      "cell_type": "markdown",
      "source": [
        "# **Histogram**\n",
        "\n",
        "A histogram is used to represent the distribution of a continuous variable. It divides the range of the variable into a set of bins and displays the frequency or count of data points falling into each bin."
      ],
      "metadata": {
        "id": "NJ8KGmgVO9_W"
      }
    },
    {
      "cell_type": "code",
      "source": [
        "data = np.random.randn(1000)\n",
        "\n",
        "plt.hist(data, bins=30)\n",
        "plt.xlabel('Value')\n",
        "plt.ylabel('Frequency')\n",
        "plt.title('Histogram')\n",
        "plt.show()\n",
        "#central limit theorem. More random values = more towards normal distribution"
      ],
      "metadata": {
        "id": "vZuhpucdPCcG"
      },
      "execution_count": null,
      "outputs": []
    },
    {
      "cell_type": "markdown",
      "source": [
        "# **Data Manipulation & Cleaning**"
      ],
      "metadata": {
        "id": "qKmxltvKPtNe"
      }
    },
    {
      "cell_type": "markdown",
      "source": [
        "# DataFrame Basics"
      ],
      "metadata": {
        "id": "EvSoqH0dSnqv"
      }
    },
    {
      "cell_type": "code",
      "source": [
        "!pip install pandas"
      ],
      "metadata": {
        "id": "9aqhV892QR_F"
      },
      "execution_count": null,
      "outputs": []
    },
    {
      "cell_type": "code",
      "source": [
        "import pandas as pd\n",
        "\n",
        "df = pd.read_csv('data.csv')\n",
        "\n",
        "df"
      ],
      "metadata": {
        "id": "CIKMuljhPwLI"
      },
      "execution_count": null,
      "outputs": []
    },
    {
      "cell_type": "code",
      "source": [
        "df.head()"
      ],
      "metadata": {
        "id": "gtUI5Je4Qch4"
      },
      "execution_count": null,
      "outputs": []
    },
    {
      "cell_type": "code",
      "source": [
        "df.head(2)"
      ],
      "metadata": {
        "id": "Z0PvQxglQjUw"
      },
      "execution_count": null,
      "outputs": []
    },
    {
      "cell_type": "code",
      "source": [
        "df.tail()"
      ],
      "metadata": {
        "id": "qeavX106QlcG"
      },
      "execution_count": null,
      "outputs": []
    },
    {
      "cell_type": "code",
      "source": [
        "df.tail(1)"
      ],
      "metadata": {
        "id": "_nthk2iCQqbo"
      },
      "execution_count": null,
      "outputs": []
    },
    {
      "cell_type": "code",
      "source": [
        "df.describe()"
      ],
      "metadata": {
        "id": "6cMMXbRIQaTD"
      },
      "execution_count": null,
      "outputs": []
    },
    {
      "cell_type": "code",
      "source": [
        "print(df.isnull().sum())"
      ],
      "metadata": {
        "id": "8C-LlbmwSF_U"
      },
      "execution_count": null,
      "outputs": []
    },
    {
      "cell_type": "markdown",
      "source": [
        "# Handling Missing Values"
      ],
      "metadata": {
        "id": "dGJVDi7DSqfG"
      }
    },
    {
      "cell_type": "code",
      "source": [
        "import pandas as pd\n",
        "\n",
        "df = pd.read_csv('data.csv')\n",
        "\n",
        "df"
      ],
      "metadata": {
        "id": "xtwl7GLJStla"
      },
      "execution_count": null,
      "outputs": []
    },
    {
      "cell_type": "code",
      "source": [
        "df.dropna() #use when we have lots of rows and losing some rows is not harmful"
      ],
      "metadata": {
        "id": "53qK-d2jSa6g"
      },
      "execution_count": null,
      "outputs": []
    },
    {
      "cell_type": "code",
      "source": [
        "df = pd.read_csv('data.csv')\n",
        "\n",
        "df = df.fillna(30) #returns dataframe\n",
        "\n",
        "# df = df.fillna(np.mean(df['Age']))\n",
        "\n",
        "df"
      ],
      "metadata": {
        "id": "ZEO4EsEdSzM3"
      },
      "execution_count": null,
      "outputs": []
    },
    {
      "cell_type": "markdown",
      "source": [
        "# Adding A column"
      ],
      "metadata": {
        "id": "X-CzG0Ekq7xO"
      }
    },
    {
      "cell_type": "code",
      "source": [
        "df['summary'] = [\n",
        "                 \"Hello my... name/// is!.. hammad!\",\n",
        "                 \"Hello my... name/// is!.. ahsan!\",\n",
        "                 \"Hello my... name/// is!.. fawwad!\",\n",
        "                 \"Hello my... name/// is!.. ali!\",\n",
        "                 \"Hello my... name/// is!.. sarmad!\",\n",
        "]\n",
        "#notice how it is not normal\n",
        "df"
      ],
      "metadata": {
        "id": "ziH1Tam9q6ki"
      },
      "execution_count": null,
      "outputs": []
    },
    {
      "cell_type": "markdown",
      "source": [
        "# Cleaning Data"
      ],
      "metadata": {
        "id": "QuRDUq4VqyRE"
      }
    },
    {
      "cell_type": "code",
      "source": [
        "import pandas as pd\n",
        "\n",
        "# df['summary'] = df['summary'].str.strip() #Remove leading/trailing whitespaces from string columns\n",
        "\n",
        "df['summary'] = df['summary'].str.lower() #lowercase/casefolding\n",
        "\n",
        "# df['summary'].replace({'old_value': 'new_value'}, inplace=True)\n",
        "\n",
        "df"
      ],
      "metadata": {
        "id": "-fUsL5TYq14Q"
      },
      "execution_count": null,
      "outputs": []
    },
    {
      "cell_type": "code",
      "source": [
        "df = df.replace({'summary': r'[^a-z0-9\\s]'}, '', regex=True) #regular expression\n",
        "\n",
        "df"
      ],
      "metadata": {
        "id": "O7bvL2Vrr87q"
      },
      "execution_count": null,
      "outputs": []
    },
    {
      "cell_type": "markdown",
      "source": [
        "# **Exporting Our New CSV**"
      ],
      "metadata": {
        "id": "QawwpQeZtQZs"
      }
    },
    {
      "cell_type": "code",
      "source": [
        "df.to_csv('data.csv')"
      ],
      "metadata": {
        "id": "PYTUVSretTls"
      },
      "execution_count": null,
      "outputs": []
    },
    {
      "cell_type": "code",
      "source": [
        "df = pd.read_csv('data.csv')\n",
        "df\n",
        "#notice how it auto-added a new column (unnamed)\n",
        "\n",
        "# df = df.drop(columns=columns_to_drop)"
      ],
      "metadata": {
        "id": "T-V7sqDaugUJ"
      },
      "execution_count": null,
      "outputs": []
    },
    {
      "cell_type": "markdown",
      "source": [
        "# Get name of column"
      ],
      "metadata": {
        "id": "QklcVue5vC2Y"
      }
    },
    {
      "cell_type": "code",
      "source": [
        "df.columns"
      ],
      "metadata": {
        "id": "I8BrVkT4vCWD"
      },
      "execution_count": null,
      "outputs": []
    },
    {
      "cell_type": "markdown",
      "source": [
        "# Drop the column"
      ],
      "metadata": {
        "id": "UviaMIKRvSvH"
      }
    },
    {
      "cell_type": "code",
      "source": [
        "df = df.drop(\"Unnamed: 0\",axis = 1) #axis is row or column\n",
        "\n",
        "df"
      ],
      "metadata": {
        "id": "mvz2u_r4vIOd"
      },
      "execution_count": null,
      "outputs": []
    },
    {
      "cell_type": "markdown",
      "source": [
        "# Fix the Error we did"
      ],
      "metadata": {
        "id": "E2G2RUMYvbJj"
      }
    },
    {
      "cell_type": "code",
      "source": [
        "df.to_csv(\"data.csv\",index = False)"
      ],
      "metadata": {
        "id": "EminllS8vdrs"
      },
      "execution_count": null,
      "outputs": []
    },
    {
      "cell_type": "code",
      "source": [
        "df = pd.read_csv('data.csv')\n",
        "df"
      ],
      "metadata": {
        "id": "mrvD9Fsnvkzd"
      },
      "execution_count": null,
      "outputs": []
    },
    {
      "cell_type": "markdown",
      "source": [
        "# **Day 4 continued in the next notebook**"
      ],
      "metadata": {
        "id": "ARAbBmYXWAsi"
      }
    }
  ]
}