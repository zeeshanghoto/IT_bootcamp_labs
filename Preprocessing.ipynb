{
  "nbformat": 4,
  "nbformat_minor": 0,
  "metadata": {
    "colab": {
      "provenance": []
    },
    "kernelspec": {
      "name": "python3",
      "display_name": "Python 3"
    },
    "language_info": {
      "name": "python"
    }
  },
  "cells": [
    {
      "cell_type": "code",
      "execution_count": null,
      "metadata": {
        "id": "UaOEwlplX3r-"
      },
      "outputs": [],
      "source": []
    },
    {
      "cell_type": "code",
      "execution_count": null,
      "metadata": {
        "id": "PBlB0fgJdOd_"
      },
      "outputs": [],
      "source": [
        "import pandas as pd\n",
        "df = pd.read_csv('agr_en_train.csv')\n",
        "df = df.dropna()\n",
        "devdf = pd.read_csv('agr_en_dev.csv')\n",
        "devdf = devdf.dropna()\n",
        "x = df.drop(['source','label'],axis = 1)\n",
        "devx = devdf.drop(['source','label'],axis = 1)\n",
        "devy = devdf['label']\n",
        "#x.columns = [''] * len(x.columns)\n",
        "y = df['label']\n",
        "x = x.append(devx)\n",
        "y = y.append(devy)\n",
        "print(x.shape,y.shape)\n",
        "print(type(x))"
      ]
    },
    {
      "cell_type": "code",
      "execution_count": null,
      "metadata": {
        "id": "OyUdKjLSfdaF"
      },
      "outputs": [],
      "source": [
        "import spacy\n",
        "import spacy as s\n",
        "from nltk import stem  # porter stemmer\n",
        "import os\n",
        "import pickle#storing and retreiving indexes\n",
        "from sklearn.feature_extraction.text import CountVectorizer\n",
        "from sklearn.feature_extraction.text import TfidfVectorizer,TfidfTransformer\n",
        "from sklearn.linear_model import LogisticRegression,LinearRegression\n",
        "from sklearn.model_selection import train_test_split\n",
        "from sklearn.ensemble import RandomForestRegressor,RandomForestClassifier\n",
        "from sklearn.tree import DecisionTreeClassifier,DecisionTreeRegressor\n",
        "from sklearn.svm import LinearSVC\n",
        "from sklearn.naive_bayes import MultinomialNB,BernoulliNB\n",
        "import tensorflow as tf\n",
        "from tensorflow.keras.layers import Embedding,LSTM,Dense,Dropout,SpatialDropout1D,Conv1D,MaxPooling1D,GRU,BatchNormalization\n",
        "from tensorflow.keras.layers import Input,Bidirectional,GlobalAveragePooling1D,GlobalMaxPooling1D,concatenate,LeakyReLU\n",
        "from tensorflow.keras.models import Sequential\n",
        "from tensorflow.keras import regularizers\n",
        "from tensorflow.keras import backend as K\n",
        "from tensorflow.keras.preprocessing.sequence import pad_sequences\n",
        "from tensorflow.keras.preprocessing.text import one_hot\n",
        "import numpy as np\n",
        "import spacy\n",
        "import spacy as s\n",
        "from nltk import stem  # porter stemmer"
      ]
    },
    {
      "cell_type": "code",
      "source": [
        "import re\n",
        "def preprocess_text(sen):\n",
        "\n",
        "    # Remove punctuations and numbers\n",
        "    sentence = re.sub('[^a-zA-Z]', ' ', sen)\n",
        "\n",
        "    # Single character removal\n",
        "    sentence = re.sub(r\"\\s+[a-zA-Z]\\s+\", ' ', sentence)\n",
        "\n",
        "    # Removing multiple spaces\n",
        "    sentence = re.sub(r'\\s+', ' ', sentence)\n",
        "\n",
        "    return sentence"
      ],
      "metadata": {
        "id": "n146kKbF4t4K"
      },
      "execution_count": null,
      "outputs": []
    },
    {
      "cell_type": "code",
      "source": [
        "import nltk\n",
        "nltk.download('stopwords')\n",
        "from nltk.corpus import stopwords\n",
        "sw_nltk = stopwords.words('english')\n",
        "sw_nltk"
      ],
      "metadata": {
        "id": "fJaON_C2jMEW"
      },
      "execution_count": null,
      "outputs": []
    }
  ]
}